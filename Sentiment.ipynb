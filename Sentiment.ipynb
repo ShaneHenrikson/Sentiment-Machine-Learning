{
 "cells": [
  {
   "cell_type": "code",
   "execution_count": 3,
   "metadata": {},
   "outputs": [
    {
     "name": "stdout",
     "output_type": "stream",
     "text": [
      "Collecting tensorflow\n",
      "  Using cached tensorflow-2.17.0-cp311-cp311-win_amd64.whl.metadata (3.2 kB)\n",
      "Requirement already satisfied: tensorflow-intel==2.17.0 in c:\\users\\c830277\\desktop\\python\\sentiment\\lib\\site-packages (from tensorflow) (2.17.0)\n",
      "Requirement already satisfied: absl-py>=1.0.0 in c:\\users\\c830277\\desktop\\python\\sentiment\\lib\\site-packages (from tensorflow-intel==2.17.0->tensorflow) (2.1.0)\n",
      "Requirement already satisfied: astunparse>=1.6.0 in c:\\users\\c830277\\desktop\\python\\sentiment\\lib\\site-packages (from tensorflow-intel==2.17.0->tensorflow) (1.6.3)\n",
      "Requirement already satisfied: flatbuffers>=24.3.25 in c:\\users\\c830277\\desktop\\python\\sentiment\\lib\\site-packages (from tensorflow-intel==2.17.0->tensorflow) (24.3.25)\n",
      "Requirement already satisfied: gast!=0.5.0,!=0.5.1,!=0.5.2,>=0.2.1 in c:\\users\\c830277\\desktop\\python\\sentiment\\lib\\site-packages (from tensorflow-intel==2.17.0->tensorflow) (0.6.0)\n",
      "Requirement already satisfied: google-pasta>=0.1.1 in c:\\users\\c830277\\desktop\\python\\sentiment\\lib\\site-packages (from tensorflow-intel==2.17.0->tensorflow) (0.2.0)\n",
      "Requirement already satisfied: h5py>=3.10.0 in c:\\users\\c830277\\desktop\\python\\sentiment\\lib\\site-packages (from tensorflow-intel==2.17.0->tensorflow) (3.11.0)\n",
      "Requirement already satisfied: libclang>=13.0.0 in c:\\users\\c830277\\desktop\\python\\sentiment\\lib\\site-packages (from tensorflow-intel==2.17.0->tensorflow) (18.1.1)\n",
      "Requirement already satisfied: ml-dtypes<0.5.0,>=0.3.1 in c:\\users\\c830277\\desktop\\python\\sentiment\\lib\\site-packages (from tensorflow-intel==2.17.0->tensorflow) (0.4.1)\n",
      "Requirement already satisfied: opt-einsum>=2.3.2 in c:\\users\\c830277\\desktop\\python\\sentiment\\lib\\site-packages (from tensorflow-intel==2.17.0->tensorflow) (3.3.0)\n",
      "Requirement already satisfied: packaging in c:\\users\\c830277\\desktop\\python\\sentiment\\lib\\site-packages (from tensorflow-intel==2.17.0->tensorflow) (24.1)\n",
      "Requirement already satisfied: protobuf!=4.21.0,!=4.21.1,!=4.21.2,!=4.21.3,!=4.21.4,!=4.21.5,<5.0.0dev,>=3.20.3 in c:\\users\\c830277\\desktop\\python\\sentiment\\lib\\site-packages (from tensorflow-intel==2.17.0->tensorflow) (4.25.4)\n",
      "Requirement already satisfied: requests<3,>=2.21.0 in c:\\users\\c830277\\desktop\\python\\sentiment\\lib\\site-packages (from tensorflow-intel==2.17.0->tensorflow) (2.32.3)\n",
      "Requirement already satisfied: setuptools in c:\\users\\c830277\\desktop\\python\\sentiment\\lib\\site-packages (from tensorflow-intel==2.17.0->tensorflow) (65.5.0)\n",
      "Requirement already satisfied: six>=1.12.0 in c:\\users\\c830277\\desktop\\python\\sentiment\\lib\\site-packages (from tensorflow-intel==2.17.0->tensorflow) (1.16.0)\n",
      "Requirement already satisfied: termcolor>=1.1.0 in c:\\users\\c830277\\desktop\\python\\sentiment\\lib\\site-packages (from tensorflow-intel==2.17.0->tensorflow) (2.4.0)\n",
      "Requirement already satisfied: typing-extensions>=3.6.6 in c:\\users\\c830277\\desktop\\python\\sentiment\\lib\\site-packages (from tensorflow-intel==2.17.0->tensorflow) (4.12.2)\n",
      "Requirement already satisfied: wrapt>=1.11.0 in c:\\users\\c830277\\desktop\\python\\sentiment\\lib\\site-packages (from tensorflow-intel==2.17.0->tensorflow) (1.16.0)\n",
      "Requirement already satisfied: grpcio<2.0,>=1.24.3 in c:\\users\\c830277\\desktop\\python\\sentiment\\lib\\site-packages (from tensorflow-intel==2.17.0->tensorflow) (1.66.1)\n",
      "Requirement already satisfied: tensorboard<2.18,>=2.17 in c:\\users\\c830277\\desktop\\python\\sentiment\\lib\\site-packages (from tensorflow-intel==2.17.0->tensorflow) (2.17.1)\n",
      "Requirement already satisfied: keras>=3.2.0 in c:\\users\\c830277\\desktop\\python\\sentiment\\lib\\site-packages (from tensorflow-intel==2.17.0->tensorflow) (3.5.0)\n",
      "Requirement already satisfied: tensorflow-io-gcs-filesystem>=0.23.1 in c:\\users\\c830277\\desktop\\python\\sentiment\\lib\\site-packages (from tensorflow-intel==2.17.0->tensorflow) (0.31.0)\n",
      "Requirement already satisfied: numpy<2.0.0,>=1.23.5 in c:\\users\\c830277\\desktop\\python\\sentiment\\lib\\site-packages (from tensorflow-intel==2.17.0->tensorflow) (1.26.4)\n",
      "Requirement already satisfied: wheel<1.0,>=0.23.0 in c:\\users\\c830277\\desktop\\python\\sentiment\\lib\\site-packages (from astunparse>=1.6.0->tensorflow-intel==2.17.0->tensorflow) (0.44.0)\n",
      "Requirement already satisfied: rich in c:\\users\\c830277\\desktop\\python\\sentiment\\lib\\site-packages (from keras>=3.2.0->tensorflow-intel==2.17.0->tensorflow) (13.8.1)\n",
      "Requirement already satisfied: namex in c:\\users\\c830277\\desktop\\python\\sentiment\\lib\\site-packages (from keras>=3.2.0->tensorflow-intel==2.17.0->tensorflow) (0.0.8)\n",
      "Requirement already satisfied: optree in c:\\users\\c830277\\desktop\\python\\sentiment\\lib\\site-packages (from keras>=3.2.0->tensorflow-intel==2.17.0->tensorflow) (0.12.1)\n",
      "Requirement already satisfied: charset-normalizer<4,>=2 in c:\\users\\c830277\\desktop\\python\\sentiment\\lib\\site-packages (from requests<3,>=2.21.0->tensorflow-intel==2.17.0->tensorflow) (3.3.2)\n",
      "Requirement already satisfied: idna<4,>=2.5 in c:\\users\\c830277\\desktop\\python\\sentiment\\lib\\site-packages (from requests<3,>=2.21.0->tensorflow-intel==2.17.0->tensorflow) (3.8)\n",
      "Requirement already satisfied: urllib3<3,>=1.21.1 in c:\\users\\c830277\\desktop\\python\\sentiment\\lib\\site-packages (from requests<3,>=2.21.0->tensorflow-intel==2.17.0->tensorflow) (2.2.3)\n",
      "Requirement already satisfied: certifi>=2017.4.17 in c:\\users\\c830277\\desktop\\python\\sentiment\\lib\\site-packages (from requests<3,>=2.21.0->tensorflow-intel==2.17.0->tensorflow) (2024.8.30)\n",
      "Requirement already satisfied: markdown>=2.6.8 in c:\\users\\c830277\\desktop\\python\\sentiment\\lib\\site-packages (from tensorboard<2.18,>=2.17->tensorflow-intel==2.17.0->tensorflow) (3.7)\n",
      "Requirement already satisfied: tensorboard-data-server<0.8.0,>=0.7.0 in c:\\users\\c830277\\desktop\\python\\sentiment\\lib\\site-packages (from tensorboard<2.18,>=2.17->tensorflow-intel==2.17.0->tensorflow) (0.7.2)\n",
      "Requirement already satisfied: werkzeug>=1.0.1 in c:\\users\\c830277\\desktop\\python\\sentiment\\lib\\site-packages (from tensorboard<2.18,>=2.17->tensorflow-intel==2.17.0->tensorflow) (3.0.4)\n",
      "Requirement already satisfied: MarkupSafe>=2.1.1 in c:\\users\\c830277\\desktop\\python\\sentiment\\lib\\site-packages (from werkzeug>=1.0.1->tensorboard<2.18,>=2.17->tensorflow-intel==2.17.0->tensorflow) (2.1.5)\n",
      "Requirement already satisfied: markdown-it-py>=2.2.0 in c:\\users\\c830277\\desktop\\python\\sentiment\\lib\\site-packages (from rich->keras>=3.2.0->tensorflow-intel==2.17.0->tensorflow) (3.0.0)\n",
      "Requirement already satisfied: pygments<3.0.0,>=2.13.0 in c:\\users\\c830277\\desktop\\python\\sentiment\\lib\\site-packages (from rich->keras>=3.2.0->tensorflow-intel==2.17.0->tensorflow) (2.18.0)\n",
      "Requirement already satisfied: mdurl~=0.1 in c:\\users\\c830277\\desktop\\python\\sentiment\\lib\\site-packages (from markdown-it-py>=2.2.0->rich->keras>=3.2.0->tensorflow-intel==2.17.0->tensorflow) (0.1.2)\n",
      "Using cached tensorflow-2.17.0-cp311-cp311-win_amd64.whl (2.0 kB)\n",
      "Installing collected packages: tensorflow\n",
      "Successfully installed tensorflow-2.17.0\n"
     ]
    }
   ],
   "source": [
    "!pip install tensorflow"
   ]
  },
  {
   "cell_type": "code",
   "execution_count": 4,
   "metadata": {},
   "outputs": [
    {
     "name": "stdout",
     "output_type": "stream",
     "text": [
      "Requirement already satisfied: matplotlib in c:\\users\\c830277\\desktop\\python\\sentiment\\lib\\site-packages (3.9.2)\n",
      "Requirement already satisfied: contourpy>=1.0.1 in c:\\users\\c830277\\desktop\\python\\sentiment\\lib\\site-packages (from matplotlib) (1.3.0)\n",
      "Requirement already satisfied: cycler>=0.10 in c:\\users\\c830277\\desktop\\python\\sentiment\\lib\\site-packages (from matplotlib) (0.12.1)\n",
      "Requirement already satisfied: fonttools>=4.22.0 in c:\\users\\c830277\\desktop\\python\\sentiment\\lib\\site-packages (from matplotlib) (4.53.1)\n",
      "Requirement already satisfied: kiwisolver>=1.3.1 in c:\\users\\c830277\\desktop\\python\\sentiment\\lib\\site-packages (from matplotlib) (1.4.7)\n",
      "Requirement already satisfied: numpy>=1.23 in c:\\users\\c830277\\desktop\\python\\sentiment\\lib\\site-packages (from matplotlib) (1.26.4)\n",
      "Requirement already satisfied: packaging>=20.0 in c:\\users\\c830277\\desktop\\python\\sentiment\\lib\\site-packages (from matplotlib) (24.1)\n",
      "Requirement already satisfied: pillow>=8 in c:\\users\\c830277\\desktop\\python\\sentiment\\lib\\site-packages (from matplotlib) (10.4.0)\n",
      "Requirement already satisfied: pyparsing>=2.3.1 in c:\\users\\c830277\\desktop\\python\\sentiment\\lib\\site-packages (from matplotlib) (3.1.4)\n",
      "Requirement already satisfied: python-dateutil>=2.7 in c:\\users\\c830277\\desktop\\python\\sentiment\\lib\\site-packages (from matplotlib) (2.9.0.post0)\n",
      "Requirement already satisfied: six>=1.5 in c:\\users\\c830277\\desktop\\python\\sentiment\\lib\\site-packages (from python-dateutil>=2.7->matplotlib) (1.16.0)\n"
     ]
    }
   ],
   "source": [
    "!pip install matplotlib"
   ]
  },
  {
   "cell_type": "markdown",
   "metadata": {},
   "source": [
    "Next step:\n",
    "Importing Libraries: The code starts by importing TensorFlow and a specific dataset from Keras.\n",
    "Loading Data: It loads movie review data from the IMDb dataset.\n",
    "Limiting Vocabulary: The num_words=10000 part ensures that only the 10,000 most common words in the reviews are used."
   ]
  },
  {
   "cell_type": "code",
   "execution_count": 3,
   "metadata": {},
   "outputs": [],
   "source": [
    "import tensorflow as tf\n",
    "from tensorflow.keras.datasets import imdb\n",
    "\n",
    "# Load IMDB dataset\n",
    "(train_data, train_labels), (test_data, test_labels) = imdb.load_data(num_words=10000)\n"
   ]
  },
  {
   "cell_type": "markdown",
   "metadata": {},
   "source": [
    "Next step:\n",
    "Viewing Data: The code prints the first movie review and its corresponding label.\n",
    "Review Content: train_data[0] shows the actual review (as a list of word indices).\n",
    "Review Label: train_labels[0] shows the label (0 for negative, 1 for positive)."
   ]
  },
  {
   "cell_type": "code",
   "execution_count": 4,
   "metadata": {},
   "outputs": [
    {
     "name": "stdout",
     "output_type": "stream",
     "text": [
      "[1, 14, 22, 16, 43, 530, 973, 1622, 1385, 65, 458, 4468, 66, 3941, 4, 173, 36, 256, 5, 25, 100, 43, 838, 112, 50, 670, 2, 9, 35, 480, 284, 5, 150, 4, 172, 112, 167, 2, 336, 385, 39, 4, 172, 4536, 1111, 17, 546, 38, 13, 447, 4, 192, 50, 16, 6, 147, 2025, 19, 14, 22, 4, 1920, 4613, 469, 4, 22, 71, 87, 12, 16, 43, 530, 38, 76, 15, 13, 1247, 4, 22, 17, 515, 17, 12, 16, 626, 18, 2, 5, 62, 386, 12, 8, 316, 8, 106, 5, 4, 2223, 5244, 16, 480, 66, 3785, 33, 4, 130, 12, 16, 38, 619, 5, 25, 124, 51, 36, 135, 48, 25, 1415, 33, 6, 22, 12, 215, 28, 77, 52, 5, 14, 407, 16, 82, 2, 8, 4, 107, 117, 5952, 15, 256, 4, 2, 7, 3766, 5, 723, 36, 71, 43, 530, 476, 26, 400, 317, 46, 7, 4, 2, 1029, 13, 104, 88, 4, 381, 15, 297, 98, 32, 2071, 56, 26, 141, 6, 194, 7486, 18, 4, 226, 22, 21, 134, 476, 26, 480, 5, 144, 30, 5535, 18, 51, 36, 28, 224, 92, 25, 104, 4, 226, 65, 16, 38, 1334, 88, 12, 16, 283, 5, 16, 4472, 113, 103, 32, 15, 16, 5345, 19, 178, 32]\n",
      "1\n"
     ]
    }
   ],
   "source": [
    "# View the first review\n",
    "print(train_data[0])\n",
    "print(train_labels[0])\n"
   ]
  },
  {
   "cell_type": "markdown",
   "metadata": {},
   "source": [
    "Next step:\n",
    "Mapping Words to Numbers: The code creates a dictionary that maps words to unique numbers.\n",
    "Reserving Indices: It reserves the first few numbers for special tokens like padding (<PAD>), start of a review (<START>), unknown words (<UNK>), and unused tokens (<UNUSED>).\n",
    "Reversing the Mapping: It then creates a reverse dictionary to map numbers back to words.\n",
    "Decoding Function: The decode_review function converts a list of numbers back into a readable review.\n",
    "Printing the Review: Finally, it decodes and prints the first review in the dataset."
   ]
  },
  {
   "cell_type": "code",
   "execution_count": 5,
   "metadata": {},
   "outputs": [
    {
     "name": "stdout",
     "output_type": "stream",
     "text": [
      "<START> this film was just brilliant casting location scenery story direction everyone's really suited the part they played and you could just imagine being there robert <UNK> is an amazing actor and now the same being director <UNK> father came from the same scottish island as myself so i loved the fact there was a real connection with this film the witty remarks throughout the film were great it was just brilliant so much that i bought the film as soon as it was released for <UNK> and would recommend it to everyone to watch and the fly fishing was amazing really cried at the end it was so sad and you know what they say if you cry at a film it must have been good and this definitely was also <UNK> to the two little boy's that played the <UNK> of norman and paul they were just brilliant children are often left out of the <UNK> list i think because the stars that play them all grown up are such a big profile for the whole film but these children are amazing and should be praised for what they have done don't you think the whole story was so lovely because it was true and was someone's life after all that was shared with us all\n"
     ]
    }
   ],
   "source": [
    "# A dictionary mapping words to an integer index\n",
    "word_index = imdb.get_word_index()\n",
    "\n",
    "# The first indices are reserved\n",
    "word_index = {k: (v + 3) for k, v in word_index.items()}\n",
    "word_index[\"<PAD>\"] = 0\n",
    "word_index[\"<START>\"] = 1\n",
    "word_index[\"<UNK>\"] = 2  # unknown\n",
    "word_index[\"<UNUSED>\"] = 3\n",
    "\n",
    "# Reverse the word index to map integers back to words\n",
    "reverse_word_index = {value: key for key, value in word_index.items()}\n",
    "\n",
    "# Decode function\n",
    "def decode_review(text):\n",
    "    return ' '.join([reverse_word_index.get(i, '?') for i in text])\n",
    "\n",
    "# Decode and print the first review\n",
    "print(decode_review(train_data[0]))\n"
   ]
  },
  {
   "cell_type": "markdown",
   "metadata": {},
   "source": [
    "Next steps:\n",
    "Counting Reviews: The code prints the number of reviews in the training and test datasets.\n",
    "Training Data: len(train_data) gives the total number of training reviews.\n",
    "Test Data: len(test_data) gives the total number of test reviews."
   ]
  },
  {
   "cell_type": "code",
   "execution_count": 6,
   "metadata": {},
   "outputs": [
    {
     "name": "stdout",
     "output_type": "stream",
     "text": [
      "Training data: 25000 reviews\n",
      "Test data: 25000 reviews\n"
     ]
    }
   ],
   "source": [
    "print(f\"Training data: {len(train_data)} reviews\")\n",
    "print(f\"Test data: {len(test_data)} reviews\")\n"
   ]
  },
  {
   "cell_type": "markdown",
   "metadata": {},
   "source": [
    "Next steps:\n",
    "Length of First Review: The code prints the length (number of words) of the first review.\n",
    "Review Lengths: It calculates the lengths of all reviews in the training data.\n",
    "Plotting Distribution: It uses matplotlib to create a histogram showing the distribution of review lengths.\n",
    "Histogram Details: The histogram has 50 bins, with the x-axis representing review lengths and the y-axis showing how often each length occurs."
   ]
  },
  {
   "cell_type": "code",
   "execution_count": 7,
   "metadata": {},
   "outputs": [
    {
     "name": "stdout",
     "output_type": "stream",
     "text": [
      "218\n"
     ]
    },
    {
     "data": {
      "image/png": "[encoded data removed]",
      "text/plain": [
       "<Figure size 640x480 with 1 Axes>"
      ]
     },
     "metadata": {},
     "output_type": "display_data"
    }
   ],
   "source": [
    "# Length of the first review\n",
    "print(len(train_data[0]))\n",
    "\n",
    "# Distribution of review lengths\n",
    "review_lengths = [len(review) for review in train_data]\n",
    "import matplotlib.pyplot as plt\n",
    "\n",
    "plt.hist(review_lengths, bins=50)\n",
    "plt.xlabel('Review Length')\n",
    "plt.ylabel('Frequency')\n",
    "plt.show()\n"
   ]
  },
  {
   "cell_type": "markdown",
   "metadata": {},
   "source": [
    "Next step:\n",
    "Importing Library: The code imports the numpy library for numerical operations.\n",
    "Counting Positive Reviews: It calculates the total number of positive reviews by summing up the labels (where 1 indicates a positive review).\n",
    "Counting Negative Reviews: It calculates the total number of negative reviews by subtracting the number of positive reviews from the total number of reviews.\n",
    "Printing Counts: Finally, it prints the counts of positive and negative reviews."
   ]
  },
  {
   "cell_type": "code",
   "execution_count": 8,
   "metadata": {},
   "outputs": [
    {
     "name": "stdout",
     "output_type": "stream",
     "text": [
      "Positive reviews: 12500\n",
      "Negative reviews: 12500\n"
     ]
    }
   ],
   "source": [
    "import numpy as np\n",
    "\n",
    "# Count the number of positive and negative labels\n",
    "positive_reviews = np.sum(train_labels)\n",
    "negative_reviews = len(train_labels) - positive_reviews\n",
    "\n",
    "print(f\"Positive reviews: {positive_reviews}\")\n",
    "print(f\"Negative reviews: {negative_reviews}\")\n"
   ]
  },
  {
   "cell_type": "markdown",
   "metadata": {},
   "source": [
    "Next step:\n",
    "Installing package scikit-learn"
   ]
  },
  {
   "cell_type": "code",
   "execution_count": 9,
   "metadata": {},
   "outputs": [
    {
     "name": "stdout",
     "output_type": "stream",
     "text": [
      "Requirement already satisfied: scikit-learn in c:\\users\\c830277\\desktop\\python\\sentiment\\lib\\site-packages (1.5.2)\n",
      "Requirement already satisfied: numpy>=1.19.5 in c:\\users\\c830277\\desktop\\python\\sentiment\\lib\\site-packages (from scikit-learn) (1.26.4)\n",
      "Requirement already satisfied: scipy>=1.6.0 in c:\\users\\c830277\\desktop\\python\\sentiment\\lib\\site-packages (from scikit-learn) (1.14.1)\n",
      "Requirement already satisfied: joblib>=1.2.0 in c:\\users\\c830277\\desktop\\python\\sentiment\\lib\\site-packages (from scikit-learn) (1.4.2)\n",
      "Requirement already satisfied: threadpoolctl>=3.1.0 in c:\\users\\c830277\\desktop\\python\\sentiment\\lib\\site-packages (from scikit-learn) (3.5.0)\n"
     ]
    }
   ],
   "source": [
    "!pip install scikit-learn"
   ]
  },
  {
   "cell_type": "markdown",
   "metadata": {},
   "source": [
    "Next steps:\n",
    "Importing Libraries: The code imports necessary libraries for text processing, data splitting, and machine learning.\n",
    "Decoding Reviews: It converts the reviews from numerical format back into text.\n",
    "Splitting Data: It splits the data into training and validation sets, with 20% of the data used for validation.\n",
    "Vectorizing Text: It uses TF-IDF (Term Frequency-Inverse Document Frequency) to convert the text into numerical features, focusing on the top 10,000 words."
   ]
  },
  {
   "cell_type": "code",
   "execution_count": 10,
   "metadata": {},
   "outputs": [],
   "source": [
    "from sklearn.feature_extraction.text import TfidfVectorizer\n",
    "from sklearn.model_selection import train_test_split\n",
    "from sklearn.linear_model import LogisticRegression\n",
    "from sklearn.metrics import accuracy_score\n",
    "\n",
    "# Decode the reviews back into text\n",
    "train_text = [decode_review(review) for review in train_data]\n",
    "test_text = [decode_review(review) for review in test_data]\n",
    "\n",
    "# Split data into training and validation sets\n",
    "X_train, X_val, y_train, y_val = train_test_split(train_text, train_labels, test_size=0.2, random_state=42)\n",
    "\n",
    "# Vectorize the text using TF-IDF\n",
    "vectorizer = TfidfVectorizer(max_features=10000)  # Limit to top 10,000 words\n",
    "X_train_tfidf = vectorizer.fit_transform(X_train)\n",
    "X_val_tfidf = vectorizer.transform(X_val)\n"
   ]
  },
  {
   "cell_type": "markdown",
   "metadata": {},
   "source": [
    "Next steps:\n",
    "Training the Model: The code trains a Logistic Regression model using the TF-IDF features from the training data.\n",
    "Making Predictions: It predicts the labels for the validation data.\n",
    "Evaluating the Model: It calculates the accuracy of the model by comparing the predicted labels with the actual labels.\n",
    "Printing Accuracy: Finally, it prints the validation accuracy as a percentage."
   ]
  },
  {
   "cell_type": "code",
   "execution_count": 11,
   "metadata": {},
   "outputs": [
    {
     "name": "stdout",
     "output_type": "stream",
     "text": [
      "Validation Accuracy: 88.30%\n"
     ]
    }
   ],
   "source": [
    "# Train a Logistic Regression model\n",
    "model_lr = LogisticRegression(max_iter=1000)\n",
    "model_lr.fit(X_train_tfidf, y_train)\n",
    "\n",
    "# Predict on validation data using Logistic Regression model\n",
    "y_pred_lr = model_lr.predict(X_val_tfidf)  # Ensure this returns binary predictions\n",
    "\n",
    "# Evaluate the Logistic Regression model\n",
    "accuracy = accuracy_score(y_val, y_pred_lr)\n",
    "print(f\"Validation Accuracy: {accuracy * 100:.2f}%\")\n",
    "\n"
   ]
  },
  {
   "cell_type": "markdown",
   "metadata": {},
   "source": [
    "Next steps:\n",
    "Importing Library: The code imports a function for padding sequences from TensorFlow’s Keras module.\n",
    "Setting Maximum Length: It sets a maximum length of 500 words for each review.\n",
    "Padding Sequences: It pads the reviews so that all of them have the same length (500 words), adding padding at the end (padding='post').\n",
    "\n",
    "This ensures that all reviews are of uniform length, which is necessary for many machine learning models."
   ]
  },
  {
   "cell_type": "code",
   "execution_count": 12,
   "metadata": {},
   "outputs": [],
   "source": [
    "from tensorflow.keras.preprocessing.sequence import pad_sequences\n",
    "\n",
    "# Set a maximum review length\n",
    "max_length = 500\n",
    "\n",
    "# Pad the sequences so that all reviews have the same length\n",
    "X_train_padded = pad_sequences(train_data, maxlen=max_length, padding='post')\n",
    "X_test_padded = pad_sequences(test_data, maxlen=max_length, padding='post')\n"
   ]
  },
  {
   "cell_type": "markdown",
   "metadata": {},
   "source": [
    "Next step:\n",
    "\n",
    "Importing Libraries: The code imports necessary components for building a neural network from TensorFlow’s Keras module.\n",
    "\n",
    "Defining the Model: It creates a Sequential model and adds layers:\n",
    "Embedding Layer: Converts word indices into dense vectors of fixed size (32 dimensions).\n",
    "LSTM Layer: Adds a Long Short-Term Memory (LSTM) layer with 32 units to capture sequential dependencies.\n",
    "Dense Layer: Adds a Dense layer with a sigmoid activation function for binary classification.\n",
    "\n",
    "Compiling the Model: It compiles the model using the Adam optimizer and binary cross-entropy loss, and sets accuracy as a metric.\n",
    "\n",
    "Training the Model: It trains the model on the padded training data for 5 epochs, with a batch size of 64, and uses 20% of the data for validation."
   ]
  },
  {
   "cell_type": "code",
   "execution_count": 13,
   "metadata": {},
   "outputs": [
    {
     "name": "stdout",
     "output_type": "stream",
     "text": [
      "Epoch 1/5\n"
     ]
    },
    {
     "name": "stderr",
     "output_type": "stream",
     "text": [
      "c:\\Users\\C830277\\Desktop\\Python\\sentiment\\Lib\\site-packages\\keras\\src\\layers\\core\\embedding.py:90: UserWarning: Argument `input_length` is deprecated. Just remove it.\n",
      "  warnings.warn(\n"
     ]
    },
    {
     "name": "stdout",
     "output_type": "stream",
     "text": [
      "\u001b[1m313/313\u001b[0m \u001b[32m━━━━━━━━━━━━━━━━━━━━\u001b[0m\u001b[37m\u001b[0m \u001b[1m71s\u001b[0m 222ms/step - accuracy: 0.4983 - loss: 0.6935 - val_accuracy: 0.5008 - val_loss: 0.6996\n",
      "Epoch 2/5\n",
      "\u001b[1m313/313\u001b[0m \u001b[32m━━━━━━━━━━━━━━━━━━━━\u001b[0m\u001b[37m\u001b[0m \u001b[1m87s\u001b[0m 237ms/step - accuracy: 0.5122 - loss: 0.6894 - val_accuracy: 0.5160 - val_loss: 0.6881\n",
      "Epoch 3/5\n",
      "\u001b[1m313/313\u001b[0m \u001b[32m━━━━━━━━━━━━━━━━━━━━\u001b[0m\u001b[37m\u001b[0m \u001b[1m74s\u001b[0m 237ms/step - accuracy: 0.5298 - loss: 0.6700 - val_accuracy: 0.5178 - val_loss: 0.7031\n",
      "Epoch 4/5\n",
      "\u001b[1m313/313\u001b[0m \u001b[32m━━━━━━━━━━━━━━━━━━━━\u001b[0m\u001b[37m\u001b[0m \u001b[1m61s\u001b[0m 194ms/step - accuracy: 0.5337 - loss: 0.6514 - val_accuracy: 0.5278 - val_loss: 0.6845\n",
      "Epoch 5/5\n",
      "\u001b[1m313/313\u001b[0m \u001b[32m━━━━━━━━━━━━━━━━━━━━\u001b[0m\u001b[37m\u001b[0m \u001b[1m50s\u001b[0m 159ms/step - accuracy: 0.5388 - loss: 0.6409 - val_accuracy: 0.5162 - val_loss: 0.7115\n"
     ]
    }
   ],
   "source": [
    "from tensorflow.keras.models import Sequential\n",
    "from tensorflow.keras.layers import Embedding, LSTM, Dense\n",
    "\n",
    "# Define the LSTM model\n",
    "model = Sequential()\n",
    "model.add(Embedding(input_dim=10000, output_dim=32, input_length=max_length))\n",
    "model.add(LSTM(units=32))\n",
    "model.add(Dense(1, activation='sigmoid'))\n",
    "\n",
    "# Compile the model\n",
    "model.compile(optimizer='adam', loss='binary_crossentropy', metrics=['accuracy'])\n",
    "\n",
    "# Train the model\n",
    "history = model.fit(X_train_padded, train_labels, epochs=5, batch_size=64, validation_split=0.2)\n"
   ]
  },
  {
   "cell_type": "markdown",
   "metadata": {},
   "source": [
    "Next step:\n",
    "Evaluating the Model: The code evaluates the trained model on the test data.\n",
    "Calculating Metrics: It calculates the loss and accuracy on the test set.\n",
    "Printing Accuracy: Finally, it prints the test accuracy as a percentage."
   ]
  },
  {
   "cell_type": "code",
   "execution_count": 14,
   "metadata": {},
   "outputs": [
    {
     "name": "stdout",
     "output_type": "stream",
     "text": [
      "\u001b[1m782/782\u001b[0m \u001b[32m━━━━━━━━━━━━━━━━━━━━\u001b[0m\u001b[37m\u001b[0m \u001b[1m44s\u001b[0m 56ms/step - accuracy: 0.5048 - loss: 0.7095\n",
      "Test Accuracy: 51.32%\n"
     ]
    }
   ],
   "source": [
    "# Evaluate on test data\n",
    "test_loss, test_acc = model.evaluate(X_test_padded, test_labels)\n",
    "print(f\"Test Accuracy: {test_acc * 100:.2f}%\")\n"
   ]
  },
  {
   "cell_type": "markdown",
   "metadata": {},
   "source": [
    "Next step:\n",
    "Importing Library: The code imports the classification_report function from sklearn.metrics.\n",
    "Generating Report: It creates a classification report for the Bag-of-Words model, comparing the true labels (y_val) with the predicted labels (y_pred).\n",
    "Target Names: It labels the classes as ‘Negative’ and ‘Positive’.\n",
    "Printing Report: Finally, it prints the evaluation report, which includes precision, recall, and F1-score for each class."
   ]
  },
  {
   "cell_type": "code",
   "execution_count": 15,
   "metadata": {},
   "outputs": [
    {
     "name": "stdout",
     "output_type": "stream",
     "text": [
      "Validation Accuracy: 88.30%\n",
      "Logistic Regression Model Evaluation:\n",
      "               precision    recall  f1-score   support\n",
      "\n",
      "    Negative       0.89      0.87      0.88      2437\n",
      "    Positive       0.88      0.90      0.89      2563\n",
      "\n",
      "    accuracy                           0.88      5000\n",
      "   macro avg       0.88      0.88      0.88      5000\n",
      "weighted avg       0.88      0.88      0.88      5000\n",
      "\n"
     ]
    }
   ],
   "source": [
    "import tensorflow as tf\n",
    "from tensorflow.keras.datasets import imdb\n",
    "from sklearn.model_selection import train_test_split\n",
    "from sklearn.metrics import accuracy_score, classification_report\n",
    "from sklearn.feature_extraction.text import TfidfVectorizer\n",
    "from sklearn.linear_model import LogisticRegression\n",
    "\n",
    "# Load the dataset\n",
    "(train_data, train_labels), (test_data, test_labels) = imdb.load_data(num_words=10000)\n",
    "\n",
    "# A dictionary mapping words to an integer index\n",
    "word_index = imdb.get_word_index()\n",
    "\n",
    "# The first indices are reserved\n",
    "word_index = {k: (v + 3) for k, v in word_index.items()}\n",
    "word_index[\"<PAD>\"] = 0\n",
    "word_index[\"<START>\"] = 1\n",
    "word_index[\"<UNK>\"] = 2  # unknown\n",
    "word_index[\"<UNUSED>\"] = 3\n",
    "\n",
    "# Reverse the word index to map integers back to words\n",
    "reverse_word_index = {value: key for key, value in word_index.items()}\n",
    "\n",
    "# Decode function\n",
    "def decode_review(text):\n",
    "    return ' '.join([reverse_word_index.get(i, '?') for i in text])\n",
    "\n",
    "# Decode the reviews back into text\n",
    "train_text = [decode_review(review) for review in train_data]\n",
    "test_text = [decode_review(review) for review in test_data]\n",
    "\n",
    "# Split data into training and validation sets\n",
    "X_train, X_val, y_train, y_val = train_test_split(train_text, train_labels, test_size=0.2, random_state=42)\n",
    "\n",
    "# Vectorize the text using TF-IDF\n",
    "vectorizer = TfidfVectorizer(max_features=10000)  # Limit to top 10,000 words\n",
    "X_train_tfidf = vectorizer.fit_transform(X_train)\n",
    "X_val_tfidf = vectorizer.transform(X_val)\n",
    "\n",
    "# Train a Logistic Regression model\n",
    "model_lr = LogisticRegression(max_iter=1000)\n",
    "model_lr.fit(X_train_tfidf, y_train)\n",
    "\n",
    "# Predict on validation data using Logistic Regression model\n",
    "y_pred_lr = model_lr.predict(X_val_tfidf)  # Ensure this returns binary predictions\n",
    "\n",
    "# Evaluate the Logistic Regression model\n",
    "accuracy = accuracy_score(y_val, y_pred_lr)\n",
    "print(f\"Validation Accuracy: {accuracy * 100:.2f}%\")\n",
    "\n",
    "# Get the classification report for the Logistic Regression model\n",
    "bow_class_report = classification_report(y_val, y_pred_lr, target_names=['Negative', 'Positive'])\n",
    "print(\"Logistic Regression Model Evaluation:\\n\", bow_class_report)\n"
   ]
  },
  {
   "cell_type": "markdown",
   "metadata": {},
   "source": [
    "Next step: \n",
    "Importing Library: The code imports the classification_report function from sklearn.metrics.\n",
    "Generating Report: It creates a classification report for the Bag-of-Words model, comparing the true labels (y_val) with the predicted labels (y_pred).\n",
    "Target Names: It labels the classes as ‘Negative’ and ‘Positive’.\n",
    "Printing Report: Finally, it prints the evaluation report, which includes precision, recall, and F1-score for each class."
   ]
  },
  {
   "cell_type": "code",
   "execution_count": 16,
   "metadata": {},
   "outputs": [
    {
     "name": "stdout",
     "output_type": "stream",
     "text": [
      "Epoch 1/5\n"
     ]
    },
    {
     "name": "stderr",
     "output_type": "stream",
     "text": [
      "c:\\Users\\C830277\\Desktop\\Python\\sentiment\\Lib\\site-packages\\keras\\src\\layers\\core\\embedding.py:90: UserWarning: Argument `input_length` is deprecated. Just remove it.\n",
      "  warnings.warn(\n"
     ]
    },
    {
     "name": "stdout",
     "output_type": "stream",
     "text": [
      "\u001b[1m313/313\u001b[0m \u001b[32m━━━━━━━━━━━━━━━━━━━━\u001b[0m\u001b[37m\u001b[0m \u001b[1m83s\u001b[0m 250ms/step - accuracy: 0.5009 - loss: 0.6933 - val_accuracy: 0.5054 - val_loss: 0.6925\n",
      "Epoch 2/5\n",
      "\u001b[1m313/313\u001b[0m \u001b[32m━━━━━━━━━━━━━━━━━━━━\u001b[0m\u001b[37m\u001b[0m \u001b[1m52s\u001b[0m 154ms/step - accuracy: 0.5180 - loss: 0.6848 - val_accuracy: 0.5090 - val_loss: 0.6878\n",
      "Epoch 3/5\n",
      "\u001b[1m313/313\u001b[0m \u001b[32m━━━━━━━━━━━━━━━━━━━━\u001b[0m\u001b[37m\u001b[0m \u001b[1m45s\u001b[0m 145ms/step - accuracy: 0.5245 - loss: 0.6640 - val_accuracy: 0.5136 - val_loss: 0.6939\n",
      "Epoch 4/5\n",
      "\u001b[1m313/313\u001b[0m \u001b[32m━━━━━━━━━━━━━━━━━━━━\u001b[0m\u001b[37m\u001b[0m \u001b[1m46s\u001b[0m 147ms/step - accuracy: 0.5406 - loss: 0.6447 - val_accuracy: 0.5230 - val_loss: 0.7059\n",
      "Epoch 5/5\n",
      "\u001b[1m313/313\u001b[0m \u001b[32m━━━━━━━━━━━━━━━━━━━━\u001b[0m\u001b[37m\u001b[0m \u001b[1m46s\u001b[0m 146ms/step - accuracy: 0.5443 - loss: 0.6363 - val_accuracy: 0.5210 - val_loss: 0.7520\n",
      "\u001b[1m782/782\u001b[0m \u001b[32m━━━━━━━━━━━━━━━━━━━━\u001b[0m\u001b[37m\u001b[0m \u001b[1m32s\u001b[0m 40ms/step\n",
      "LSTM Model Evaluation:\n",
      "               precision    recall  f1-score   support\n",
      "\n",
      "    Negative       0.51      0.95      0.67     12500\n",
      "    Positive       0.65      0.09      0.16     12500\n",
      "\n",
      "    accuracy                           0.52     25000\n",
      "   macro avg       0.58      0.52      0.41     25000\n",
      "weighted avg       0.58      0.52      0.41     25000\n",
      "\n"
     ]
    }
   ],
   "source": [
    "import tensorflow as tf\n",
    "from tensorflow.keras.models import Sequential\n",
    "from tensorflow.keras.layers import Embedding, LSTM, Dense\n",
    "from tensorflow.keras.preprocessing.sequence import pad_sequences\n",
    "from sklearn.metrics import classification_report\n",
    "from tensorflow.keras.datasets import imdb\n",
    "\n",
    "# Load the IMDb dataset\n",
    "(train_data, train_labels), (test_data, test_labels) = imdb.load_data(num_words=10000)\n",
    "\n",
    "# Set a maximum review length\n",
    "max_length = 500\n",
    "\n",
    "# Pad the sequences so that all reviews have the same length\n",
    "X_train_padded = pad_sequences(train_data, maxlen=max_length, padding='post')\n",
    "X_test_padded = pad_sequences(test_data, maxlen=max_length, padding='post')\n",
    "\n",
    "# Define the LSTM model\n",
    "model = Sequential()\n",
    "model.add(Embedding(input_dim=10000, output_dim=32, input_length=max_length))\n",
    "model.add(LSTM(units=32))\n",
    "model.add(Dense(1, activation='sigmoid'))\n",
    "\n",
    "# Compile the model\n",
    "model.compile(optimizer='adam', loss='binary_crossentropy', metrics=['accuracy'])\n",
    "\n",
    "# Train the model\n",
    "history = model.fit(X_train_padded, train_labels, epochs=5, batch_size=64, validation_split=0.2)\n",
    "\n",
    "# Predict on the test data\n",
    "y_test_pred = (model.predict(X_test_padded) > 0.5).astype(\"int32\")\n",
    "\n",
    "# Get the classification report for the LSTM model\n",
    "lstm_class_report = classification_report(test_labels, y_test_pred, target_names=['Negative', 'Positive'])\n",
    "print(\"LSTM Model Evaluation:\\n\", lstm_class_report)\n",
    "\n"
   ]
  },
  {
   "cell_type": "markdown",
   "metadata": {},
   "source": [
    "Next step:\n",
    "Finding Misclassified Reviews: The code identifies the indices of reviews where the true labels don’t match the predicted labels.\n",
    "Decoding Reviews: It decodes these misclassified reviews back into text.\n",
    "Printing Examples: It prints a few examples of these misclassified reviews, along with their true and predicted labels."
   ]
  },
  {
   "cell_type": "code",
   "execution_count": 17,
   "metadata": {},
   "outputs": [
    {
     "name": "stdout",
     "output_type": "stream",
     "text": [
      "Review: <START> this film requires a lot of patience because it focuses on mood and character development the plot is very simple and many of the scenes take place on the same set in frances <UNK> the sandy dennis character apartment but the film builds to a disturbing climax br br the characters create an atmosphere <UNK> with sexual tension and psychological <UNK> it's very interesting that robert altman directed this considering the style and structure of his other films still the trademark altman audio style is evident here and there i think what really makes this film work is the brilliant performance by sandy dennis it's definitely one of her darker characters but she plays it so perfectly and convincingly that it's scary michael burns does a good job as the mute young man regular altman player michael murphy has a small part the <UNK> moody set fits the content of the story very well in short this movie is a powerful study of loneliness sexual <UNK> and desperation be patient <UNK> up the atmosphere and pay attention to the wonderfully written script br br i praise robert altman this is one of his many films that deals with unconventional fascinating subject matter this film is disturbing but it's sincere and it's sure to <UNK> a strong emotional response from the viewer if you want to see an unusual film some might even say bizarre this is worth the time br br unfortunately it's very difficult to find in video stores you may have to buy it off the internet <PAD> <PAD> <PAD> <PAD> <PAD> <PAD> <PAD> <PAD> <PAD> <PAD> <PAD> <PAD> <PAD> <PAD> <PAD> <PAD> <PAD> <PAD> <PAD> <PAD> <PAD> <PAD> <PAD> <PAD> <PAD> <PAD> <PAD> <PAD> <PAD> <PAD> <PAD> <PAD> <PAD> <PAD> <PAD> <PAD> <PAD> <PAD> <PAD> <PAD> <PAD> <PAD> <PAD> <PAD> <PAD> <PAD> <PAD> <PAD> <PAD> <PAD> <PAD> <PAD> <PAD> <PAD> <PAD> <PAD> <PAD> <PAD> <PAD> <PAD> <PAD> <PAD> <PAD> <PAD> <PAD> <PAD> <PAD> <PAD> <PAD> <PAD> <PAD> <PAD> <PAD> <PAD> <PAD> <PAD> <PAD> <PAD> <PAD> <PAD> <PAD> <PAD> <PAD> <PAD> <PAD> <PAD> <PAD> <PAD> <PAD> <PAD> <PAD> <PAD> <PAD> <PAD> <PAD> <PAD> <PAD> <PAD> <PAD> <PAD> <PAD> <PAD> <PAD> <PAD> <PAD> <PAD> <PAD> <PAD> <PAD> <PAD> <PAD> <PAD> <PAD> <PAD> <PAD> <PAD> <PAD> <PAD> <PAD> <PAD> <PAD> <PAD> <PAD> <PAD> <PAD> <PAD> <PAD> <PAD> <PAD> <PAD> <PAD> <PAD> <PAD> <PAD> <PAD> <PAD> <PAD> <PAD> <PAD> <PAD> <PAD> <PAD> <PAD> <PAD> <PAD> <PAD> <PAD> <PAD> <PAD> <PAD> <PAD> <PAD> <PAD> <PAD> <PAD> <PAD> <PAD> <PAD> <PAD> <PAD> <PAD> <PAD> <PAD> <PAD> <PAD> <PAD> <PAD> <PAD> <PAD> <PAD> <PAD> <PAD> <PAD> <PAD> <PAD> <PAD> <PAD> <PAD> <PAD> <PAD> <PAD> <PAD> <PAD> <PAD> <PAD> <PAD> <PAD> <PAD> <PAD> <PAD> <PAD> <PAD> <PAD> <PAD> <PAD> <PAD> <PAD> <PAD> <PAD> <PAD> <PAD> <PAD> <PAD> <PAD> <PAD> <PAD> <PAD> <PAD> <PAD> <PAD> <PAD> <PAD> <PAD> <PAD> <PAD> <PAD> <PAD> <PAD> <PAD> <PAD> <PAD> <PAD> <PAD> <PAD> <PAD> <PAD> <PAD> <PAD> <PAD> <PAD> <PAD> <PAD> <PAD> <PAD> <PAD> <PAD> <PAD> <PAD> <PAD> <PAD>\n",
      "True label: 1\n",
      "Predicted label: [0]\n",
      "\n",
      "Review: <START> like some other people wrote i'm a die hard mario fan and i loved this game br br this game starts slightly boring but trust me it's worth it as soon as you start your hooked the levels are fun and <UNK> they will hook you <UNK> your mind turns to <UNK> i'm not kidding this game is also <UNK> and is beautifully done br br to keep this spoiler free i have to keep my mouth shut about details but please try this game it'll be worth it br br story 9 9 action 10 1 it's that good <UNK> 10 attention <UNK> 10 average 10 <PAD> <PAD> <PAD> <PAD> <PAD> <PAD> <PAD> <PAD> <PAD> <PAD> <PAD> <PAD> <PAD> <PAD> <PAD> <PAD> <PAD> <PAD> <PAD> <PAD> <PAD> <PAD> <PAD> <PAD> <PAD> <PAD> <PAD> <PAD> <PAD> <PAD> <PAD> <PAD> <PAD> <PAD> <PAD> <PAD> <PAD> <PAD> <PAD> <PAD> <PAD> <PAD> <PAD> <PAD> <PAD> <PAD> <PAD> <PAD> <PAD> <PAD> <PAD> <PAD> <PAD> <PAD> <PAD> <PAD> <PAD> <PAD> <PAD> <PAD> <PAD> <PAD> <PAD> <PAD> <PAD> <PAD> <PAD> <PAD> <PAD> <PAD> <PAD> <PAD> <PAD> <PAD> <PAD> <PAD> <PAD> <PAD> <PAD> <PAD> <PAD> <PAD> <PAD> <PAD> <PAD> <PAD> <PAD> <PAD> <PAD> <PAD> <PAD> <PAD> <PAD> <PAD> <PAD> <PAD> <PAD> <PAD> <PAD> <PAD> <PAD> <PAD> <PAD> <PAD> <PAD> <PAD> <PAD> <PAD> <PAD> <PAD> <PAD> <PAD> <PAD> <PAD> <PAD> <PAD> <PAD> <PAD> <PAD> <PAD> <PAD> <PAD> <PAD> <PAD> <PAD> <PAD> <PAD> <PAD> <PAD> <PAD> <PAD> <PAD> <PAD> <PAD> <PAD> <PAD> <PAD> <PAD> <PAD> <PAD> <PAD> <PAD> <PAD> <PAD> <PAD> <PAD> <PAD> <PAD> <PAD> <PAD> <PAD> <PAD> <PAD> <PAD> <PAD> <PAD> <PAD> <PAD> <PAD> <PAD> <PAD> <PAD> <PAD> <PAD> <PAD> <PAD> <PAD> <PAD> <PAD> <PAD> <PAD> <PAD> <PAD> <PAD> <PAD> <PAD> <PAD> <PAD> <PAD> <PAD> <PAD> <PAD> <PAD> <PAD> <PAD> <PAD> <PAD> <PAD> <PAD> <PAD> <PAD> <PAD> <PAD> <PAD> <PAD> <PAD> <PAD> <PAD> <PAD> <PAD> <PAD> <PAD> <PAD> <PAD> <PAD> <PAD> <PAD> <PAD> <PAD> <PAD> <PAD> <PAD> <PAD> <PAD> <PAD> <PAD> <PAD> <PAD> <PAD> <PAD> <PAD> <PAD> <PAD> <PAD> <PAD> <PAD> <PAD> <PAD> <PAD> <PAD> <PAD> <PAD> <PAD> <PAD> <PAD> <PAD> <PAD> <PAD> <PAD> <PAD> <PAD> <PAD> <PAD> <PAD> <PAD> <PAD> <PAD> <PAD> <PAD> <PAD> <PAD> <PAD> <PAD> <PAD> <PAD> <PAD> <PAD> <PAD> <PAD> <PAD> <PAD> <PAD> <PAD> <PAD> <PAD> <PAD> <PAD> <PAD> <PAD> <PAD> <PAD> <PAD> <PAD> <PAD> <PAD> <PAD> <PAD> <PAD> <PAD> <PAD> <PAD> <PAD> <PAD> <PAD> <PAD> <PAD> <PAD> <PAD> <PAD> <PAD> <PAD> <PAD> <PAD> <PAD> <PAD> <PAD> <PAD> <PAD> <PAD> <PAD> <PAD> <PAD> <PAD> <PAD> <PAD> <PAD> <PAD> <PAD> <PAD> <PAD> <PAD> <PAD> <PAD> <PAD> <PAD> <PAD> <PAD> <PAD> <PAD> <PAD> <PAD> <PAD> <PAD> <PAD> <PAD> <PAD> <PAD> <PAD> <PAD> <PAD> <PAD> <PAD> <PAD> <PAD> <PAD> <PAD> <PAD> <PAD> <PAD> <PAD> <PAD> <PAD> <PAD> <PAD> <PAD> <PAD> <PAD> <PAD> <PAD> <PAD> <PAD> <PAD> <PAD> <PAD> <PAD> <PAD> <PAD> <PAD> <PAD> <PAD> <PAD> <PAD> <PAD> <PAD> <PAD> <PAD> <PAD> <PAD> <PAD> <PAD> <PAD> <PAD> <PAD> <PAD> <PAD> <PAD> <PAD> <PAD> <PAD> <PAD> <PAD> <PAD> <PAD> <PAD> <PAD> <PAD> <PAD> <PAD> <PAD> <PAD> <PAD> <PAD>\n",
      "True label: 1\n",
      "Predicted label: [0]\n",
      "\n",
      "Review: <START> i'm absolutely disgusted this movie isn't being sold all who love this movie should email disney and increase the demand for it they'd eventually have to sell it then i'd buy copies for everybody i know everything and everybody in this movie did a good job and i haven't figured out why disney hasn't put this movie on dvd or on vhs in rental stores at least i haven't seen any copies this is a wicked good movie and should be seen by all the kids in the new generation don't get to see it and i think they should it should at least be put back on the channel this movie doesn't deserve a cheap <UNK> it deserves the real thing i'm them now this movie will be on dvd <PAD> <PAD> <PAD> <PAD> <PAD> <PAD> <PAD> <PAD> <PAD> <PAD> <PAD> <PAD> <PAD> <PAD> <PAD> <PAD> <PAD> <PAD> <PAD> <PAD> <PAD> <PAD> <PAD> <PAD> <PAD> <PAD> <PAD> <PAD> <PAD> <PAD> <PAD> <PAD> <PAD> <PAD> <PAD> <PAD> <PAD> <PAD> <PAD> <PAD> <PAD> <PAD> <PAD> <PAD> <PAD> <PAD> <PAD> <PAD> <PAD> <PAD> <PAD> <PAD> <PAD> <PAD> <PAD> <PAD> <PAD> <PAD> <PAD> <PAD> <PAD> <PAD> <PAD> <PAD> <PAD> <PAD> <PAD> <PAD> <PAD> <PAD> <PAD> <PAD> <PAD> <PAD> <PAD> <PAD> <PAD> <PAD> <PAD> <PAD> <PAD> <PAD> <PAD> <PAD> <PAD> <PAD> <PAD> <PAD> <PAD> <PAD> <PAD> <PAD> <PAD> <PAD> <PAD> <PAD> <PAD> <PAD> <PAD> <PAD> <PAD> <PAD> <PAD> <PAD> <PAD> <PAD> <PAD> <PAD> <PAD> <PAD> <PAD> <PAD> <PAD> <PAD> <PAD> <PAD> <PAD> <PAD> <PAD> <PAD> <PAD> <PAD> <PAD> <PAD> <PAD> <PAD> <PAD> <PAD> <PAD> <PAD> <PAD> <PAD> <PAD> <PAD> <PAD> <PAD> <PAD> <PAD> <PAD> <PAD> <PAD> <PAD> <PAD> <PAD> <PAD> <PAD> <PAD> <PAD> <PAD> <PAD> <PAD> <PAD> <PAD> <PAD> <PAD> <PAD> <PAD> <PAD> <PAD> <PAD> <PAD> <PAD> <PAD> <PAD> <PAD> <PAD> <PAD> <PAD> <PAD> <PAD> <PAD> <PAD> <PAD> <PAD> <PAD> <PAD> <PAD> <PAD> <PAD> <PAD> <PAD> <PAD> <PAD> <PAD> <PAD> <PAD> <PAD> <PAD> <PAD> <PAD> <PAD> <PAD> <PAD> <PAD> <PAD> <PAD> <PAD> <PAD> <PAD> <PAD> <PAD> <PAD> <PAD> <PAD> <PAD> <PAD> <PAD> <PAD> <PAD> <PAD> <PAD> <PAD> <PAD> <PAD> <PAD> <PAD> <PAD> <PAD> <PAD> <PAD> <PAD> <PAD> <PAD> <PAD> <PAD> <PAD> <PAD> <PAD> <PAD> <PAD> <PAD> <PAD> <PAD> <PAD> <PAD> <PAD> <PAD> <PAD> <PAD> <PAD> <PAD> <PAD> <PAD> <PAD> <PAD> <PAD> <PAD> <PAD> <PAD> <PAD> <PAD> <PAD> <PAD> <PAD> <PAD> <PAD> <PAD> <PAD> <PAD> <PAD> <PAD> <PAD> <PAD> <PAD> <PAD> <PAD> <PAD> <PAD> <PAD> <PAD> <PAD> <PAD> <PAD> <PAD> <PAD> <PAD> <PAD> <PAD> <PAD> <PAD> <PAD> <PAD> <PAD> <PAD> <PAD> <PAD> <PAD> <PAD> <PAD> <PAD> <PAD> <PAD> <PAD> <PAD> <PAD> <PAD> <PAD> <PAD> <PAD> <PAD> <PAD> <PAD> <PAD> <PAD> <PAD> <PAD> <PAD> <PAD> <PAD> <PAD> <PAD> <PAD> <PAD> <PAD> <PAD> <PAD> <PAD> <PAD> <PAD> <PAD> <PAD> <PAD> <PAD> <PAD> <PAD> <PAD> <PAD> <PAD> <PAD> <PAD> <PAD> <PAD> <PAD> <PAD> <PAD> <PAD> <PAD> <PAD> <PAD> <PAD> <PAD> <PAD> <PAD> <PAD> <PAD> <PAD> <PAD> <PAD> <PAD> <PAD> <PAD> <PAD> <PAD> <PAD> <PAD> <PAD> <PAD> <PAD> <PAD> <PAD> <PAD> <PAD> <PAD> <PAD> <PAD> <PAD> <PAD> <PAD>\n",
      "True label: 1\n",
      "Predicted label: [0]\n",
      "\n",
      "Review: <START> this film is where the batman franchise ought to have stopped though i will <UNK> that the ideas behind batman forever were excellent and could have been easily realised by a competent director as it turned out this was not to be the case br br apparently warner brothers executives were disappointed with how dark this second batman film from tim burton turned out apart from the idiocy of expecting anything else from burton and the conservative <UNK> of their subsequent decision to turn the franchise into an homage to the sixties tv series i fail to understand how batman returns can be considered at all disappointing br br true it is not quite the equal of the first film though it <UNK> all the minor <UNK> of style found in batman a weaker script that <UNK> the <UNK> between not just two but three characters invites <UNK> comparisons to the masterful pairing of keaton and jack nicholson as the joker in the first film yet for all this it remains a <UNK> dark film true to the way the batman was always meant to be and highly satisfying br br michael keaton returns as the batman and his alter ego bruce wayne with <UNK> max <UNK> christopher walken named in honour of the 1920s german silent actor his partner in crime <UNK> <UNK> the penguin danny <UNK> in brilliant makeup reminiscent of laurence <UNK> richard iii and <UNK> kyle the <UNK> michelle pfeiffer whom wayne romances both as himself and as the batman the four principals turn in excellent performances especially walken and <UNK> while together keaton and pfeiffer explore the darker side of double identities br br there are some intriguing concepts in this film about the only weakness i can really point out is a certain to the script in some places which i think is due mostly to the way this film is a four <UNK> fight there simply isn't enough time to properly explore what's going on br br nevertheless this is a damn good film i highly recommend watching this in <UNK> with the first and then <UNK> for how good the series could have been had it continued under burton and keaton <PAD> <PAD> <PAD> <PAD> <PAD> <PAD> <PAD> <PAD> <PAD> <PAD> <PAD> <PAD> <PAD> <PAD> <PAD> <PAD> <PAD> <PAD> <PAD> <PAD> <PAD> <PAD> <PAD> <PAD> <PAD> <PAD> <PAD> <PAD> <PAD> <PAD> <PAD> <PAD> <PAD> <PAD> <PAD> <PAD> <PAD> <PAD> <PAD> <PAD> <PAD> <PAD> <PAD> <PAD> <PAD> <PAD> <PAD> <PAD> <PAD> <PAD> <PAD> <PAD> <PAD> <PAD> <PAD> <PAD> <PAD> <PAD> <PAD> <PAD> <PAD> <PAD> <PAD> <PAD> <PAD> <PAD> <PAD> <PAD> <PAD> <PAD> <PAD> <PAD> <PAD> <PAD> <PAD> <PAD> <PAD> <PAD> <PAD> <PAD> <PAD> <PAD> <PAD> <PAD> <PAD> <PAD> <PAD> <PAD> <PAD> <PAD> <PAD> <PAD> <PAD> <PAD> <PAD> <PAD> <PAD> <PAD> <PAD> <PAD> <PAD> <PAD> <PAD> <PAD> <PAD> <PAD> <PAD> <PAD> <PAD> <PAD> <PAD> <PAD> <PAD> <PAD> <PAD> <PAD> <PAD> <PAD> <PAD> <PAD> <PAD> <PAD> <PAD> <PAD> <PAD> <PAD> <PAD> <PAD> <PAD> <PAD>\n",
      "True label: 1\n",
      "Predicted label: [0]\n",
      "\n",
      "Review: <START> inspired by hitchcock's strangers on a train concept of two men <UNK> murders in exchange for getting rid of the two people messing up their lives throw <UNK> from the train is an original and very inventive comedy take on the idea it's a credit to danny <UNK> that he both wrote and starred in this minor comedy gem br br anne <UNK> is the mother who <UNK> the film's title and it's understandable why she gets under the skin of danny <UNK> with her sharp tongue and relentlessly putting him down for any minor <UNK> billy crystal is the writer who's wife has stolen his book idea and is now being <UNK> as a great new author even appearing on the oprah show to in <UNK> he should be enjoying thus <UNK> gets the idea of <UNK> murders to rid themselves of these <UNK> factors br br of course everything and anything can happen when writer carl <UNK> lets his imagination <UNK> with <UNK> ideas for how the plot develops and it's amusing all the way through providing plenty of laughs and chuckles along the way as well as a good deal of suspense br br for <UNK> of black comedy this one is guaranteed to please <PAD> <PAD> <PAD> <PAD> <PAD> <PAD> <PAD> <PAD> <PAD> <PAD> <PAD> <PAD> <PAD> <PAD> <PAD> <PAD> <PAD> <PAD> <PAD> <PAD> <PAD> <PAD> <PAD> <PAD> <PAD> <PAD> <PAD> <PAD> <PAD> <PAD> <PAD> <PAD> <PAD> <PAD> <PAD> <PAD> <PAD> <PAD> <PAD> <PAD> <PAD> <PAD> <PAD> <PAD> <PAD> <PAD> <PAD> <PAD> <PAD> <PAD> <PAD> <PAD> <PAD> <PAD> <PAD> <PAD> <PAD> <PAD> <PAD> <PAD> <PAD> <PAD> <PAD> <PAD> <PAD> <PAD> <PAD> <PAD> <PAD> <PAD> <PAD> <PAD> <PAD> <PAD> <PAD> <PAD> <PAD> <PAD> <PAD> <PAD> <PAD> <PAD> <PAD> <PAD> <PAD> <PAD> <PAD> <PAD> <PAD> <PAD> <PAD> <PAD> <PAD> <PAD> <PAD> <PAD> <PAD> <PAD> <PAD> <PAD> <PAD> <PAD> <PAD> <PAD> <PAD> <PAD> <PAD> <PAD> <PAD> <PAD> <PAD> <PAD> <PAD> <PAD> <PAD> <PAD> <PAD> <PAD> <PAD> <PAD> <PAD> <PAD> <PAD> <PAD> <PAD> <PAD> <PAD> <PAD> <PAD> <PAD> <PAD> <PAD> <PAD> <PAD> <PAD> <PAD> <PAD> <PAD> <PAD> <PAD> <PAD> <PAD> <PAD> <PAD> <PAD> <PAD> <PAD> <PAD> <PAD> <PAD> <PAD> <PAD> <PAD> <PAD> <PAD> <PAD> <PAD> <PAD> <PAD> <PAD> <PAD> <PAD> <PAD> <PAD> <PAD> <PAD> <PAD> <PAD> <PAD> <PAD> <PAD> <PAD> <PAD> <PAD> <PAD> <PAD> <PAD> <PAD> <PAD> <PAD> <PAD> <PAD> <PAD> <PAD> <PAD> <PAD> <PAD> <PAD> <PAD> <PAD> <PAD> <PAD> <PAD> <PAD> <PAD> <PAD> <PAD> <PAD> <PAD> <PAD> <PAD> <PAD> <PAD> <PAD> <PAD> <PAD> <PAD> <PAD> <PAD> <PAD> <PAD> <PAD> <PAD> <PAD> <PAD> <PAD> <PAD> <PAD> <PAD> <PAD> <PAD> <PAD> <PAD> <PAD> <PAD> <PAD> <PAD> <PAD> <PAD> <PAD> <PAD> <PAD> <PAD> <PAD> <PAD> <PAD> <PAD> <PAD> <PAD> <PAD> <PAD> <PAD> <PAD> <PAD> <PAD> <PAD> <PAD> <PAD> <PAD> <PAD> <PAD> <PAD> <PAD> <PAD> <PAD> <PAD> <PAD> <PAD> <PAD> <PAD> <PAD> <PAD> <PAD> <PAD> <PAD> <PAD> <PAD> <PAD> <PAD> <PAD> <PAD> <PAD> <PAD> <PAD> <PAD> <PAD> <PAD> <PAD> <PAD> <PAD> <PAD> <PAD> <PAD> <PAD> <PAD> <PAD> <PAD> <PAD> <PAD> <PAD> <PAD>\n",
      "True label: 1\n",
      "Predicted label: [0]\n",
      "\n"
     ]
    }
   ],
   "source": [
    "# Extract misclassified reviews for the LSTM model\n",
    "misclassified_indices = [i for i in range(len(test_labels)) if test_labels[i] != y_test_pred[i]]\n",
    "misclassified_reviews = [decode_review(X_test_padded[i]) for i in misclassified_indices]\n",
    "\n",
    "# Print a few examples\n",
    "for i in range(5):\n",
    "    print(\"Review:\", misclassified_reviews[i])\n",
    "    print(\"True label:\", test_labels[misclassified_indices[i]])\n",
    "    print(\"Predicted label:\", y_test_pred[misclassified_indices[i]])\n",
    "    print()\n"
   ]
  },
  {
   "cell_type": "markdown",
   "metadata": {},
   "source": [
    "Next step:\n",
    "Defining a New Model: The code defines a new LSTM model with increased complexity:\n",
    "Embedding Layer: Converts word indices into dense vectors with 64 dimensions (higher than before).\n",
    "LSTM Layer: Adds an LSTM layer with 64 units (more than before).\n",
    "Dense Layer: Adds a Dense layer with a sigmoid activation function for binary classification.\n",
    "Compiling the Model: It compiles the model using the Adam optimizer and binary cross-entropy loss, and sets accuracy as a metric.\n",
    "Training the Model: It trains the model on the padded training data for 5 epochs, with a batch size of 64, and uses 20% of the data for validation."
   ]
  },
  {
   "cell_type": "code",
   "execution_count": 18,
   "metadata": {},
   "outputs": [
    {
     "name": "stdout",
     "output_type": "stream",
     "text": [
      "Epoch 1/5\n"
     ]
    },
    {
     "name": "stderr",
     "output_type": "stream",
     "text": [
      "c:\\Users\\C830277\\Desktop\\Python\\sentiment\\Lib\\site-packages\\keras\\src\\layers\\core\\embedding.py:90: UserWarning: Argument `input_length` is deprecated. Just remove it.\n",
      "  warnings.warn(\n"
     ]
    },
    {
     "name": "stdout",
     "output_type": "stream",
     "text": [
      "\u001b[1m313/313\u001b[0m \u001b[32m━━━━━━━━━━━━━━━━━━━━\u001b[0m\u001b[37m\u001b[0m \u001b[1m81s\u001b[0m 251ms/step - accuracy: 0.4927 - loss: 0.6934 - val_accuracy: 0.4970 - val_loss: 0.6923\n",
      "Epoch 2/5\n",
      "\u001b[1m313/313\u001b[0m \u001b[32m━━━━━━━━━━━━━━━━━━━━\u001b[0m\u001b[37m\u001b[0m \u001b[1m80s\u001b[0m 256ms/step - accuracy: 0.5127 - loss: 0.6973 - val_accuracy: 0.5042 - val_loss: 0.6885\n",
      "Epoch 3/5\n",
      "\u001b[1m313/313\u001b[0m \u001b[32m━━━━━━━━━━━━━━━━━━━━\u001b[0m\u001b[37m\u001b[0m \u001b[1m81s\u001b[0m 259ms/step - accuracy: 0.5308 - loss: 0.6665 - val_accuracy: 0.5156 - val_loss: 0.6940\n",
      "Epoch 4/5\n",
      "\u001b[1m313/313\u001b[0m \u001b[32m━━━━━━━━━━━━━━━━━━━━\u001b[0m\u001b[37m\u001b[0m \u001b[1m115s\u001b[0m 369ms/step - accuracy: 0.5365 - loss: 0.6457 - val_accuracy: 0.5112 - val_loss: 0.7038\n",
      "Epoch 5/5\n",
      "\u001b[1m313/313\u001b[0m \u001b[32m━━━━━━━━━━━━━━━━━━━━\u001b[0m\u001b[37m\u001b[0m \u001b[1m120s\u001b[0m 382ms/step - accuracy: 0.5464 - loss: 0.6371 - val_accuracy: 0.5056 - val_loss: 0.7116\n"
     ]
    }
   ],
   "source": [
    "# Define a new LSTM model with more units and a higher embedding dimension\n",
    "model = Sequential()\n",
    "model.add(Embedding(input_dim=10000, output_dim=64, input_length=max_length))  # Increased embedding dimension\n",
    "model.add(LSTM(units=64))  # Increased LSTM units\n",
    "model.add(Dense(1, activation='sigmoid'))\n",
    "\n",
    "# Compile the model\n",
    "model.compile(optimizer='adam', loss='binary_crossentropy', metrics=['accuracy'])\n",
    "\n",
    "# Train the model\n",
    "history = model.fit(X_train_padded, train_labels, epochs=5, batch_size=64, validation_split=0.2)\n"
   ]
  },
  {
   "cell_type": "markdown",
   "metadata": {},
   "source": [
    "Next step:\n",
    "Changing Learning Rate: The code compiles the model with the Adam optimizer, but with a lower learning rate of 0.0005.\n",
    "Compiling the Model: It uses binary cross-entropy as the loss function and tracks accuracy as a metric.\n",
    "Retraining the Model: It retrains the model on the padded training data for 5 epochs, with a batch size of 64, and uses 20% of the data for validation."
   ]
  },
  {
   "cell_type": "code",
   "execution_count": 19,
   "metadata": {},
   "outputs": [
    {
     "name": "stdout",
     "output_type": "stream",
     "text": [
      "Epoch 1/5\n"
     ]
    },
    {
     "name": "stdout",
     "output_type": "stream",
     "text": [
      "\u001b[1m313/313\u001b[0m \u001b[32m━━━━━━━━━━━━━━━━━━━━\u001b[0m\u001b[37m\u001b[0m \u001b[1m126s\u001b[0m 390ms/step - accuracy: 0.5474 - loss: 0.6329 - val_accuracy: 0.5184 - val_loss: 0.7455\n",
      "Epoch 2/5\n",
      "\u001b[1m313/313\u001b[0m \u001b[32m━━━━━━━━━━━━━━━━━━━━\u001b[0m\u001b[37m\u001b[0m \u001b[1m122s\u001b[0m 389ms/step - accuracy: 0.5539 - loss: 0.6317 - val_accuracy: 0.5030 - val_loss: 0.7138\n",
      "Epoch 3/5\n",
      "\u001b[1m313/313\u001b[0m \u001b[32m━━━━━━━━━━━━━━━━━━━━\u001b[0m\u001b[37m\u001b[0m \u001b[1m125s\u001b[0m 400ms/step - accuracy: 0.5448 - loss: 0.6324 - val_accuracy: 0.5178 - val_loss: 0.7219\n",
      "Epoch 4/5\n",
      "\u001b[1m313/313\u001b[0m \u001b[32m━━━━━━━━━━━━━━━━━━━━\u001b[0m\u001b[37m\u001b[0m \u001b[1m135s\u001b[0m 376ms/step - accuracy: 0.5403 - loss: 0.6313 - val_accuracy: 0.5116 - val_loss: 0.7565\n",
      "Epoch 5/5\n",
      "\u001b[1m313/313\u001b[0m \u001b[32m━━━━━━━━━━━━━━━━━━━━\u001b[0m\u001b[37m\u001b[0m \u001b[1m123s\u001b[0m 392ms/step - accuracy: 0.5397 - loss: 0.6306 - val_accuracy: 0.5164 - val_loss: 0.7403\n"
     ]
    }
   ],
   "source": [
    "from tensorflow.keras.optimizers import Adam\n",
    "\n",
    "# Define the model with a different learning rate\n",
    "model.compile(optimizer=Adam(learning_rate=0.0005),  # Decreased learning rate\n",
    "              loss='binary_crossentropy', metrics=['accuracy'])\n",
    "\n",
    "# Retrain the model\n",
    "history = model.fit(X_train_padded, train_labels, epochs=5, batch_size=64, validation_split=0.2)\n"
   ]
  },
  {
   "cell_type": "markdown",
   "metadata": {},
   "source": [
    "Next step: Importing Libraries: The code imports TensorFlow and the IMDB dataset module from Keras.\n",
    "Loading Dataset: It loads the IMDB dataset, including only the 10,000 most frequently occurring words.\n",
    "Splitting Data: The dataset is split into training and testing sets, with train_data and test_data containing the reviews, and train_labels and test_labels containing the sentiment labels (positive or negative)."
   ]
  },
  {
   "cell_type": "code",
   "execution_count": 20,
   "metadata": {},
   "outputs": [],
   "source": [
    "import tensorflow as tf\n",
    "from tensorflow.keras.datasets import imdb\n",
    "\n",
    "# Load the dataset with the top 10,000 most frequent words\n",
    "(train_data, train_labels), (test_data, test_labels) = imdb.load_data(num_words=10000)\n"
   ]
  },
  {
   "cell_type": "markdown",
   "metadata": {},
   "source": [
    "Next Step: Mapping Words to Indices: The code creates a dictionary that maps words to integer indices using the IMDB dataset’s word index.\n",
    "Reserving Indices: It reserves the first few indices for special tokens like padding (<PAD>), start of sequence (<START>), unknown words (<UNK>), and unused tokens (<UNUSED>).\n",
    "Reversing the Word Index: The code reverses the word index to map integers back to words.\n",
    "Decoding Function: It defines a function to decode a sequence of integers back into a readable review text.\n",
    "Decoding Reviews: The code decodes the training and testing reviews back into text format using the defined function."
   ]
  },
  {
   "cell_type": "code",
   "execution_count": 21,
   "metadata": {},
   "outputs": [],
   "source": [
    "# A dictionary mapping words to an integer index\n",
    "word_index = imdb.get_word_index()\n",
    "\n",
    "# The first indices are reserved\n",
    "word_index = {k: (v + 3) for k, v in word_index.items()}\n",
    "word_index[\"<PAD>\"] = 0\n",
    "word_index[\"<START>\"] = 1\n",
    "word_index[\"<UNK>\"] = 2  # unknown\n",
    "word_index[\"<UNUSED>\"] = 3\n",
    "\n",
    "# Reverse the word index to map integers back to words\n",
    "reverse_word_index = {value: key for key, value in word_index.items()}\n",
    "\n",
    "# Decode function\n",
    "def decode_review(text):\n",
    "    return ' '.join([reverse_word_index.get(i, '?') for i in text])\n",
    "\n",
    "# Decode the reviews back into text\n",
    "train_text = [decode_review(review) for review in train_data]\n",
    "test_text = [decode_review(review) for review in test_data]\n"
   ]
  },
  {
   "cell_type": "markdown",
   "metadata": {},
   "source": [
    "Next step: \n",
    "Tokenizing Text: The code initializes a tokenizer to process the text data, limiting it to the top 10,000 words.\n",
    "Fitting Tokenizer: It fits the tokenizer on the decoded training text data to create a word index.\n",
    "Creating Sequences: The reviews are converted into sequences of integers based on the word index.\n",
    "Padding Sequences: The sequences are padded to ensure they all have the same length (500 words).\n",
    "Output Shapes: It prints the shapes of the padded training and testing data to confirm their dimensions."
   ]
  },
  {
   "cell_type": "code",
   "execution_count": 22,
   "metadata": {},
   "outputs": [
    {
     "name": "stdout",
     "output_type": "stream",
     "text": [
      "Shape of X_train_padded: (25000, 500)\n",
      "Shape of X_test_padded: (25000, 500)\n"
     ]
    }
   ],
   "source": [
    "from tensorflow.keras.preprocessing.text import Tokenizer\n",
    "from tensorflow.keras.preprocessing.sequence import pad_sequences\n",
    "\n",
    "max_words = 10000  # Use top 10,000 words from the dataset\n",
    "max_length = 500   # Maximum review length\n",
    "\n",
    "# Initialize the tokenizer and fit it on the training text data\n",
    "tokenizer = Tokenizer(num_words=max_words)\n",
    "tokenizer.fit_on_texts(train_text)  # Fit on the decoded training data\n",
    "\n",
    "# Create the word_index\n",
    "word_index = tokenizer.word_index\n",
    "\n",
    "# Convert the reviews to sequences and pad them\n",
    "X_train_padded = pad_sequences(tokenizer.texts_to_sequences(train_text), maxlen=max_length)\n",
    "X_test_padded = pad_sequences(tokenizer.texts_to_sequences(test_text), maxlen=max_length)\n",
    "\n",
    "print(f\"Shape of X_train_padded: {X_train_padded.shape}\")\n",
    "print(f\"Shape of X_test_padded: {X_test_padded.shape}\")\n"
   ]
  },
  {
   "cell_type": "markdown",
   "metadata": {},
   "source": [
    "Next step:\n",
    "Loading GloVe Embeddings: The code loads pre-trained GloVe word embeddings from a file into a dictionary.\n",
    "Creating Embedding Matrix: It initializes an embedding matrix with zeros, sized for the top 10,000 words and 100-dimensional embeddings.\n",
    "Populating Embedding Matrix: For each word in the word index, if the word is among the top 10,000, it retrieves the corresponding GloVe embedding and assigns it to the embedding matrix."
   ]
  },
  {
   "cell_type": "code",
   "execution_count": 23,
   "metadata": {},
   "outputs": [],
   "source": [
    "import numpy as np\n",
    "\n",
    "# Load the GloVe embeddings\n",
    "embedding_index = {}\n",
    "with open('C:\\\\Users\\\\C830277\\\\Desktop\\\\Python\\\\glove.6B.100d.txt', 'r', encoding='utf-8') as f:\n",
    "    for line in f:\n",
    "        values = line.split()\n",
    "        word = values[0]\n",
    "        coefs = np.asarray(values[1:], dtype='float32')\n",
    "        embedding_index[word] = coefs\n",
    "\n",
    "# Create an embedding matrix\n",
    "embedding_dim = 100  # Use 100-dimensional embeddings\n",
    "embedding_matrix = np.zeros((10000, embedding_dim))\n",
    "\n",
    "for word, i in word_index.items():\n",
    "    if i < 10000:\n",
    "        embedding_vector = embedding_index.get(word)\n",
    "        if embedding_vector is not None:\n",
    "            embedding_matrix[i] = embedding_vector\n",
    "\n"
   ]
  },
  {
   "cell_type": "markdown",
   "metadata": {},
   "source": [
    "Next step:\n",
    "Defining the Model: The code defines a Sequential model with an embedding layer, an LSTM layer, and a dense output layer.\n",
    "Embedding Layer: It uses pre-trained GloVe embeddings, which are frozen (not trainable), for the top 10,000 words.\n",
    "LSTM Layer: Adds an LSTM layer with 64 units to process the sequences.\n",
    "Output Layer: Adds a dense layer with a sigmoid activation function for binary classification.\n",
    "Compiling the Model: The model is compiled with the Adam optimizer, binary cross-entropy loss, and accuracy as a metric.\n",
    "Training the Model: The model is trained on the padded training data for 5 epochs, with a batch size of 64, and 20% of the data used for validation.\n",
    "Evaluating the Model: The model’s performance is evaluated on the test data, and the test accuracy is printed."
   ]
  },
  {
   "cell_type": "code",
   "execution_count": 24,
   "metadata": {},
   "outputs": [
    {
     "name": "stdout",
     "output_type": "stream",
     "text": [
      "Epoch 1/5\n"
     ]
    },
    {
     "name": "stdout",
     "output_type": "stream",
     "text": [
      "\u001b[1m313/313\u001b[0m \u001b[32m━━━━━━━━━━━━━━━━━━━━\u001b[0m\u001b[37m\u001b[0m \u001b[1m110s\u001b[0m 341ms/step - accuracy: 0.6325 - loss: 0.6248 - val_accuracy: 0.7806 - val_loss: 0.5131\n",
      "Epoch 2/5\n",
      "\u001b[1m313/313\u001b[0m \u001b[32m━━━━━━━━━━━━━━━━━━━━\u001b[0m\u001b[37m\u001b[0m \u001b[1m109s\u001b[0m 350ms/step - accuracy: 0.7756 - loss: 0.4767 - val_accuracy: 0.8064 - val_loss: 0.4325\n",
      "Epoch 3/5\n",
      "\u001b[1m313/313\u001b[0m \u001b[32m━━━━━━━━━━━━━━━━━━━━\u001b[0m\u001b[37m\u001b[0m \u001b[1m109s\u001b[0m 349ms/step - accuracy: 0.8175 - loss: 0.4089 - val_accuracy: 0.8302 - val_loss: 0.4103\n",
      "Epoch 4/5\n",
      "\u001b[1m313/313\u001b[0m \u001b[32m━━━━━━━━━━━━━━━━━━━━\u001b[0m\u001b[37m\u001b[0m \u001b[1m100s\u001b[0m 319ms/step - accuracy: 0.8430 - loss: 0.3643 - val_accuracy: 0.8586 - val_loss: 0.3396\n",
      "Epoch 5/5\n",
      "\u001b[1m313/313\u001b[0m \u001b[32m━━━━━━━━━━━━━━━━━━━━\u001b[0m\u001b[37m\u001b[0m \u001b[1m101s\u001b[0m 322ms/step - accuracy: 0.8634 - loss: 0.3231 - val_accuracy: 0.8676 - val_loss: 0.3200\n",
      "\u001b[1m782/782\u001b[0m \u001b[32m━━━━━━━━━━━━━━━━━━━━\u001b[0m\u001b[37m\u001b[0m \u001b[1m64s\u001b[0m 82ms/step - accuracy: 0.8596 - loss: 0.3225\n",
      "Test Accuracy with GloVe Embeddings: 86.26%\n"
     ]
    }
   ],
   "source": [
    "from tensorflow.keras.models import Sequential\n",
    "from tensorflow.keras.layers import Embedding, LSTM, Dense\n",
    "\n",
    "# Define the LSTM model with pre-trained GloVe embeddings\n",
    "model = Sequential()\n",
    "model.add(Embedding(input_dim=10000, \n",
    "                    output_dim=embedding_dim, \n",
    "                    weights=[embedding_matrix], \n",
    "                    input_length=max_length, \n",
    "                    trainable=False))  # Set trainable=False to freeze the embeddings\n",
    "model.add(LSTM(units=64))  # You can increase the number of LSTM units if needed\n",
    "model.add(Dense(1, activation='sigmoid'))\n",
    "\n",
    "# Compile the model\n",
    "model.compile(optimizer='adam', loss='binary_crossentropy', metrics=['accuracy'])\n",
    "\n",
    "# Train the model\n",
    "history = model.fit(X_train_padded, train_labels, epochs=5, batch_size=64, validation_split=0.2)\n",
    "\n",
    "# Evaluate on the test data\n",
    "test_loss, test_acc = model.evaluate(X_test_padded, test_labels)\n",
    "print(f\"Test Accuracy with GloVe Embeddings: {test_acc * 100:.2f}%\")\n"
   ]
  },
  {
   "cell_type": "markdown",
   "metadata": {},
   "source": [
    "Next step:\n",
    "Extracting Misclassified Reviews (Logistic Regression): The code predicts labels for validation data using a Logistic Regression model and identifies misclassified reviews.\n",
    "\n",
    "Extracting Misclassified Reviews (LSTM with GloVe): It predicts labels for test data using the LSTM model with GloVe embeddings, rounding the predictions, and identifies misclassified reviews.\n",
    "\n",
    "Displaying Misclassified Reviews: The code prints examples of misclassified reviews for both models, showing the review text, true label, and predicted label."
   ]
  },
  {
   "cell_type": "code",
   "execution_count": 25,
   "metadata": {},
   "outputs": [
    {
     "name": "stdout",
     "output_type": "stream",
     "text": [
      "\u001b[1m157/157\u001b[0m \u001b[32m━━━━━━━━━━━━━━━━━━━━\u001b[0m\u001b[37m\u001b[0m \u001b[1m228s\u001b[0m 1s/step\n",
      "\u001b[1m782/782\u001b[0m \u001b[32m━━━━━━━━━━━━━━━━━━━━\u001b[0m\u001b[37m\u001b[0m \u001b[1m63s\u001b[0m 80ms/step\n",
      "Logistic Regression Misclassified Reviews:\n",
      "\n",
      "Review: <START> there's a major difference between releasing an original intense edge of your seat scary gore fest and doing like filmmaker eli roth and his team have done with cabin fever and simply acted like it the film follows five college <UNK> into a cabin in the woods that begins to prove fatal as one after the other <UNK> to this mysterious fast acting flesh eating disease it's not long before the friends turn on one another and can barely stand the sight of one another much less want to be in the same <UNK> as them as gross as it all sounds there's a certain spark behind the basic premise of this film that could have worked in the hands of a less cocky filmmaker unfortunately what we end up with is poorly drawn characters whose sole purpose seems to be to look beautiful at the beginning to make the inevitable <UNK> more <UNK> a hackneyed script so profanity laden as to leave the viewer <UNK> out the dialogue and several incomprehensible subplots that <UNK> little more than in one instance an on screen appearance by director roth this is sloppy film making in several ways avoid this time <UNK>\n",
      "True label: 0\n",
      "Predicted label: [0.49154902]\n",
      "\n",
      "Review: <START> when a small <UNK> named <UNK> <UNK> <UNK> a magic ring from his uncle the wizard <UNK> <UNK> and discovers that the ring is an ancient creation of an evil dark lord should the ring end up back in his hands he will regain his power and destroy middle earth <UNK> and his loyal friends set out on a a quest to destroy the ring with a band of warriors this is an underrated adaption of the classic novels as it only covers the first half of the story regardless this is an epic and wonderfully animated film br br the animation is superbly done with <UNK> which is <UNK> over live action footage ralph bakshi worked well with the low budget he was given the film also boasts a grand music score by leonard <UNK> that fits every scene there are a few plot holes with the script but that has to be <UNK> considering the original deal was to make the book trilogy into two films much had to <UNK> in the first one my biggest <UNK> is some of the character design <UNK> was a bit too goofy while the other <UNK> act completely normal the other characters are actually well written for the screen and the voice actors do a great job i was pleased that <UNK> is actually a bit more helpful to the plot the <UNK> <UNK> are more comical than frightening while the <UNK> are eerie and nightmarish br br another problem is that the evil wizard <UNK> is called <UNK> thanks to the writers overall i think a little more money and better writers would have done this a lot of justice but there is something charming about it ralph bakshi made a <UNK> effort of making screen adaption of these classic stories the film suffers terribly from being overshadowed by the live action films but it's still a great movie for animation lovers of all ages\n",
      "True label: 1\n",
      "Predicted label: [0.49154902]\n",
      "\n",
      "Review: <START> the characters are cliched and predictable with everyone being either snow white pure or wholly evil the acting is too stilted for it to be bad in an amusing over the top way it's <UNK> disappointing if you're a bette davis fan because her character is not a typically fun bette davis type character she just gets to <UNK> <UNK> a lot br br on the whole neither my wife nor i found the movie to be interesting moving or enjoyable at all\n",
      "True label: 0\n",
      "Predicted label: [0.49154902]\n",
      "\n",
      "Review: <START> soylent green is a really good movie actually br br i never would've thought it i don't really like heston in his sci fi efforts he's one of those actors who like superman manages to come across all <UNK> and <UNK> most of the time i prefer more vulnerable heroes and indeed he <UNK> his way through much of soylent green too but as he's supposed to be playing an <UNK> bully i don't really mind br br i can understand why some people would turn their <UNK> up at this movie soylent green makes no effort whatsoever to create futuristic visuals what do you know it looks just like 1973 and it's lacking in action but i admired the film's vision of a complex corrupt and highly <UNK> society and i was so pleased to see that edward g robinson had such a moving funny final role nice little character moments like when he shares some precious food with heston really make the movie br br the message of soylent green is pretty relevant these days when nobody seems to know what the hell the government or <UNK> are up to funny isn't it to see heston in a prototype michael moore movie\n",
      "True label: 1\n",
      "Predicted label: [0.49154902]\n",
      "\n",
      "Review: <START> the us appear to run the uk police who all run around armed to the teeth and did you know that <UNK> officers change into uniform when they stop work and go down the pub this has got to be one of the most unrealistic films with the worst portrayal of real uk police that has ever been <UNK> on the unsuspecting public i can see that mr snipes might have needed the money to pay his back tax bill but what the heck a good actor like charles dance was doing in it is a mystery br br worse than the worse low budget b film of the 50's an hour and a half of suicide and time i will never get back br br avoid it like the <UNK> plague\n",
      "True label: 0\n",
      "Predicted label: [0.49154902]\n",
      "\n",
      "\n",
      "LSTM with GloVe Misclassified Reviews:\n",
      "\n",
      "Review: <START> i'm absolutely disgusted this movie isn't being sold all who love this movie should email disney and increase the demand for it they'd eventually have to sell it then i'd buy copies for everybody i know everything and everybody in this movie did a good job and i haven't figured out why disney hasn't put this movie on dvd or on vhs in rental stores at least i haven't seen any copies this is a wicked good movie and should be seen by all the kids in the new generation don't get to see it and i think they should it should at least be put back on the channel this movie doesn't deserve a cheap <UNK> it deserves the real thing i'm them now this movie will be on dvd\n",
      "True label: 1\n",
      "Predicted label: [0.]\n",
      "\n",
      "Review: <START> hollywood had a long love affair with bogus <UNK> nights tales but few of these products have stood the test of time the most memorable were the jon hall maria <UNK> films which have long since become camp this one is filled with dubbed songs <UNK> <UNK> and slapstick it's a truly crop of corn and pretty near <UNK> today it was nominated for its imaginative special effects which are almost <UNK> in this day and age <UNK> mainly of trick photography the only outstanding positive feature which survives is its beautiful color and clarity sad to say of the many films made in this genre few of them come up to alexander <UNK> original thief of <UNK> almost any other <UNK> nights film is superior to this one though it's a loser\n",
      "True label: 0\n",
      "Predicted label: [1.]\n",
      "\n",
      "Review: <START> ed <UNK> mitchell is a teenager who lives for his job at good <UNK> a small but friendly neighborhood <UNK> stand while his buddy <UNK> thompson also works there but lack <UNK> single minded devotion to his job he's there because he accidentally destroyed the car of his teacher mr <UNK> <UNK> and has to raise money to pay the <UNK> when <UNK> <UNK> a <UNK> fast foot chain opens across the street it looks like good <UNK> is history until ed <UNK> a secret <UNK> that brings hundreds of new customers to their door however the <UNK> manager of <UNK> <UNK> kurt jan is determined to get his hands on the <UNK> and put good <UNK> out of business meanwhile ed and <UNK> must rescue <UNK> <UNK> <UNK> the world's oldest fast food employee from the demented hills asylum and ed might just find love with <UNK> jackson if he could take his mind off the <UNK> long enough to pay attention to her good <UNK> is a comedy directed for kids decent story acting and overall a pretty harmless kids movie\n",
      "True label: 0\n",
      "Predicted label: [1.]\n",
      "\n",
      "Review: <START> if you have never read the classic science fiction novel this mini series is based on it may actually be good unfortunately if you are a fan of the book you probably won't be able to watch more than the first hour or two all of the political intrigue has been taken out of the film the most important scenes from the book have been taken out characters motivations have been changed completely and words from the wrong characters mouths where in the novel paul was a teen age boy with incredible political skill and a great understanding of the way the world worked in this film he is hot headed and and frustrated avoid this movie at all costs\n",
      "True label: 0\n",
      "Predicted label: [1.]\n",
      "\n",
      "Review: <START> i just read an extra long review on the front page of this movie on this site and he explained in full detail that this movie is only worth watching on the television show mystery science theater 3000 and yes i do find that advice really helpful i mean a movie that tries to be this good and this exciting just really is not what that movie wants to be so yes do watch this movie as seen on that show and instead of giving this movie a single star out of ten stars you can give this a ten out of ten stars until then my one star review is for the real pure <UNK> version of this movie only got that now\n",
      "True label: 0\n",
      "Predicted label: [1.]\n",
      "\n"
     ]
    }
   ],
   "source": [
    "from sklearn.metrics import confusion_matrix\n",
    "\n",
    "# Extract misclassified reviews for Logistic Regression\n",
    "y_val_pred_lr = model.predict(X_val_tfidf)\n",
    "misclassified_indices_lr = [i for i in range(len(y_val)) if y_val[i] != y_val_pred_lr[i]]\n",
    "misclassified_reviews_lr = [X_val[i] for i in misclassified_indices_lr]\n",
    "\n",
    "# Extract misclassified reviews for the LSTM model with GloVe embeddings\n",
    "y_test_pred_glove = model.predict(X_test_padded).round()\n",
    "misclassified_indices_glove = [i for i in range(len(test_labels)) if test_labels[i] != y_test_pred_glove[i]]\n",
    "misclassified_reviews_glove = [decode_review(test_data[i]) for i in misclassified_indices_glove]\n",
    "\n",
    "# Display some examples of misclassified reviews for both models\n",
    "print(\"Logistic Regression Misclassified Reviews:\\n\")\n",
    "for i in range(5):\n",
    "    print(\"Review:\", misclassified_reviews_lr[i])\n",
    "    print(\"True label:\", y_val[misclassified_indices_lr[i]])\n",
    "    print(\"Predicted label:\", y_val_pred_lr[misclassified_indices_lr[i]])\n",
    "    print()\n",
    "\n",
    "print(\"\\nLSTM with GloVe Misclassified Reviews:\\n\")\n",
    "for i in range(5):\n",
    "    print(\"Review:\", misclassified_reviews_glove[i])\n",
    "    print(\"True label:\", test_labels[misclassified_indices_glove[i]])\n",
    "    print(\"Predicted label:\", y_test_pred_glove[misclassified_indices_glove[i]])\n",
    "    print()\n"
   ]
  },
  {
   "cell_type": "markdown",
   "metadata": {},
   "source": [
    "Next step:\n",
    "Installing NLTK: The code installs the Natural Language Toolkit (NLTK) library, which is used for natural language processing tasks."
   ]
  },
  {
   "cell_type": "code",
   "execution_count": 26,
   "metadata": {},
   "outputs": [
    {
     "name": "stdout",
     "output_type": "stream",
     "text": [
      "Collecting nltk\n",
      "  Using cached nltk-3.9.1-py3-none-any.whl.metadata (2.9 kB)\n",
      "Requirement already satisfied: click in c:\\users\\c830277\\desktop\\python\\sentiment\\lib\\site-packages (from nltk) (8.1.7)\n",
      "Requirement already satisfied: joblib in c:\\users\\c830277\\desktop\\python\\sentiment\\lib\\site-packages (from nltk) (1.4.2)\n",
      "Requirement already satisfied: regex>=2021.8.3 in c:\\users\\c830277\\desktop\\python\\sentiment\\lib\\site-packages (from nltk) (2024.9.11)\n",
      "Requirement already satisfied: tqdm in c:\\users\\c830277\\desktop\\python\\sentiment\\lib\\site-packages (from nltk) (4.66.5)\n",
      "Requirement already satisfied: colorama in c:\\users\\c830277\\desktop\\python\\sentiment\\lib\\site-packages (from click->nltk) (0.4.6)\n",
      "Using cached nltk-3.9.1-py3-none-any.whl (1.5 MB)\n",
      "Installing collected packages: nltk\n",
      "Successfully installed nltk-3.9.1\n"
     ]
    }
   ],
   "source": [
    "!pip install nltk"
   ]
  },
  {
   "cell_type": "markdown",
   "metadata": {},
   "source": [
    "Next step:\n",
    "Importing NLTK: The code imports the Natural Language Toolkit (NLTK) library.\n",
    "Downloading Resources: It downloads the stopwords and WordNet data, which are essential for various natural language processing tasks."
   ]
  },
  {
   "cell_type": "code",
   "execution_count": 27,
   "metadata": {},
   "outputs": [
    {
     "name": "stderr",
     "output_type": "stream",
     "text": [
      "[nltk_data] Downloading package stopwords to\n",
      "[nltk_data]     C:\\Users\\C830277/nltk_data...\n",
      "[nltk_data]   Package stopwords is already up-to-date!\n",
      "[nltk_data] Downloading package wordnet to\n",
      "[nltk_data]     C:\\Users\\C830277/nltk_data...\n",
      "[nltk_data]   Package wordnet is already up-to-date!\n"
     ]
    },
    {
     "data": {
      "text/plain": [
       "True"
      ]
     },
     "execution_count": 27,
     "metadata": {},
     "output_type": "execute_result"
    }
   ],
   "source": [
    "import nltk\n",
    "nltk.download('stopwords')\n",
    "nltk.download('wordnet')\n"
   ]
  },
  {
   "cell_type": "markdown",
   "metadata": {},
   "source": [
    "Next step:\n",
    "Importing Libraries: The code imports regular expressions (re), stopwords from NLTK, and the WordNet lemmatizer.\n",
    "Initializing Tools: It initializes the WordNet lemmatizer and sets up the list of English stopwords.\n",
    "Defining Clean Text Function: The function clean_text removes special characters and numbers, converts text to lowercase, removes stopwords, and lemmatizes the words.\n",
    "Cleaning Data: The code applies the clean_text function to the training and test data to preprocess the text."
   ]
  },
  {
   "cell_type": "code",
   "execution_count": 28,
   "metadata": {},
   "outputs": [],
   "source": [
    "import re\n",
    "from nltk.corpus import stopwords\n",
    "from nltk.stem import WordNetLemmatizer\n",
    "\n",
    "# Initialize lemmatizer\n",
    "lemmatizer = WordNetLemmatizer()\n",
    "stop_words = set(stopwords.words('english'))\n",
    "\n",
    "def clean_text(text):\n",
    "    # Remove special characters and numbers\n",
    "    text = re.sub(r'[^\\w\\s]', '', text)\n",
    "    text = re.sub(r'\\d+', '', text)\n",
    "    # Convert to lowercase\n",
    "    text = text.lower()\n",
    "    # Remove stop words\n",
    "    text = ' '.join([word for word in text.split() if word not in stop_words])\n",
    "    # Lemmatize\n",
    "    text = ' '.join([lemmatizer.lemmatize(word) for word in text.split()])\n",
    "    return text\n",
    "\n",
    "# Clean the training and test data\n",
    "train_text_clean = [clean_text(review) for review in train_text]\n",
    "test_text_clean = [clean_text(review) for review in test_text]\n"
   ]
  },
  {
   "cell_type": "markdown",
   "metadata": {},
   "source": [
    "Next step:\n",
    "Importing Stop Words: The code imports a list of English stop words from scikit-learn.\n",
    "Defining Remove Stop Words Function: The function remove_stop_words removes stop words from a given text.\n",
    "Applying Function: The code applies the remove_stop_words function to the cleaned training and test data to further preprocess the text by removing stop words."
   ]
  },
  {
   "cell_type": "code",
   "execution_count": 29,
   "metadata": {},
   "outputs": [],
   "source": [
    "from sklearn.feature_extraction.text import ENGLISH_STOP_WORDS\n",
    "\n",
    "def remove_stop_words(text):\n",
    "    return ' '.join([word for word in text.split() if word not in ENGLISH_STOP_WORDS])\n",
    "\n",
    "# Remove stop words from cleaned text\n",
    "train_text_no_stop = [remove_stop_words(review) for review in train_text_clean]\n",
    "test_text_no_stop = [remove_stop_words(review) for review in test_text_clean]\n"
   ]
  },
  {
   "cell_type": "markdown",
   "metadata": {},
   "source": [
    "Next step:\n",
    "Defining the Refined Model: The code defines a Sequential model with an embedding layer, two LSTM layers, and dropout layers for regularization.\n",
    "\n",
    "Embedding Layer: Uses pre-trained GloVe embeddings, which are frozen (not trainable), for the top 10,000 words.\n",
    "\n",
    "LSTM Layers: Adds two LSTM layers, the first with 64 units and the second with 32 units, with dropout layers (0.3) in between for regularization.\n",
    "\n",
    "Output Layer: Adds a dense layer with a sigmoid activation function for binary classification.\n",
    "\n",
    "Compiling the Model: The model is compiled with the Adam optimizer (learning rate 0.0005), binary cross-entropy loss, and accuracy as a metric.\n",
    "\n",
    "Early Stopping: Implements early stopping to prevent overfitting, monitoring validation loss with a patience of 3 epochs.\n",
    "\n",
    "Training the Model: The model is trained on the padded training data for up to 10 epochs, with a batch size of 64, and 20% of the data used for validation.\n",
    "\n",
    "Evaluating the Model: The model’s performance is evaluated on the test data, and the test accuracy is printed."
   ]
  },
  {
   "cell_type": "code",
   "execution_count": 30,
   "metadata": {},
   "outputs": [
    {
     "name": "stdout",
     "output_type": "stream",
     "text": [
      "Epoch 1/10\n"
     ]
    },
    {
     "name": "stdout",
     "output_type": "stream",
     "text": [
      "\u001b[1m313/313\u001b[0m \u001b[32m━━━━━━━━━━━━━━━━━━━━\u001b[0m\u001b[37m\u001b[0m \u001b[1m139s\u001b[0m 426ms/step - accuracy: 0.6020 - loss: 0.6489 - val_accuracy: 0.7516 - val_loss: 0.5373\n",
      "Epoch 2/10\n",
      "\u001b[1m313/313\u001b[0m \u001b[32m━━━━━━━━━━━━━━━━━━━━\u001b[0m\u001b[37m\u001b[0m \u001b[1m110s\u001b[0m 352ms/step - accuracy: 0.7576 - loss: 0.5165 - val_accuracy: 0.7634 - val_loss: 0.5084\n",
      "Epoch 3/10\n",
      "\u001b[1m313/313\u001b[0m \u001b[32m━━━━━━━━━━━━━━━━━━━━\u001b[0m\u001b[37m\u001b[0m \u001b[1m119s\u001b[0m 382ms/step - accuracy: 0.7905 - loss: 0.4589 - val_accuracy: 0.8204 - val_loss: 0.4104\n",
      "Epoch 4/10\n",
      "\u001b[1m313/313\u001b[0m \u001b[32m━━━━━━━━━━━━━━━━━━━━\u001b[0m\u001b[37m\u001b[0m \u001b[1m135s\u001b[0m 432ms/step - accuracy: 0.8164 - loss: 0.4129 - val_accuracy: 0.8296 - val_loss: 0.3955\n",
      "Epoch 5/10\n",
      "\u001b[1m313/313\u001b[0m \u001b[32m━━━━━━━━━━━━━━━━━━━━\u001b[0m\u001b[37m\u001b[0m \u001b[1m129s\u001b[0m 411ms/step - accuracy: 0.8301 - loss: 0.3888 - val_accuracy: 0.8440 - val_loss: 0.3663\n",
      "Epoch 6/10\n",
      "\u001b[1m313/313\u001b[0m \u001b[32m━━━━━━━━━━━━━━━━━━━━\u001b[0m\u001b[37m\u001b[0m \u001b[1m114s\u001b[0m 363ms/step - accuracy: 0.8290 - loss: 0.3890 - val_accuracy: 0.8480 - val_loss: 0.3636\n",
      "Epoch 7/10\n",
      "\u001b[1m313/313\u001b[0m \u001b[32m━━━━━━━━━━━━━━━━━━━━\u001b[0m\u001b[37m\u001b[0m \u001b[1m129s\u001b[0m 411ms/step - accuracy: 0.8531 - loss: 0.3510 - val_accuracy: 0.8574 - val_loss: 0.3408\n",
      "Epoch 8/10\n",
      "\u001b[1m313/313\u001b[0m \u001b[32m━━━━━━━━━━━━━━━━━━━━\u001b[0m\u001b[37m\u001b[0m \u001b[1m134s\u001b[0m 429ms/step - accuracy: 0.8538 - loss: 0.3405 - val_accuracy: 0.8576 - val_loss: 0.3349\n",
      "Epoch 9/10\n",
      "\u001b[1m313/313\u001b[0m \u001b[32m━━━━━━━━━━━━━━━━━━━━\u001b[0m\u001b[37m\u001b[0m \u001b[1m142s\u001b[0m 454ms/step - accuracy: 0.8634 - loss: 0.3216 - val_accuracy: 0.8624 - val_loss: 0.3358\n",
      "Epoch 10/10\n",
      "\u001b[1m313/313\u001b[0m \u001b[32m━━━━━━━━━━━━━━━━━━━━\u001b[0m\u001b[37m\u001b[0m \u001b[1m138s\u001b[0m 440ms/step - accuracy: 0.8650 - loss: 0.3181 - val_accuracy: 0.8622 - val_loss: 0.3281\n",
      "\u001b[1m782/782\u001b[0m \u001b[32m━━━━━━━━━━━━━━━━━━━━\u001b[0m\u001b[37m\u001b[0m \u001b[1m84s\u001b[0m 108ms/step - accuracy: 0.8573 - loss: 0.3311\n",
      "Refined LSTM Test Accuracy: 85.99%\n"
     ]
    }
   ],
   "source": [
    "from tensorflow.keras.layers import Dropout\n",
    "from tensorflow.keras.callbacks import EarlyStopping\n",
    "\n",
    "# Define a refined LSTM model with additional layers and dropout\n",
    "model_refined = Sequential()\n",
    "model_refined.add(Embedding(input_dim=10000, \n",
    "                            output_dim=embedding_dim, \n",
    "                            weights=[embedding_matrix], \n",
    "                            input_length=max_length, \n",
    "                            trainable=False))\n",
    "model_refined.add(LSTM(units=64, return_sequences=True))  # First LSTM layer\n",
    "model_refined.add(Dropout(0.3))  # Add dropout for regularization\n",
    "model_refined.add(LSTM(units=32))  # Second LSTM layer\n",
    "model_refined.add(Dropout(0.3))  # Add dropout for regularization\n",
    "model_refined.add(Dense(1, activation='sigmoid'))\n",
    "\n",
    "# Compile the refined model\n",
    "model_refined.compile(optimizer=Adam(learning_rate=0.0005), \n",
    "                      loss='binary_crossentropy', \n",
    "                      metrics=['accuracy'])\n",
    "\n",
    "# Implement early stopping to prevent overfitting\n",
    "early_stopping = EarlyStopping(monitor='val_loss', patience=3, restore_best_weights=True)\n",
    "\n",
    "# Train the refined model\n",
    "history_refined = model_refined.fit(X_train_padded, \n",
    "                                    train_labels, \n",
    "                                    epochs=10, \n",
    "                                    batch_size=64, \n",
    "                                    validation_split=0.2, \n",
    "                                    callbacks=[early_stopping])\n",
    "\n",
    "# Evaluate the refined model on test data\n",
    "test_loss_refined, test_acc_refined = model_refined.evaluate(X_test_padded, test_labels)\n",
    "print(f\"Refined LSTM Test Accuracy: {test_acc_refined * 100:.2f}%\")\n"
   ]
  },
  {
   "cell_type": "markdown",
   "metadata": {},
   "source": [
    "Hyperparameter Tuning"
   ]
  },
  {
   "cell_type": "markdown",
   "metadata": {},
   "source": [
    "Next step:\n",
    "Modifying Learning Rate and Batch Size: The code recompiles the refined model with a lower learning rate (0.0001) and increases the batch size to 128.\n",
    "\n",
    "Compiling the Model: Uses the Adam optimizer, binary cross-entropy loss, and accuracy as a metric.\n",
    "\n",
    "Training the Model: The model is trained on the padded training data for up to 10 epochs, with a batch size of 128, and 20% of the data used for validation, using early stopping to prevent overfitting.\n",
    "\n",
    "Evaluating the Model: The model’s performance is evaluated on the test data, and the test accuracy is printed."
   ]
  },
  {
   "cell_type": "code",
   "execution_count": 31,
   "metadata": {},
   "outputs": [
    {
     "name": "stdout",
     "output_type": "stream",
     "text": [
      "Epoch 1/10\n",
      "\u001b[1m157/157\u001b[0m \u001b[32m━━━━━━━━━━━━━━━━━━━━\u001b[0m\u001b[37m\u001b[0m \u001b[1m132s\u001b[0m 813ms/step - accuracy: 0.8817 - loss: 0.2871 - val_accuracy: 0.8698 - val_loss: 0.3093\n",
      "Epoch 2/10\n",
      "\u001b[1m157/157\u001b[0m \u001b[32m━━━━━━━━━━━━━━━━━━━━\u001b[0m\u001b[37m\u001b[0m \u001b[1m117s\u001b[0m 743ms/step - accuracy: 0.8838 - loss: 0.2802 - val_accuracy: 0.8702 - val_loss: 0.3080\n",
      "Epoch 3/10\n",
      "\u001b[1m157/157\u001b[0m \u001b[32m━━━━━━━━━━━━━━━━━━━━\u001b[0m\u001b[37m\u001b[0m \u001b[1m125s\u001b[0m 799ms/step - accuracy: 0.8842 - loss: 0.2798 - val_accuracy: 0.8702 - val_loss: 0.3079\n",
      "Epoch 4/10\n",
      "\u001b[1m157/157\u001b[0m \u001b[32m━━━━━━━━━━━━━━━━━━━━\u001b[0m\u001b[37m\u001b[0m \u001b[1m116s\u001b[0m 741ms/step - accuracy: 0.8835 - loss: 0.2766 - val_accuracy: 0.8714 - val_loss: 0.3059\n",
      "Epoch 5/10\n",
      "\u001b[1m157/157\u001b[0m \u001b[32m━━━━━━━━━━━━━━━━━━━━\u001b[0m\u001b[37m\u001b[0m \u001b[1m111s\u001b[0m 709ms/step - accuracy: 0.8868 - loss: 0.2741 - val_accuracy: 0.8720 - val_loss: 0.3048\n",
      "Epoch 6/10\n",
      "\u001b[1m157/157\u001b[0m \u001b[32m━━━━━━━━━━━━━━━━━━━━\u001b[0m\u001b[37m\u001b[0m \u001b[1m112s\u001b[0m 712ms/step - accuracy: 0.8872 - loss: 0.2740 - val_accuracy: 0.8690 - val_loss: 0.3129\n",
      "Epoch 7/10\n",
      "\u001b[1m157/157\u001b[0m \u001b[32m━━━━━━━━━━━━━━━━━━━━\u001b[0m\u001b[37m\u001b[0m \u001b[1m100s\u001b[0m 634ms/step - accuracy: 0.8856 - loss: 0.2806 - val_accuracy: 0.8740 - val_loss: 0.3084\n",
      "Epoch 8/10\n",
      "\u001b[1m157/157\u001b[0m \u001b[32m━━━━━━━━━━━━━━━━━━━━\u001b[0m\u001b[37m\u001b[0m \u001b[1m106s\u001b[0m 676ms/step - accuracy: 0.8877 - loss: 0.2777 - val_accuracy: 0.8714 - val_loss: 0.3099\n",
      "\u001b[1m782/782\u001b[0m \u001b[32m━━━━━━━━━━━━━━━━━━━━\u001b[0m\u001b[37m\u001b[0m \u001b[1m70s\u001b[0m 90ms/step - accuracy: 0.8678 - loss: 0.3048\n",
      "Refined LSTM Test Accuracy with Batch Size 128: 86.94%\n"
     ]
    }
   ],
   "source": [
    "# Modify the learning rate and batch size\n",
    "model_refined.compile(optimizer=Adam(learning_rate=0.0001), \n",
    "                      loss='binary_crossentropy', \n",
    "                      metrics=['accuracy'])\n",
    "\n",
    "# Train the refined model with a different batch size\n",
    "history_refined = model_refined.fit(X_train_padded, \n",
    "                                    train_labels, \n",
    "                                    epochs=10, \n",
    "                                    batch_size=128,  # Increase batch size\n",
    "                                    validation_split=0.2, \n",
    "                                    callbacks=[early_stopping])\n",
    "\n",
    "# Evaluate the refined model on test data\n",
    "test_loss_refined, test_acc_refined = model_refined.evaluate(X_test_padded, test_labels)\n",
    "print(f\"Refined LSTM Test Accuracy with Batch Size 128: {test_acc_refined * 100:.2f}%\")\n"
   ]
  },
  {
   "cell_type": "markdown",
   "metadata": {},
   "source": [
    "Updated Code for Hyperparameter Exploration: Trying to avoid \"overfitting\""
   ]
  },
  {
   "cell_type": "markdown",
   "metadata": {},
   "source": [
    "Next step:\n",
    "Loading IMDB Dataset: The code loads the IMDB dataset, limiting it to the top 20,000 words.\n",
    "Padding Sequences: It pads the sequences to a maximum length of 100 words to ensure uniform input size.\n",
    "Splitting Data: The training data is further split into training and validation sets using an 80-20 split."
   ]
  },
  {
   "cell_type": "code",
   "execution_count": 32,
   "metadata": {},
   "outputs": [],
   "source": [
    "from tensorflow.keras.datasets import imdb\n",
    "from tensorflow.keras.preprocessing.sequence import pad_sequences\n",
    "from sklearn.model_selection import train_test_split\n",
    "\n",
    "# Load the IMDB dataset\n",
    "vocab_size = 20000  # Adjust this according to your needs\n",
    "max_len = 100  # Maximum length of sequences (padding/truncating)\n",
    "\n",
    "(X_train, y_train), (X_test, y_test) = imdb.load_data(num_words=vocab_size)\n",
    "\n",
    "# Pad the sequences to the same length\n",
    "X_train_padded = pad_sequences(X_train, maxlen=max_len)\n",
    "X_test_padded = pad_sequences(X_test, maxlen=max_len)\n",
    "\n",
    "# Split the training data further into training and validation sets\n",
    "X_train_padded, X_val_padded, y_train, y_val = train_test_split(X_train_padded, y_train, test_size=0.2, random_state=42)\n"
   ]
  },
  {
   "cell_type": "markdown",
   "metadata": {},
   "source": [
    "Model accuracy dropped from 86% to 80%"
   ]
  },
  {
   "cell_type": "markdown",
   "metadata": {},
   "source": [
    "Next step:\n",
    "Loading and Preprocessing Data: The code loads the IMDB dataset, limits it to the top 20,000 words, and pads sequences to a maximum length of 100 words. It then splits the training data into training and validation sets.\n",
    "\n",
    "Building the LSTM Model: Defines a Sequential model with an embedding layer, two LSTM layers (each with 128 units), and dropout layers for regularization. The model is compiled with the Adam optimizer (learning rate 0.0005), binary cross-entropy loss, and accuracy as a metric.\n",
    "\n",
    "Training the Model: The model is trained on the padded training data for 15 epochs, with a batch size of 256, and 20% of the data used for validation.\n",
    "\n",
    "Evaluating the Model: The model’s performance is evaluated on the test data, and the test accuracy is printed."
   ]
  },
  {
   "cell_type": "code",
   "execution_count": 33,
   "metadata": {},
   "outputs": [
    {
     "name": "stdout",
     "output_type": "stream",
     "text": [
      "Epoch 1/15\n",
      "\u001b[1m79/79\u001b[0m \u001b[32m━━━━━━━━━━━━━━━━━━━━\u001b[0m\u001b[37m\u001b[0m \u001b[1m83s\u001b[0m 1s/step - accuracy: 0.6153 - loss: 0.6220 - val_accuracy: 0.8174 - val_loss: 0.3854\n",
      "Epoch 2/15\n",
      "\u001b[1m79/79\u001b[0m \u001b[32m━━━━━━━━━━━━━━━━━━━━\u001b[0m\u001b[37m\u001b[0m \u001b[1m82s\u001b[0m 1s/step - accuracy: 0.8848 - loss: 0.2833 - val_accuracy: 0.8266 - val_loss: 0.3827\n",
      "Epoch 3/15\n",
      "\u001b[1m79/79\u001b[0m \u001b[32m━━━━━━━━━━━━━━━━━━━━\u001b[0m\u001b[37m\u001b[0m \u001b[1m89s\u001b[0m 1s/step - accuracy: 0.9254 - loss: 0.1973 - val_accuracy: 0.8412 - val_loss: 0.3793\n",
      "Epoch 4/15\n",
      "\u001b[1m79/79\u001b[0m \u001b[32m━━━━━━━━━━━━━━━━━━━━\u001b[0m\u001b[37m\u001b[0m \u001b[1m87s\u001b[0m 1s/step - accuracy: 0.9529 - loss: 0.1312 - val_accuracy: 0.8354 - val_loss: 0.4752\n",
      "Epoch 5/15\n",
      "\u001b[1m79/79\u001b[0m \u001b[32m━━━━━━━━━━━━━━━━━━━━\u001b[0m\u001b[37m\u001b[0m \u001b[1m86s\u001b[0m 1s/step - accuracy: 0.9753 - loss: 0.0806 - val_accuracy: 0.8244 - val_loss: 0.6021\n",
      "Epoch 6/15\n",
      "\u001b[1m79/79\u001b[0m \u001b[32m━━━━━━━━━━━━━━━━━━━━\u001b[0m\u001b[37m\u001b[0m \u001b[1m91s\u001b[0m 1s/step - accuracy: 0.9793 - loss: 0.0644 - val_accuracy: 0.8254 - val_loss: 0.5566\n",
      "Epoch 7/15\n",
      "\u001b[1m79/79\u001b[0m \u001b[32m━━━━━━━━━━━━━━━━━━━━\u001b[0m\u001b[37m\u001b[0m \u001b[1m89s\u001b[0m 1s/step - accuracy: 0.9737 - loss: 0.0780 - val_accuracy: 0.8246 - val_loss: 0.6835\n",
      "Epoch 8/15\n",
      "\u001b[1m79/79\u001b[0m \u001b[32m━━━━━━━━━━━━━━━━━━━━\u001b[0m\u001b[37m\u001b[0m \u001b[1m88s\u001b[0m 1s/step - accuracy: 0.9877 - loss: 0.0388 - val_accuracy: 0.8184 - val_loss: 0.7666\n",
      "Epoch 9/15\n",
      "\u001b[1m79/79\u001b[0m \u001b[32m━━━━━━━━━━━━━━━━━━━━\u001b[0m\u001b[37m\u001b[0m \u001b[1m85s\u001b[0m 1s/step - accuracy: 0.9896 - loss: 0.0299 - val_accuracy: 0.8252 - val_loss: 0.7901\n",
      "Epoch 10/15\n",
      "\u001b[1m79/79\u001b[0m \u001b[32m━━━━━━━━━━━━━━━━━━━━\u001b[0m\u001b[37m\u001b[0m \u001b[1m93s\u001b[0m 1s/step - accuracy: 0.9973 - loss: 0.0109 - val_accuracy: 0.8244 - val_loss: 0.9645\n",
      "Epoch 11/15\n",
      "\u001b[1m79/79\u001b[0m \u001b[32m━━━━━━━━━━━━━━━━━━━━\u001b[0m\u001b[37m\u001b[0m \u001b[1m95s\u001b[0m 1s/step - accuracy: 0.9972 - loss: 0.0086 - val_accuracy: 0.8156 - val_loss: 1.1061\n",
      "Epoch 12/15\n",
      "\u001b[1m79/79\u001b[0m \u001b[32m━━━━━━━━━━━━━━━━━━━━\u001b[0m\u001b[37m\u001b[0m \u001b[1m92s\u001b[0m 1s/step - accuracy: 0.9958 - loss: 0.0159 - val_accuracy: 0.8190 - val_loss: 0.9317\n",
      "Epoch 13/15\n",
      "\u001b[1m79/79\u001b[0m \u001b[32m━━━━━━━━━━━━━━━━━━━━\u001b[0m\u001b[37m\u001b[0m \u001b[1m94s\u001b[0m 1s/step - accuracy: 0.9966 - loss: 0.0114 - val_accuracy: 0.8236 - val_loss: 0.9599\n",
      "Epoch 14/15\n",
      "\u001b[1m79/79\u001b[0m \u001b[32m━━━━━━━━━━━━━━━━━━━━\u001b[0m\u001b[37m\u001b[0m \u001b[1m69s\u001b[0m 873ms/step - accuracy: 0.9989 - loss: 0.0052 - val_accuracy: 0.8258 - val_loss: 1.0864\n",
      "Epoch 15/15\n",
      "\u001b[1m79/79\u001b[0m \u001b[32m━━━━━━━━━━━━━━━━━━━━\u001b[0m\u001b[37m\u001b[0m \u001b[1m58s\u001b[0m 732ms/step - accuracy: 0.9989 - loss: 0.0050 - val_accuracy: 0.8068 - val_loss: 1.1898\n",
      "\u001b[1m782/782\u001b[0m \u001b[32m━━━━━━━━━━━━━━━━━━━━\u001b[0m\u001b[37m\u001b[0m \u001b[1m32s\u001b[0m 41ms/step - accuracy: 0.7906 - loss: 1.3299\n",
      "Refined LSTM Test Accuracy with Further Hyperparameter Tuning: 78.96%\n"
     ]
    }
   ],
   "source": [
    "from tensorflow.keras.models import Sequential\n",
    "from tensorflow.keras.layers import Embedding, LSTM, Dense, Dropout\n",
    "from tensorflow.keras.optimizers import Adam\n",
    "from tensorflow.keras.preprocessing.sequence import pad_sequences\n",
    "from tensorflow.keras.datasets import imdb\n",
    "from sklearn.model_selection import train_test_split\n",
    "\n",
    "# Step 1: Load and preprocess the data\n",
    "vocab_size = 20000\n",
    "embedding_dim = 100\n",
    "max_len = 100\n",
    "\n",
    "# Load the IMDB dataset\n",
    "(X_train, y_train), (X_test, y_test) = imdb.load_data(num_words=vocab_size)\n",
    "\n",
    "# Pad sequences to ensure consistent length\n",
    "X_train_padded = pad_sequences(X_train, maxlen=max_len)\n",
    "X_test_padded = pad_sequences(X_test, maxlen=max_len)\n",
    "\n",
    "# Split the training data into training and validation sets\n",
    "X_train_padded, X_val_padded, y_train, y_val = train_test_split(X_train_padded, y_train, test_size=0.2, random_state=42)\n",
    "\n",
    "# Step 2: Build the LSTM model\n",
    "def build_lstm_model(input_dim, output_dim, max_len):\n",
    "    model = Sequential()\n",
    "\n",
    "    # Embedding layer with trainable weights\n",
    "    model.add(Embedding(input_dim=input_dim, output_dim=output_dim, input_length=max_len))\n",
    "    \n",
    "    # LSTM Layer with 128 units\n",
    "    model.add(LSTM(128, return_sequences=True))\n",
    "    model.add(Dropout(0.3))\n",
    "    \n",
    "    # Second LSTM Layer with 128 units\n",
    "    model.add(LSTM(128))\n",
    "    model.add(Dropout(0.3))\n",
    "    \n",
    "    # Output layer for binary classification\n",
    "    model.add(Dense(1, activation='sigmoid'))\n",
    "    \n",
    "    # Compile the model with Adam optimizer and custom learning rate\n",
    "    model.compile(optimizer=Adam(learning_rate=0.0005), loss='binary_crossentropy', metrics=['accuracy'])\n",
    "    \n",
    "    return model\n",
    "\n",
    "# Step 3: Build and train the model\n",
    "model = build_lstm_model(input_dim=vocab_size, output_dim=embedding_dim, max_len=max_len)\n",
    "\n",
    "# Step 4: Train the model\n",
    "history = model.fit(X_train_padded, y_train, epochs=15, batch_size=256, validation_data=(X_val_padded, y_val))\n",
    "\n",
    "# Step 5: Evaluate the model on the test set\n",
    "test_loss, test_accuracy = model.evaluate(X_test_padded, y_test)\n",
    "print(f\"Refined LSTM Test Accuracy with Further Hyperparameter Tuning: {test_accuracy * 100:.2f}%\")\n"
   ]
  },
  {
   "cell_type": "markdown",
   "metadata": {},
   "source": [
    "Next step:\n",
    "Defining the LSTM Model: The code defines a Sequential model with an embedding layer, two LSTM layers (each with 64 units), and dropout layers (0.3) for regularization.\n",
    "\n",
    "Embedding Layer: Uses an embedding layer with trainable weights for the top 20,000 words.\n",
    "\n",
    "LSTM Layers: Adds two LSTM layers with reduced units (64) and dropout layers to prevent overfitting.\n",
    "\n",
    "Output Layer: Adds a dense layer with a sigmoid activation function for binary classification.\n",
    "\n",
    "Compiling the Model: The model is compiled with the Adam optimizer (learning rate 0.0001), binary cross-entropy loss, and accuracy as a metric.\n",
    "\n",
    "Early Stopping: Implements early stopping to prevent overfitting, monitoring validation loss with a patience of 3 epochs.\n",
    "\n",
    "Training the Model: The model is trained on the padded training data for up to 30 epochs, with a batch size of 128, and 20% of the data used for validation, using early stopping.\n",
    "\n",
    "Evaluating the Model: The model’s performance is evaluated on the test data, and the test accuracy is printed.\n"
   ]
  },
  {
   "cell_type": "code",
   "execution_count": 34,
   "metadata": {},
   "outputs": [
    {
     "name": "stdout",
     "output_type": "stream",
     "text": [
      "Epoch 1/30\n"
     ]
    },
    {
     "name": "stdout",
     "output_type": "stream",
     "text": [
      "\u001b[1m157/157\u001b[0m \u001b[32m━━━━━━━━━━━━━━━━━━━━\u001b[0m\u001b[37m\u001b[0m \u001b[1m37s\u001b[0m 220ms/step - accuracy: 0.5454 - loss: 0.6897 - val_accuracy: 0.7426 - val_loss: 0.5323\n",
      "Epoch 2/30\n",
      "\u001b[1m157/157\u001b[0m \u001b[32m━━━━━━━━━━━━━━━━━━━━\u001b[0m\u001b[37m\u001b[0m \u001b[1m49s\u001b[0m 315ms/step - accuracy: 0.8049 - loss: 0.4373 - val_accuracy: 0.8230 - val_loss: 0.3817\n",
      "Epoch 3/30\n",
      "\u001b[1m157/157\u001b[0m \u001b[32m━━━━━━━━━━━━━━━━━━━━\u001b[0m\u001b[37m\u001b[0m \u001b[1m48s\u001b[0m 303ms/step - accuracy: 0.8879 - loss: 0.2867 - val_accuracy: 0.8336 - val_loss: 0.3810\n",
      "Epoch 4/30\n",
      "\u001b[1m157/157\u001b[0m \u001b[32m━━━━━━━━━━━━━━━━━━━━\u001b[0m\u001b[37m\u001b[0m \u001b[1m48s\u001b[0m 308ms/step - accuracy: 0.9236 - loss: 0.2136 - val_accuracy: 0.8324 - val_loss: 0.4121\n",
      "Epoch 5/30\n",
      "\u001b[1m157/157\u001b[0m \u001b[32m━━━━━━━━━━━━━━━━━━━━\u001b[0m\u001b[37m\u001b[0m \u001b[1m48s\u001b[0m 307ms/step - accuracy: 0.9486 - loss: 0.1568 - val_accuracy: 0.8356 - val_loss: 0.4122\n",
      "Epoch 6/30\n",
      "\u001b[1m157/157\u001b[0m \u001b[32m━━━━━━━━━━━━━━━━━━━━\u001b[0m\u001b[37m\u001b[0m \u001b[1m49s\u001b[0m 309ms/step - accuracy: 0.9632 - loss: 0.1241 - val_accuracy: 0.8258 - val_loss: 0.4669\n",
      "\u001b[1m782/782\u001b[0m \u001b[32m━━━━━━━━━━━━━━━━━━━━\u001b[0m\u001b[37m\u001b[0m \u001b[1m28s\u001b[0m 36ms/step - accuracy: 0.8270 - loss: 0.4025\n",
      "Refined LSTM Test Accuracy with Further Hyperparameter Tuning: 82.53%\n"
     ]
    }
   ],
   "source": [
    "from tensorflow.keras.models import Sequential\n",
    "from tensorflow.keras.layers import Embedding, LSTM, Dropout, Dense\n",
    "from tensorflow.keras.optimizers import Adam\n",
    "from tensorflow.keras.callbacks import EarlyStopping\n",
    "\n",
    "# Define the LSTM model with hyperparameter tuning\n",
    "def build_lstm_model(input_dim, output_dim, max_len):\n",
    "    model = Sequential()\n",
    "    model.add(Embedding(input_dim=input_dim, output_dim=output_dim, input_length=max_len))\n",
    "    model.add(LSTM(64, return_sequences=True))  # Reduced LSTM units\n",
    "    model.add(Dropout(0.3))  # Adjusted dropout rate\n",
    "    model.add(LSTM(64))  # Reduced LSTM units\n",
    "    model.add(Dropout(0.3))  # Adjusted dropout rate\n",
    "    model.add(Dense(1, activation='sigmoid'))\n",
    "    model.compile(optimizer=Adam(learning_rate=0.0001), loss='binary_crossentropy', metrics=['accuracy'])\n",
    "    return model\n",
    "\n",
    "# Build the model\n",
    "model = build_lstm_model(input_dim=vocab_size, output_dim=embedding_dim, max_len=max_len)\n",
    "\n",
    "# Define early stopping\n",
    "early_stopping = EarlyStopping(monitor='val_loss', patience=3, restore_best_weights=True)\n",
    "\n",
    "# Train the model with early stopping\n",
    "history = model.fit(X_train_padded, y_train, epochs=30, batch_size=128, \n",
    "                    validation_data=(X_val_padded, y_val), callbacks=[early_stopping])\n",
    "\n",
    "# Evaluate on the test set\n",
    "test_loss, test_accuracy = model.evaluate(X_test_padded, y_test)\n",
    "print(f\"Refined LSTM Test Accuracy with Further Hyperparameter Tuning: {test_accuracy * 100:.2f}%\")\n"
   ]
  },
  {
   "cell_type": "markdown",
   "metadata": {},
   "source": [
    "Next step:\n",
    "Loading and Preprocessing Data: The code loads the IMDB dataset, limits it to the top 10,000 words, and sets up the word index. It prepares the embedding matrix using pre-trained GloVe embeddings and pads the sequences to a maximum length of 100 words.\n",
    "\n",
    "Defining the Model: Defines a Sequential model with an embedding layer initialized with GloVe embeddings, two LSTM layers (128 and 64 units), and dropout layers (0.5) for regularization. The model is compiled with the Adam optimizer, binary cross-entropy loss, and accuracy as a metric.\n",
    "\n",
    "Training the Model: The model is trained on the padded training data for 5 epochs, with a batch size of 128, and 20% of the data used for validation.\n",
    "\n",
    "Evaluating the Model: The model’s performance is evaluated on the test data, and the test loss and accuracy are printed."
   ]
  },
  {
   "cell_type": "code",
   "execution_count": 35,
   "metadata": {},
   "outputs": [
    {
     "name": "stdout",
     "output_type": "stream",
     "text": [
      "Epoch 1/5\n",
      "\u001b[1m157/157\u001b[0m \u001b[32m━━━━━━━━━━━━━━━━━━━━\u001b[0m\u001b[37m\u001b[0m \u001b[1m123s\u001b[0m 717ms/step - accuracy: 0.6493 - loss: 0.6048 - val_accuracy: 0.8138 - val_loss: 0.4071\n",
      "Epoch 2/5\n",
      "\u001b[1m157/157\u001b[0m \u001b[32m━━━━━━━━━━━━━━━━━━━━\u001b[0m\u001b[37m\u001b[0m \u001b[1m100s\u001b[0m 636ms/step - accuracy: 0.8394 - loss: 0.3728 - val_accuracy: 0.8506 - val_loss: 0.3539\n",
      "Epoch 3/5\n",
      "\u001b[1m157/157\u001b[0m \u001b[32m━━━━━━━━━━━━━━━━━━━━\u001b[0m\u001b[37m\u001b[0m \u001b[1m108s\u001b[0m 691ms/step - accuracy: 0.8833 - loss: 0.2820 - val_accuracy: 0.8542 - val_loss: 0.3324\n",
      "Epoch 4/5\n",
      "\u001b[1m157/157\u001b[0m \u001b[32m━━━━━━━━━━━━━━━━━━━━\u001b[0m\u001b[37m\u001b[0m \u001b[1m109s\u001b[0m 697ms/step - accuracy: 0.9098 - loss: 0.2261 - val_accuracy: 0.8494 - val_loss: 0.3867\n",
      "Epoch 5/5\n",
      "\u001b[1m157/157\u001b[0m \u001b[32m━━━━━━━━━━━━━━━━━━━━\u001b[0m\u001b[37m\u001b[0m \u001b[1m106s\u001b[0m 676ms/step - accuracy: 0.9278 - loss: 0.1889 - val_accuracy: 0.8450 - val_loss: 0.4208\n",
      "\u001b[1m782/782\u001b[0m \u001b[32m━━━━━━━━━━━━━━━━━━━━\u001b[0m\u001b[37m\u001b[0m \u001b[1m59s\u001b[0m 76ms/step - accuracy: 0.8456 - loss: 0.4205\n",
      "Test Loss: 0.4290, Test Accuracy: 0.8453\n"
     ]
    }
   ],
   "source": [
    "import numpy as np\n",
    "import pandas as pd\n",
    "from tensorflow.keras.preprocessing.text import Tokenizer\n",
    "from tensorflow.keras.preprocessing.sequence import pad_sequences\n",
    "from tensorflow.keras.models import Sequential\n",
    "from tensorflow.keras.layers import Embedding, LSTM, Dense, Dropout\n",
    "from tensorflow.keras.initializers import Constant\n",
    "from tensorflow.keras.datasets import imdb\n",
    "\n",
    "# Load the dataset\n",
    "(train_data, train_labels), (test_data, test_labels) = imdb.load_data(num_words=10000)\n",
    "\n",
    "# Set up Tokenizer and Vocabulary\n",
    "# Note: IMDB dataset is already tokenized, so we need to work with the word index directly.\n",
    "word_index = imdb.get_word_index()\n",
    "word_index = {k: (v + 3) for k, v in word_index.items()}\n",
    "word_index['<PAD>'] = 0\n",
    "word_index['<START>'] = 1\n",
    "word_index['<UNK>'] = 2\n",
    "word_index['<UNUSED>'] = 3\n",
    "reverse_word_index = dict([(value, key) for (key, value) in word_index.items()])\n",
    "\n",
    "# Prepare embedding matrix\n",
    "embedding_dim = 100  # Example dimension of the GloVe embeddings\n",
    "vocab_size = len(word_index) + 1\n",
    "embedding_matrix = np.zeros((vocab_size, embedding_dim))\n",
    "\n",
    "# Load pre-trained GloVe embeddings\n",
    "with open('glove.6B.100d.txt', 'r', encoding='utf-8') as f:\n",
    "    for line in f:\n",
    "        values = line.split()\n",
    "        word = values[0]\n",
    "        coefs = np.asarray(values[1:], dtype='float32')\n",
    "        index = word_index.get(word)\n",
    "        if index is not None:\n",
    "            embedding_matrix[index] = coefs\n",
    "\n",
    "# Prepare sequences\n",
    "max_len = 100  # Adjust based on your data\n",
    "X_train_padded = pad_sequences(train_data, maxlen=max_len)\n",
    "X_test_padded = pad_sequences(test_data, maxlen=max_len)\n",
    "\n",
    "# Labels\n",
    "y_train = np.array(train_labels)\n",
    "y_test = np.array(test_labels)\n",
    "\n",
    "# Define the model\n",
    "def build_lstm_model(input_dim, output_dim, max_len, embedding_matrix):\n",
    "    model = Sequential()\n",
    "    model.add(Embedding(input_dim=input_dim, \n",
    "                        output_dim=output_dim, \n",
    "                        input_length=max_len, \n",
    "                        embeddings_initializer=Constant(embedding_matrix)))\n",
    "    model.add(LSTM(128, return_sequences=True))\n",
    "    model.add(Dropout(0.5))\n",
    "    model.add(LSTM(64))\n",
    "    model.add(Dense(1, activation='sigmoid'))\n",
    "    model.compile(optimizer='adam', loss='binary_crossentropy', metrics=['accuracy'])\n",
    "    return model\n",
    "\n",
    "# Build and train the model\n",
    "model = build_lstm_model(input_dim=vocab_size,  # Use vocab_size from tokenizer\n",
    "                          output_dim=embedding_dim, \n",
    "                          max_len=max_len, \n",
    "                          embedding_matrix=embedding_matrix)\n",
    "\n",
    "# Training parameters\n",
    "epochs = 5  # Adjust as needed\n",
    "batch_size = 128  # Adjust as needed\n",
    "\n",
    "history = model.fit(X_train_padded, y_train, epochs=epochs, batch_size=batch_size, validation_split=0.2)\n",
    "\n",
    "# Evaluate on the test set\n",
    "test_loss, test_accuracy = model.evaluate(X_test_padded, y_test)\n",
    "print(f\"Test Loss: {test_loss:.4f}, Test Accuracy: {test_accuracy:.4f}\")\n"
   ]
  },
  {
   "cell_type": "markdown",
   "metadata": {},
   "source": [
    "Updated Code with Error Analysis"
   ]
  },
  {
   "cell_type": "markdown",
   "metadata": {},
   "source": [
    "Installing Seaborn: The code installs the Seaborn library, which is used for data visualization and statistical graphics in Python."
   ]
  },
  {
   "cell_type": "code",
   "execution_count": 36,
   "metadata": {},
   "outputs": [
    {
     "name": "stdout",
     "output_type": "stream",
     "text": [
      "Requirement already satisfied: seaborn in c:\\users\\c830277\\desktop\\python\\sentiment\\lib\\site-packages (0.13.2)\n",
      "Requirement already satisfied: numpy!=1.24.0,>=1.20 in c:\\users\\c830277\\desktop\\python\\sentiment\\lib\\site-packages (from seaborn) (1.26.4)\n",
      "Requirement already satisfied: pandas>=1.2 in c:\\users\\c830277\\desktop\\python\\sentiment\\lib\\site-packages (from seaborn) (2.2.2)\n",
      "Requirement already satisfied: matplotlib!=3.6.1,>=3.4 in c:\\users\\c830277\\desktop\\python\\sentiment\\lib\\site-packages (from seaborn) (3.9.2)\n",
      "Requirement already satisfied: contourpy>=1.0.1 in c:\\users\\c830277\\desktop\\python\\sentiment\\lib\\site-packages (from matplotlib!=3.6.1,>=3.4->seaborn) (1.3.0)\n",
      "Requirement already satisfied: cycler>=0.10 in c:\\users\\c830277\\desktop\\python\\sentiment\\lib\\site-packages (from matplotlib!=3.6.1,>=3.4->seaborn) (0.12.1)\n",
      "Requirement already satisfied: fonttools>=4.22.0 in c:\\users\\c830277\\desktop\\python\\sentiment\\lib\\site-packages (from matplotlib!=3.6.1,>=3.4->seaborn) (4.53.1)\n",
      "Requirement already satisfied: kiwisolver>=1.3.1 in c:\\users\\c830277\\desktop\\python\\sentiment\\lib\\site-packages (from matplotlib!=3.6.1,>=3.4->seaborn) (1.4.7)\n",
      "Requirement already satisfied: packaging>=20.0 in c:\\users\\c830277\\desktop\\python\\sentiment\\lib\\site-packages (from matplotlib!=3.6.1,>=3.4->seaborn) (24.1)\n",
      "Requirement already satisfied: pillow>=8 in c:\\users\\c830277\\desktop\\python\\sentiment\\lib\\site-packages (from matplotlib!=3.6.1,>=3.4->seaborn) (10.4.0)\n",
      "Requirement already satisfied: pyparsing>=2.3.1 in c:\\users\\c830277\\desktop\\python\\sentiment\\lib\\site-packages (from matplotlib!=3.6.1,>=3.4->seaborn) (3.1.4)\n",
      "Requirement already satisfied: python-dateutil>=2.7 in c:\\users\\c830277\\desktop\\python\\sentiment\\lib\\site-packages (from matplotlib!=3.6.1,>=3.4->seaborn) (2.9.0.post0)\n",
      "Requirement already satisfied: pytz>=2020.1 in c:\\users\\c830277\\desktop\\python\\sentiment\\lib\\site-packages (from pandas>=1.2->seaborn) (2024.2)\n",
      "Requirement already satisfied: tzdata>=2022.7 in c:\\users\\c830277\\desktop\\python\\sentiment\\lib\\site-packages (from pandas>=1.2->seaborn) (2024.1)\n",
      "Requirement already satisfied: six>=1.5 in c:\\users\\c830277\\desktop\\python\\sentiment\\lib\\site-packages (from python-dateutil>=2.7->matplotlib!=3.6.1,>=3.4->seaborn) (1.16.0)\n"
     ]
    }
   ],
   "source": [
    "!pip install seaborn"
   ]
  },
  {
   "cell_type": "markdown",
   "metadata": {},
   "source": [
    "Installing Keras: The code installs the Keras library, which is used for building and training deep learning models in Python."
   ]
  },
  {
   "cell_type": "code",
   "execution_count": 37,
   "metadata": {},
   "outputs": [
    {
     "name": "stdout",
     "output_type": "stream",
     "text": [
      "Requirement already satisfied: keras in c:\\users\\c830277\\desktop\\python\\sentiment\\lib\\site-packages (3.5.0)\n",
      "Requirement already satisfied: absl-py in c:\\users\\c830277\\desktop\\python\\sentiment\\lib\\site-packages (from keras) (2.1.0)\n",
      "Requirement already satisfied: numpy in c:\\users\\c830277\\desktop\\python\\sentiment\\lib\\site-packages (from keras) (1.26.4)\n",
      "Requirement already satisfied: rich in c:\\users\\c830277\\desktop\\python\\sentiment\\lib\\site-packages (from keras) (13.8.1)\n",
      "Requirement already satisfied: namex in c:\\users\\c830277\\desktop\\python\\sentiment\\lib\\site-packages (from keras) (0.0.8)\n",
      "Requirement already satisfied: h5py in c:\\users\\c830277\\desktop\\python\\sentiment\\lib\\site-packages (from keras) (3.11.0)\n",
      "Requirement already satisfied: optree in c:\\users\\c830277\\desktop\\python\\sentiment\\lib\\site-packages (from keras) (0.12.1)\n",
      "Requirement already satisfied: ml-dtypes in c:\\users\\c830277\\desktop\\python\\sentiment\\lib\\site-packages (from keras) (0.4.1)\n",
      "Requirement already satisfied: packaging in c:\\users\\c830277\\desktop\\python\\sentiment\\lib\\site-packages (from keras) (24.1)\n",
      "Requirement already satisfied: typing-extensions>=4.5.0 in c:\\users\\c830277\\desktop\\python\\sentiment\\lib\\site-packages (from optree->keras) (4.12.2)\n",
      "Requirement already satisfied: markdown-it-py>=2.2.0 in c:\\users\\c830277\\desktop\\python\\sentiment\\lib\\site-packages (from rich->keras) (3.0.0)\n",
      "Requirement already satisfied: pygments<3.0.0,>=2.13.0 in c:\\users\\c830277\\desktop\\python\\sentiment\\lib\\site-packages (from rich->keras) (2.18.0)\n",
      "Requirement already satisfied: mdurl~=0.1 in c:\\users\\c830277\\desktop\\python\\sentiment\\lib\\site-packages (from markdown-it-py>=2.2.0->rich->keras) (0.1.2)\n"
     ]
    }
   ],
   "source": [
    "!pip install keras"
   ]
  },
  {
   "cell_type": "markdown",
   "metadata": {},
   "source": [
    "Upgrading TensorFlow and Keras: The code upgrades the TensorFlow and Keras libraries to their latest versions."
   ]
  },
  {
   "cell_type": "code",
   "execution_count": 38,
   "metadata": {},
   "outputs": [
    {
     "name": "stdout",
     "output_type": "stream",
     "text": [
      "Requirement already satisfied: tensorflow in c:\\users\\c830277\\desktop\\python\\sentiment\\lib\\site-packages (2.17.0)\n",
      "Requirement already satisfied: keras in c:\\users\\c830277\\desktop\\python\\sentiment\\lib\\site-packages (3.5.0)\n",
      "Requirement already satisfied: tensorflow-intel==2.17.0 in c:\\users\\c830277\\desktop\\python\\sentiment\\lib\\site-packages (from tensorflow) (2.17.0)\n",
      "Requirement already satisfied: absl-py>=1.0.0 in c:\\users\\c830277\\desktop\\python\\sentiment\\lib\\site-packages (from tensorflow-intel==2.17.0->tensorflow) (2.1.0)\n",
      "Requirement already satisfied: astunparse>=1.6.0 in c:\\users\\c830277\\desktop\\python\\sentiment\\lib\\site-packages (from tensorflow-intel==2.17.0->tensorflow) (1.6.3)\n",
      "Requirement already satisfied: flatbuffers>=24.3.25 in c:\\users\\c830277\\desktop\\python\\sentiment\\lib\\site-packages (from tensorflow-intel==2.17.0->tensorflow) (24.3.25)\n",
      "Requirement already satisfied: gast!=0.5.0,!=0.5.1,!=0.5.2,>=0.2.1 in c:\\users\\c830277\\desktop\\python\\sentiment\\lib\\site-packages (from tensorflow-intel==2.17.0->tensorflow) (0.6.0)\n",
      "Requirement already satisfied: google-pasta>=0.1.1 in c:\\users\\c830277\\desktop\\python\\sentiment\\lib\\site-packages (from tensorflow-intel==2.17.0->tensorflow) (0.2.0)\n",
      "Requirement already satisfied: h5py>=3.10.0 in c:\\users\\c830277\\desktop\\python\\sentiment\\lib\\site-packages (from tensorflow-intel==2.17.0->tensorflow) (3.11.0)\n",
      "Requirement already satisfied: libclang>=13.0.0 in c:\\users\\c830277\\desktop\\python\\sentiment\\lib\\site-packages (from tensorflow-intel==2.17.0->tensorflow) (18.1.1)\n",
      "Requirement already satisfied: ml-dtypes<0.5.0,>=0.3.1 in c:\\users\\c830277\\desktop\\python\\sentiment\\lib\\site-packages (from tensorflow-intel==2.17.0->tensorflow) (0.4.1)\n",
      "Requirement already satisfied: opt-einsum>=2.3.2 in c:\\users\\c830277\\desktop\\python\\sentiment\\lib\\site-packages (from tensorflow-intel==2.17.0->tensorflow) (3.3.0)\n",
      "Requirement already satisfied: packaging in c:\\users\\c830277\\desktop\\python\\sentiment\\lib\\site-packages (from tensorflow-intel==2.17.0->tensorflow) (24.1)\n",
      "Requirement already satisfied: protobuf!=4.21.0,!=4.21.1,!=4.21.2,!=4.21.3,!=4.21.4,!=4.21.5,<5.0.0dev,>=3.20.3 in c:\\users\\c830277\\desktop\\python\\sentiment\\lib\\site-packages (from tensorflow-intel==2.17.0->tensorflow) (4.25.4)\n",
      "Requirement already satisfied: requests<3,>=2.21.0 in c:\\users\\c830277\\desktop\\python\\sentiment\\lib\\site-packages (from tensorflow-intel==2.17.0->tensorflow) (2.32.3)\n",
      "Requirement already satisfied: setuptools in c:\\users\\c830277\\desktop\\python\\sentiment\\lib\\site-packages (from tensorflow-intel==2.17.0->tensorflow) (65.5.0)\n",
      "Requirement already satisfied: six>=1.12.0 in c:\\users\\c830277\\desktop\\python\\sentiment\\lib\\site-packages (from tensorflow-intel==2.17.0->tensorflow) (1.16.0)\n",
      "Requirement already satisfied: termcolor>=1.1.0 in c:\\users\\c830277\\desktop\\python\\sentiment\\lib\\site-packages (from tensorflow-intel==2.17.0->tensorflow) (2.4.0)\n",
      "Requirement already satisfied: typing-extensions>=3.6.6 in c:\\users\\c830277\\desktop\\python\\sentiment\\lib\\site-packages (from tensorflow-intel==2.17.0->tensorflow) (4.12.2)\n",
      "Requirement already satisfied: wrapt>=1.11.0 in c:\\users\\c830277\\desktop\\python\\sentiment\\lib\\site-packages (from tensorflow-intel==2.17.0->tensorflow) (1.16.0)\n",
      "Requirement already satisfied: grpcio<2.0,>=1.24.3 in c:\\users\\c830277\\desktop\\python\\sentiment\\lib\\site-packages (from tensorflow-intel==2.17.0->tensorflow) (1.66.1)\n",
      "Requirement already satisfied: tensorboard<2.18,>=2.17 in c:\\users\\c830277\\desktop\\python\\sentiment\\lib\\site-packages (from tensorflow-intel==2.17.0->tensorflow) (2.17.1)\n",
      "Requirement already satisfied: tensorflow-io-gcs-filesystem>=0.23.1 in c:\\users\\c830277\\desktop\\python\\sentiment\\lib\\site-packages (from tensorflow-intel==2.17.0->tensorflow) (0.31.0)\n",
      "Requirement already satisfied: numpy<2.0.0,>=1.23.5 in c:\\users\\c830277\\desktop\\python\\sentiment\\lib\\site-packages (from tensorflow-intel==2.17.0->tensorflow) (1.26.4)\n",
      "Requirement already satisfied: rich in c:\\users\\c830277\\desktop\\python\\sentiment\\lib\\site-packages (from keras) (13.8.1)\n",
      "Requirement already satisfied: namex in c:\\users\\c830277\\desktop\\python\\sentiment\\lib\\site-packages (from keras) (0.0.8)\n",
      "Requirement already satisfied: optree in c:\\users\\c830277\\desktop\\python\\sentiment\\lib\\site-packages (from keras) (0.12.1)\n",
      "Requirement already satisfied: markdown-it-py>=2.2.0 in c:\\users\\c830277\\desktop\\python\\sentiment\\lib\\site-packages (from rich->keras) (3.0.0)\n",
      "Requirement already satisfied: pygments<3.0.0,>=2.13.0 in c:\\users\\c830277\\desktop\\python\\sentiment\\lib\\site-packages (from rich->keras) (2.18.0)\n",
      "Requirement already satisfied: wheel<1.0,>=0.23.0 in c:\\users\\c830277\\desktop\\python\\sentiment\\lib\\site-packages (from astunparse>=1.6.0->tensorflow-intel==2.17.0->tensorflow) (0.44.0)\n",
      "Requirement already satisfied: mdurl~=0.1 in c:\\users\\c830277\\desktop\\python\\sentiment\\lib\\site-packages (from markdown-it-py>=2.2.0->rich->keras) (0.1.2)\n",
      "Requirement already satisfied: charset-normalizer<4,>=2 in c:\\users\\c830277\\desktop\\python\\sentiment\\lib\\site-packages (from requests<3,>=2.21.0->tensorflow-intel==2.17.0->tensorflow) (3.3.2)\n",
      "Requirement already satisfied: idna<4,>=2.5 in c:\\users\\c830277\\desktop\\python\\sentiment\\lib\\site-packages (from requests<3,>=2.21.0->tensorflow-intel==2.17.0->tensorflow) (3.8)\n",
      "Requirement already satisfied: urllib3<3,>=1.21.1 in c:\\users\\c830277\\desktop\\python\\sentiment\\lib\\site-packages (from requests<3,>=2.21.0->tensorflow-intel==2.17.0->tensorflow) (2.2.3)\n",
      "Requirement already satisfied: certifi>=2017.4.17 in c:\\users\\c830277\\desktop\\python\\sentiment\\lib\\site-packages (from requests<3,>=2.21.0->tensorflow-intel==2.17.0->tensorflow) (2024.8.30)\n",
      "Requirement already satisfied: markdown>=2.6.8 in c:\\users\\c830277\\desktop\\python\\sentiment\\lib\\site-packages (from tensorboard<2.18,>=2.17->tensorflow-intel==2.17.0->tensorflow) (3.7)\n",
      "Requirement already satisfied: tensorboard-data-server<0.8.0,>=0.7.0 in c:\\users\\c830277\\desktop\\python\\sentiment\\lib\\site-packages (from tensorboard<2.18,>=2.17->tensorflow-intel==2.17.0->tensorflow) (0.7.2)\n",
      "Requirement already satisfied: werkzeug>=1.0.1 in c:\\users\\c830277\\desktop\\python\\sentiment\\lib\\site-packages (from tensorboard<2.18,>=2.17->tensorflow-intel==2.17.0->tensorflow) (3.0.4)\n",
      "Requirement already satisfied: MarkupSafe>=2.1.1 in c:\\users\\c830277\\desktop\\python\\sentiment\\lib\\site-packages (from werkzeug>=1.0.1->tensorboard<2.18,>=2.17->tensorflow-intel==2.17.0->tensorflow) (2.1.5)\n"
     ]
    }
   ],
   "source": [
    "!pip install --upgrade tensorflow keras\n"
   ]
  },
  {
   "cell_type": "markdown",
   "metadata": {},
   "source": [
    "Importing TensorFlow: The code imports the TensorFlow library.\n",
    "Printing TensorFlow Version: It prints the version of TensorFlow that is currently installed."
   ]
  },
  {
   "cell_type": "code",
   "execution_count": 39,
   "metadata": {},
   "outputs": [
    {
     "name": "stdout",
     "output_type": "stream",
     "text": [
      "2.17.0\n"
     ]
    }
   ],
   "source": [
    "import tensorflow as tf\n",
    "print(tf.__version__)\n"
   ]
  },
  {
   "cell_type": "markdown",
   "metadata": {},
   "source": [
    "Installing Keras Tuner: The code installs the Keras Tuner library, which is used for hyperparameter tuning of Keras models.\n",
    "Installing TensorFlow and Keras: It installs or upgrades the TensorFlow and Keras libraries to their latest versions."
   ]
  },
  {
   "cell_type": "code",
   "execution_count": 40,
   "metadata": {},
   "outputs": [
    {
     "name": "stdout",
     "output_type": "stream",
     "text": [
      "Collecting keras-tuner\n",
      "  Using cached keras_tuner-1.4.7-py3-none-any.whl.metadata (5.4 kB)\n",
      "Requirement already satisfied: keras in c:\\users\\c830277\\desktop\\python\\sentiment\\lib\\site-packages (from keras-tuner) (3.5.0)\n",
      "Requirement already satisfied: packaging in c:\\users\\c830277\\desktop\\python\\sentiment\\lib\\site-packages (from keras-tuner) (24.1)\n",
      "Requirement already satisfied: requests in c:\\users\\c830277\\desktop\\python\\sentiment\\lib\\site-packages (from keras-tuner) (2.32.3)\n",
      "Collecting kt-legacy (from keras-tuner)\n",
      "  Using cached kt_legacy-1.0.5-py3-none-any.whl.metadata (221 bytes)\n",
      "Requirement already satisfied: absl-py in c:\\users\\c830277\\desktop\\python\\sentiment\\lib\\site-packages (from keras->keras-tuner) (2.1.0)\n",
      "Requirement already satisfied: numpy in c:\\users\\c830277\\desktop\\python\\sentiment\\lib\\site-packages (from keras->keras-tuner) (1.26.4)\n",
      "Requirement already satisfied: rich in c:\\users\\c830277\\desktop\\python\\sentiment\\lib\\site-packages (from keras->keras-tuner) (13.8.1)\n",
      "Requirement already satisfied: namex in c:\\users\\c830277\\desktop\\python\\sentiment\\lib\\site-packages (from keras->keras-tuner) (0.0.8)\n",
      "Requirement already satisfied: h5py in c:\\users\\c830277\\desktop\\python\\sentiment\\lib\\site-packages (from keras->keras-tuner) (3.11.0)\n",
      "Requirement already satisfied: optree in c:\\users\\c830277\\desktop\\python\\sentiment\\lib\\site-packages (from keras->keras-tuner) (0.12.1)\n",
      "Requirement already satisfied: ml-dtypes in c:\\users\\c830277\\desktop\\python\\sentiment\\lib\\site-packages (from keras->keras-tuner) (0.4.1)\n",
      "Requirement already satisfied: charset-normalizer<4,>=2 in c:\\users\\c830277\\desktop\\python\\sentiment\\lib\\site-packages (from requests->keras-tuner) (3.3.2)\n",
      "Requirement already satisfied: idna<4,>=2.5 in c:\\users\\c830277\\desktop\\python\\sentiment\\lib\\site-packages (from requests->keras-tuner) (3.8)\n",
      "Requirement already satisfied: urllib3<3,>=1.21.1 in c:\\users\\c830277\\desktop\\python\\sentiment\\lib\\site-packages (from requests->keras-tuner) (2.2.3)\n",
      "Requirement already satisfied: certifi>=2017.4.17 in c:\\users\\c830277\\desktop\\python\\sentiment\\lib\\site-packages (from requests->keras-tuner) (2024.8.30)\n",
      "Requirement already satisfied: typing-extensions>=4.5.0 in c:\\users\\c830277\\desktop\\python\\sentiment\\lib\\site-packages (from optree->keras->keras-tuner) (4.12.2)\n",
      "Requirement already satisfied: markdown-it-py>=2.2.0 in c:\\users\\c830277\\desktop\\python\\sentiment\\lib\\site-packages (from rich->keras->keras-tuner) (3.0.0)\n",
      "Requirement already satisfied: pygments<3.0.0,>=2.13.0 in c:\\users\\c830277\\desktop\\python\\sentiment\\lib\\site-packages (from rich->keras->keras-tuner) (2.18.0)\n",
      "Requirement already satisfied: mdurl~=0.1 in c:\\users\\c830277\\desktop\\python\\sentiment\\lib\\site-packages (from markdown-it-py>=2.2.0->rich->keras->keras-tuner) (0.1.2)\n",
      "Using cached keras_tuner-1.4.7-py3-none-any.whl (129 kB)\n",
      "Using cached kt_legacy-1.0.5-py3-none-any.whl (9.6 kB)\n",
      "Installing collected packages: kt-legacy, keras-tuner\n",
      "Successfully installed keras-tuner-1.4.7 kt-legacy-1.0.5\n",
      "Requirement already satisfied: tensorflow in c:\\users\\c830277\\desktop\\python\\sentiment\\lib\\site-packages (2.17.0)\n",
      "Requirement already satisfied: keras in c:\\users\\c830277\\desktop\\python\\sentiment\\lib\\site-packages (3.5.0)\n",
      "Requirement already satisfied: tensorflow-intel==2.17.0 in c:\\users\\c830277\\desktop\\python\\sentiment\\lib\\site-packages (from tensorflow) (2.17.0)\n",
      "Requirement already satisfied: absl-py>=1.0.0 in c:\\users\\c830277\\desktop\\python\\sentiment\\lib\\site-packages (from tensorflow-intel==2.17.0->tensorflow) (2.1.0)\n",
      "Requirement already satisfied: astunparse>=1.6.0 in c:\\users\\c830277\\desktop\\python\\sentiment\\lib\\site-packages (from tensorflow-intel==2.17.0->tensorflow) (1.6.3)\n",
      "Requirement already satisfied: flatbuffers>=24.3.25 in c:\\users\\c830277\\desktop\\python\\sentiment\\lib\\site-packages (from tensorflow-intel==2.17.0->tensorflow) (24.3.25)\n",
      "Requirement already satisfied: gast!=0.5.0,!=0.5.1,!=0.5.2,>=0.2.1 in c:\\users\\c830277\\desktop\\python\\sentiment\\lib\\site-packages (from tensorflow-intel==2.17.0->tensorflow) (0.6.0)\n",
      "Requirement already satisfied: google-pasta>=0.1.1 in c:\\users\\c830277\\desktop\\python\\sentiment\\lib\\site-packages (from tensorflow-intel==2.17.0->tensorflow) (0.2.0)\n",
      "Requirement already satisfied: h5py>=3.10.0 in c:\\users\\c830277\\desktop\\python\\sentiment\\lib\\site-packages (from tensorflow-intel==2.17.0->tensorflow) (3.11.0)\n",
      "Requirement already satisfied: libclang>=13.0.0 in c:\\users\\c830277\\desktop\\python\\sentiment\\lib\\site-packages (from tensorflow-intel==2.17.0->tensorflow) (18.1.1)\n",
      "Requirement already satisfied: ml-dtypes<0.5.0,>=0.3.1 in c:\\users\\c830277\\desktop\\python\\sentiment\\lib\\site-packages (from tensorflow-intel==2.17.0->tensorflow) (0.4.1)\n",
      "Requirement already satisfied: opt-einsum>=2.3.2 in c:\\users\\c830277\\desktop\\python\\sentiment\\lib\\site-packages (from tensorflow-intel==2.17.0->tensorflow) (3.3.0)\n",
      "Requirement already satisfied: packaging in c:\\users\\c830277\\desktop\\python\\sentiment\\lib\\site-packages (from tensorflow-intel==2.17.0->tensorflow) (24.1)\n",
      "Requirement already satisfied: protobuf!=4.21.0,!=4.21.1,!=4.21.2,!=4.21.3,!=4.21.4,!=4.21.5,<5.0.0dev,>=3.20.3 in c:\\users\\c830277\\desktop\\python\\sentiment\\lib\\site-packages (from tensorflow-intel==2.17.0->tensorflow) (4.25.4)\n",
      "Requirement already satisfied: requests<3,>=2.21.0 in c:\\users\\c830277\\desktop\\python\\sentiment\\lib\\site-packages (from tensorflow-intel==2.17.0->tensorflow) (2.32.3)\n",
      "Requirement already satisfied: setuptools in c:\\users\\c830277\\desktop\\python\\sentiment\\lib\\site-packages (from tensorflow-intel==2.17.0->tensorflow) (65.5.0)\n",
      "Requirement already satisfied: six>=1.12.0 in c:\\users\\c830277\\desktop\\python\\sentiment\\lib\\site-packages (from tensorflow-intel==2.17.0->tensorflow) (1.16.0)\n",
      "Requirement already satisfied: termcolor>=1.1.0 in c:\\users\\c830277\\desktop\\python\\sentiment\\lib\\site-packages (from tensorflow-intel==2.17.0->tensorflow) (2.4.0)\n",
      "Requirement already satisfied: typing-extensions>=3.6.6 in c:\\users\\c830277\\desktop\\python\\sentiment\\lib\\site-packages (from tensorflow-intel==2.17.0->tensorflow) (4.12.2)\n",
      "Requirement already satisfied: wrapt>=1.11.0 in c:\\users\\c830277\\desktop\\python\\sentiment\\lib\\site-packages (from tensorflow-intel==2.17.0->tensorflow) (1.16.0)\n",
      "Requirement already satisfied: grpcio<2.0,>=1.24.3 in c:\\users\\c830277\\desktop\\python\\sentiment\\lib\\site-packages (from tensorflow-intel==2.17.0->tensorflow) (1.66.1)\n",
      "Requirement already satisfied: tensorboard<2.18,>=2.17 in c:\\users\\c830277\\desktop\\python\\sentiment\\lib\\site-packages (from tensorflow-intel==2.17.0->tensorflow) (2.17.1)\n",
      "Requirement already satisfied: tensorflow-io-gcs-filesystem>=0.23.1 in c:\\users\\c830277\\desktop\\python\\sentiment\\lib\\site-packages (from tensorflow-intel==2.17.0->tensorflow) (0.31.0)\n",
      "Requirement already satisfied: numpy<2.0.0,>=1.23.5 in c:\\users\\c830277\\desktop\\python\\sentiment\\lib\\site-packages (from tensorflow-intel==2.17.0->tensorflow) (1.26.4)\n",
      "Requirement already satisfied: rich in c:\\users\\c830277\\desktop\\python\\sentiment\\lib\\site-packages (from keras) (13.8.1)\n",
      "Requirement already satisfied: namex in c:\\users\\c830277\\desktop\\python\\sentiment\\lib\\site-packages (from keras) (0.0.8)\n",
      "Requirement already satisfied: optree in c:\\users\\c830277\\desktop\\python\\sentiment\\lib\\site-packages (from keras) (0.12.1)\n",
      "Requirement already satisfied: markdown-it-py>=2.2.0 in c:\\users\\c830277\\desktop\\python\\sentiment\\lib\\site-packages (from rich->keras) (3.0.0)\n",
      "Requirement already satisfied: pygments<3.0.0,>=2.13.0 in c:\\users\\c830277\\desktop\\python\\sentiment\\lib\\site-packages (from rich->keras) (2.18.0)\n",
      "Requirement already satisfied: wheel<1.0,>=0.23.0 in c:\\users\\c830277\\desktop\\python\\sentiment\\lib\\site-packages (from astunparse>=1.6.0->tensorflow-intel==2.17.0->tensorflow) (0.44.0)\n",
      "Requirement already satisfied: mdurl~=0.1 in c:\\users\\c830277\\desktop\\python\\sentiment\\lib\\site-packages (from markdown-it-py>=2.2.0->rich->keras) (0.1.2)\n",
      "Requirement already satisfied: charset-normalizer<4,>=2 in c:\\users\\c830277\\desktop\\python\\sentiment\\lib\\site-packages (from requests<3,>=2.21.0->tensorflow-intel==2.17.0->tensorflow) (3.3.2)\n",
      "Requirement already satisfied: idna<4,>=2.5 in c:\\users\\c830277\\desktop\\python\\sentiment\\lib\\site-packages (from requests<3,>=2.21.0->tensorflow-intel==2.17.0->tensorflow) (3.8)\n",
      "Requirement already satisfied: urllib3<3,>=1.21.1 in c:\\users\\c830277\\desktop\\python\\sentiment\\lib\\site-packages (from requests<3,>=2.21.0->tensorflow-intel==2.17.0->tensorflow) (2.2.3)\n",
      "Requirement already satisfied: certifi>=2017.4.17 in c:\\users\\c830277\\desktop\\python\\sentiment\\lib\\site-packages (from requests<3,>=2.21.0->tensorflow-intel==2.17.0->tensorflow) (2024.8.30)\n",
      "Requirement already satisfied: markdown>=2.6.8 in c:\\users\\c830277\\desktop\\python\\sentiment\\lib\\site-packages (from tensorboard<2.18,>=2.17->tensorflow-intel==2.17.0->tensorflow) (3.7)\n",
      "Requirement already satisfied: tensorboard-data-server<0.8.0,>=0.7.0 in c:\\users\\c830277\\desktop\\python\\sentiment\\lib\\site-packages (from tensorboard<2.18,>=2.17->tensorflow-intel==2.17.0->tensorflow) (0.7.2)\n",
      "Requirement already satisfied: werkzeug>=1.0.1 in c:\\users\\c830277\\desktop\\python\\sentiment\\lib\\site-packages (from tensorboard<2.18,>=2.17->tensorflow-intel==2.17.0->tensorflow) (3.0.4)\n",
      "Requirement already satisfied: MarkupSafe>=2.1.1 in c:\\users\\c830277\\desktop\\python\\sentiment\\lib\\site-packages (from werkzeug>=1.0.1->tensorboard<2.18,>=2.17->tensorflow-intel==2.17.0->tensorflow) (2.1.5)\n"
     ]
    }
   ],
   "source": [
    "!pip install keras-tuner\n",
    "!pip install tensorflow keras\n",
    "\n"
   ]
  },
  {
   "cell_type": "markdown",
   "metadata": {},
   "source": [
    "Next step:\n",
    "\n",
    "Defining a Custom Classifier: The code defines a custom LSTM classifier class using Keras and scikit-learn’s BaseEstimator and ClassifierMixin.\n",
    "\n",
    "Initializing Parameters: The class constructor initializes parameters such as vocabulary size, embedding dimension, maximum sequence length, embedding matrix, LSTM units, dropout rate, and learning rate.\n",
    "\n",
    "Building the Model: The build_model method constructs a Sequential model with an embedding layer initialized with a constant embedding matrix, two LSTM layers (128 and 64 units), and dropout layers (0.5) for regularization. The model is compiled with the Adam optimizer, binary cross-entropy loss, and accuracy as a metric.\n",
    "\n",
    "Fitting the Model: The fit method builds and trains the model on the provided data.\n",
    "\n",
    "Predicting Labels: The predict method returns binary predictions for the input data.\n",
    "\n",
    "Scoring the Model: The score method evaluates the model on the provided data and returns the accuracy."
   ]
  },
  {
   "cell_type": "code",
   "execution_count": 41,
   "metadata": {},
   "outputs": [],
   "source": [
    "import numpy as np\n",
    "from tensorflow.keras.models import Sequential\n",
    "from tensorflow.keras.layers import Dense, LSTM, Dropout, Embedding\n",
    "from tensorflow.keras.initializers import Constant\n",
    "from sklearn.base import BaseEstimator, ClassifierMixin\n",
    "\n",
    "class KerasLSTMClassifier(BaseEstimator, ClassifierMixin):\n",
    "    def __init__(self, vocab_size, embedding_dim, max_len, embedding_matrix, lstm_units=128, dropout_rate=0.5, learning_rate=0.001):\n",
    "        self.vocab_size = vocab_size\n",
    "        self.embedding_dim = embedding_dim\n",
    "        self.max_len = max_len\n",
    "        self.embedding_matrix = embedding_matrix\n",
    "        self.lstm_units = lstm_units\n",
    "        self.dropout_rate = dropout_rate\n",
    "        self.learning_rate = learning_rate\n",
    "\n",
    "    def build_model(self):\n",
    "        model = Sequential()\n",
    "        model.add(Embedding(input_dim=self.vocab_size, \n",
    "                            output_dim=self.embedding_dim, \n",
    "                            input_length=self.max_len, \n",
    "                            embeddings_initializer=Constant(self.embedding_matrix)))\n",
    "        model.add(LSTM(self.lstm_units, return_sequences=True))\n",
    "        model.add(Dropout(self.dropout_rate))\n",
    "        model.add(LSTM(self.lstm_units // 2))\n",
    "        model.add(Dense(1, activation='sigmoid'))\n",
    "        model.compile(optimizer='adam', loss='binary_crossentropy', metrics=['accuracy'])\n",
    "        return model\n",
    "\n",
    "    def fit(self, X, y, **kwargs):\n",
    "        self.model = self.build_model()\n",
    "        self.model.fit(X, y, **kwargs)\n",
    "        return self\n",
    "\n",
    "    def predict(self, X):\n",
    "        return (self.model.predict(X) > 0.5).astype(\"int32\")\n",
    "\n",
    "    def score(self, X, y):\n",
    "        return self.model.evaluate(X, y)[1]\n"
   ]
  },
  {
   "cell_type": "markdown",
   "metadata": {},
   "source": [
    "Random Forest Model\n",
    "Random Forest is an ensemble model that creates many decision trees and combines their outputs to improve accuracy."
   ]
  },
  {
   "cell_type": "markdown",
   "metadata": {},
   "source": [
    "Next step:\n",
    "Loading IMDB Dataset: The code loads the IMDB dataset, limiting it to the top 10,000 words.\n",
    "Splitting Data: It splits the test data into validation data, using the first 10,000 samples for validation."
   ]
  },
  {
   "cell_type": "code",
   "execution_count": 42,
   "metadata": {},
   "outputs": [],
   "source": [
    "from tensorflow.keras.datasets import imdb\n",
    "\n",
    "# Load the IMDB dataset\n",
    "(train_data, train_labels), (test_data, test_labels) = imdb.load_data(num_words=10000)\n",
    "\n",
    "# Split the test data into validation data\n",
    "val_data = test_data[:10000]\n",
    "val_labels = test_labels[:10000]\n"
   ]
  },
  {
   "cell_type": "markdown",
   "metadata": {},
   "source": [
    "Next step:\n",
    "Loading Word Index: The code loads the word index from the IMDB dataset.\n",
    "Reversing Word Index: It reverses the word index to map integers back to words.\n",
    "Decoding Function: Defines a function to decode a sequence of integers back into readable review text.\n",
    "Decoding Reviews: The code decodes the training and validation reviews back into text format using the defined function."
   ]
  },
  {
   "cell_type": "code",
   "execution_count": 43,
   "metadata": {},
   "outputs": [],
   "source": [
    "from tensorflow.keras.datasets import imdb\n",
    "\n",
    "# Assuming you have a word_index from the IMDB dataset\n",
    "word_index = imdb.get_word_index()\n",
    "\n",
    "# Reverse the word_index to get word from index\n",
    "reverse_word_index = {value: key for key, value in word_index.items()}\n",
    "\n",
    "# Function to decode a review from tokenized integers back to words\n",
    "def decode_review(text_sequence):\n",
    "    return ' '.join([reverse_word_index.get(i, '?') for i in text_sequence])\n",
    "\n",
    "# Decode the reviews back into text\n",
    "train_text = [decode_review(review) for review in train_data]\n",
    "val_text = [decode_review(review) for review in val_data]\n"
   ]
  },
  {
   "cell_type": "markdown",
   "metadata": {},
   "source": [
    "Next step:\n",
    "Initializing TF-IDF Vectorizer: The code initializes a TF-IDF vectorizer, limiting it to the top 10,000 features.\n",
    "Fitting and Transforming Training Data: It fits the vectorizer on the training text data and transforms it into TF-IDF features.\n",
    "Transforming Validation Data: The validation text data is transformed into TF-IDF features using the vectorizer fitted on the training data."
   ]
  },
  {
   "cell_type": "code",
   "execution_count": 44,
   "metadata": {},
   "outputs": [],
   "source": [
    "from sklearn.feature_extraction.text import TfidfVectorizer\n",
    "\n",
    "# Convert text data into TF-IDF features\n",
    "tfidf_vectorizer = TfidfVectorizer(max_features=10000)\n",
    "\n",
    "# Fit and transform the training data\n",
    "X_train_tfidf = tfidf_vectorizer.fit_transform(train_text)\n",
    "\n",
    "# Transform the validation data (using the same vectorizer fitted on training data)\n",
    "X_val_tfidf = tfidf_vectorizer.transform(val_text)\n"
   ]
  },
  {
   "cell_type": "markdown",
   "metadata": {},
   "source": [
    "Next step:\n",
    "Training Random Forest Model: The code trains a Random Forest classifier with 100 estimators on the TF-IDF features of the training data.\n",
    "\n",
    "Predicting on Validation Data: It predicts the labels for the validation data using the trained Random Forest model.\n",
    "\n",
    "Evaluating the Model: The code evaluates the Random Forest model’s performance by generating a classification report, which includes precision, recall, and F1-score for both negative and positive classes."
   ]
  },
  {
   "cell_type": "code",
   "execution_count": 45,
   "metadata": {},
   "outputs": [
    {
     "name": "stdout",
     "output_type": "stream",
     "text": [
      "Random Forest Model Evaluation:\n",
      "               precision    recall  f1-score   support\n",
      "\n",
      "    Negative       0.83      0.85      0.84      5027\n",
      "    Positive       0.85      0.83      0.84      4973\n",
      "\n",
      "    accuracy                           0.84     10000\n",
      "   macro avg       0.84      0.84      0.84     10000\n",
      "weighted avg       0.84      0.84      0.84     10000\n",
      "\n"
     ]
    }
   ],
   "source": [
    "from sklearn.ensemble import RandomForestClassifier\n",
    "from sklearn.metrics import classification_report\n",
    "\n",
    "# Train a Random Forest model\n",
    "model_rf = RandomForestClassifier(n_estimators=100, random_state=42)\n",
    "model_rf.fit(X_train_tfidf, train_labels)  # Use train_labels instead of y_train\n",
    "\n",
    "# Predict on validation data using Random Forest model\n",
    "y_pred_rf = model_rf.predict(X_val_tfidf)\n",
    "\n",
    "# Evaluate the Random Forest model\n",
    "rf_class_report = classification_report(val_labels, y_pred_rf, target_names=['Negative', 'Positive'])  # Use val_labels instead of y_val\n",
    "print(\"Random Forest Model Evaluation:\\n\", rf_class_report)\n"
   ]
  },
  {
   "cell_type": "markdown",
   "metadata": {},
   "source": [
    "SVM Model"
   ]
  },
  {
   "cell_type": "markdown",
   "metadata": {},
   "source": [
    "Next step:\n",
    "Defining Parameter Grid: The code sets up a parameter grid for hyperparameter tuning, testing higher values for C and more iterations for the SVM classifier.\n",
    "\n",
    "Creating Pipeline: It creates a pipeline that includes a TF-IDF vectorizer, a standard scaler (without centering the mean), and an SVM classifier.\n",
    "\n",
    "Randomized Search: Uses RandomizedSearchCV to perform hyperparameter tuning with cross-validation, fitting the pipeline on the training data.\n",
    "\n",
    "Best Parameters: Prints the best parameters found during the search and retrieves the best pipeline.\n",
    "\n",
    "Predicting and Evaluating: The code predicts labels for the validation data using the best model and evaluates its performance by generating a classification report."
   ]
  },
  {
   "cell_type": "code",
   "execution_count": 46,
   "metadata": {},
   "outputs": [
    {
     "name": "stderr",
     "output_type": "stream",
     "text": [
      "c:\\Users\\C830277\\Desktop\\Python\\sentiment\\Lib\\site-packages\\sklearn\\svm\\_base.py:297: ConvergenceWarning: Solver terminated early (max_iter=3000).  Consider pre-processing your data with StandardScaler or MinMaxScaler.\n",
      "  warnings.warn(\n"
     ]
    },
    {
     "name": "stdout",
     "output_type": "stream",
     "text": [
      "Best parameters found:\n",
      " {'tfidf__max_features': 10000, 'svc__max_iter': 3000, 'svc__kernel': 'rbf', 'svc__C': 1.0}\n",
      "SVM Model Evaluation:\n",
      "               precision    recall  f1-score   support\n",
      "\n",
      "    Negative       0.86      0.80      0.83      5027\n",
      "    Positive       0.81      0.87      0.84      4973\n",
      "\n",
      "    accuracy                           0.83     10000\n",
      "   macro avg       0.84      0.83      0.83     10000\n",
      "weighted avg       0.84      0.83      0.83     10000\n",
      "\n"
     ]
    }
   ],
   "source": [
    "from sklearn.svm import SVC\n",
    "from sklearn.preprocessing import StandardScaler\n",
    "from sklearn.pipeline import Pipeline\n",
    "from sklearn.feature_extraction.text import TfidfVectorizer\n",
    "from sklearn.model_selection import RandomizedSearchCV\n",
    "from sklearn.metrics import classification_report\n",
    "import numpy as np\n",
    "\n",
    "# Define the parameter grid with increased max_iter and C values\n",
    "param_distributions = {\n",
    "    'tfidf__max_features': [10000],\n",
    "    'svc__C': np.logspace(0, 2, 3),       # Testing higher C values\n",
    "    'svc__max_iter': [2000, 3000],        # Testing more iterations\n",
    "    'svc__kernel': ['rbf']                # Keeping RBF as it performs well\n",
    "}\n",
    "\n",
    "# Create a pipeline with TF-IDF vectorizer, scaler, and SVM classifier\n",
    "pipeline = Pipeline([\n",
    "    ('tfidf', TfidfVectorizer(max_features=10000)),\n",
    "    ('scaler', StandardScaler(with_mean=False)),  # Scaling (with mean=False for sparse matrix)\n",
    "    ('svc', SVC(random_state=42))\n",
    "])\n",
    "\n",
    "# Create RandomizedSearchCV\n",
    "random_search = RandomizedSearchCV(pipeline, param_distributions, n_iter=6, cv=3, n_jobs=-1, random_state=42)\n",
    "\n",
    "# Fit RandomizedSearchCV\n",
    "random_search.fit(train_text, train_labels)\n",
    "\n",
    "# Best parameters and model\n",
    "print(\"Best parameters found:\\n\", random_search.best_params_)\n",
    "best_pipeline = random_search.best_estimator_\n",
    "\n",
    "# Predict and evaluate with the best model\n",
    "y_pred_svm = best_pipeline.predict(val_text)\n",
    "svm_class_report = classification_report(val_labels, y_pred_svm, target_names=['Negative', 'Positive'])\n",
    "print(\"SVM Model Evaluation:\\n\", svm_class_report)\n"
   ]
  },
  {
   "cell_type": "markdown",
   "metadata": {},
   "source": [
    "Next step:\n",
    "Pipeline: Converts text to numbers, scales them, and classifies with SVM.\n",
    "Parameter Search: Tests different settings to find the best model.\n",
    "Randomized Search: Tries various parameter combinations.\n",
    "Training: Trains the model with the best settings.\n",
    "Evaluation: Predicts and evaluates performance on validation data."
   ]
  },
  {
   "cell_type": "code",
   "execution_count": 47,
   "metadata": {},
   "outputs": [
    {
     "name": "stderr",
     "output_type": "stream",
     "text": [
      "c:\\Users\\C830277\\Desktop\\Python\\sentiment\\Lib\\site-packages\\sklearn\\svm\\_base.py:297: ConvergenceWarning: Solver terminated early (max_iter=2000).  Consider pre-processing your data with StandardScaler or MinMaxScaler.\n",
      "  warnings.warn(\n"
     ]
    },
    {
     "name": "stdout",
     "output_type": "stream",
     "text": [
      "Best parameters found:\n",
      " {'tfidf__max_features': 10000, 'svc__max_iter': 2000, 'svc__kernel': 'linear', 'svc__C': 1}\n",
      "SVM Model Evaluation:\n",
      "               precision    recall  f1-score   support\n",
      "\n",
      "    Negative       0.78      0.81      0.79      5027\n",
      "    Positive       0.80      0.77      0.79      4973\n",
      "\n",
      "    accuracy                           0.79     10000\n",
      "   macro avg       0.79      0.79      0.79     10000\n",
      "weighted avg       0.79      0.79      0.79     10000\n",
      "\n"
     ]
    }
   ],
   "source": [
    "from sklearn.preprocessing import MaxAbsScaler\n",
    "from sklearn.model_selection import RandomizedSearchCV\n",
    "\n",
    "# Create a pipeline with TF-IDF vectorizer, MaxAbsScaler, and SVM classifier\n",
    "pipeline = Pipeline([\n",
    "    ('tfidf', TfidfVectorizer(max_features=10000)),\n",
    "    ('scaler', MaxAbsScaler()),  # Scaling with MaxAbsScaler for sparse input\n",
    "    ('svc', SVC(random_state=42))\n",
    "])\n",
    "\n",
    "# Parameter distribution for RandomizedSearchCV\n",
    "param_distributions = {\n",
    "    'tfidf__max_features': [5000, 10000],\n",
    "    'svc__kernel': ['linear', 'rbf'],\n",
    "    'svc__C': [0.001, 0.01, 1, 10],\n",
    "    'svc__max_iter': [1000, 2000, 3000]\n",
    "}\n",
    "\n",
    "# RandomizedSearchCV with 6 iterations\n",
    "random_search = RandomizedSearchCV(pipeline, param_distributions, n_iter=6, cv=3, n_jobs=-1, random_state=42)\n",
    "\n",
    "# Fit RandomizedSearchCV\n",
    "random_search.fit(train_text, train_labels)\n",
    "\n",
    "# Best parameters and model\n",
    "print(\"Best parameters found:\\n\", random_search.best_params_)\n",
    "\n",
    "# Predict on validation data using the best SVM model\n",
    "y_pred_svm = random_search.best_estimator_.predict(val_text)\n",
    "\n",
    "# Evaluate the SVM model\n",
    "svm_class_report = classification_report(val_labels, y_pred_svm, target_names=['Negative', 'Positive'])\n",
    "print(\"SVM Model Evaluation:\\n\", svm_class_report)\n"
   ]
  },
  {
   "cell_type": "markdown",
   "metadata": {},
   "source": [
    "Bag-of-Words Model"
   ]
  },
  {
   "cell_type": "code",
   "execution_count": 48,
   "metadata": {},
   "outputs": [
    {
     "name": "stdout",
     "output_type": "stream",
     "text": [
      "Random Forest Training Time: 45.73 seconds\n",
      "Random Forest Model Evaluation:\n",
      "              precision    recall  f1-score   support\n",
      "\n",
      "    Negative       0.83      0.85      0.84     12500\n",
      "    Positive       0.84      0.82      0.83     12500\n",
      "\n",
      "    accuracy                           0.83     25000\n",
      "   macro avg       0.83      0.83      0.83     25000\n",
      "weighted avg       0.83      0.83      0.83     25000\n",
      "\n",
      "Accuracy: 0.8336\n",
      "Precision: 0.8422\n",
      "Recall: 0.8211\n",
      "F1-score: 0.8315\n",
      "Confusion Matrix:\n",
      "[[10577  1923]\n",
      " [ 2236 10264]]\n"
     ]
    }
   ],
   "source": [
    "# Import necessary libraries\n",
    "import numpy as np\n",
    "from sklearn.feature_extraction.text import CountVectorizer\n",
    "from sklearn.ensemble import RandomForestClassifier\n",
    "from sklearn.metrics import classification_report, accuracy_score, precision_score, recall_score, f1_score, confusion_matrix\n",
    "from tensorflow.keras.datasets import imdb\n",
    "import time\n",
    "\n",
    "# Load the IMDB dataset\n",
    "(train_data, train_labels), (test_data, test_labels) = imdb.load_data(num_words=10000)\n",
    "\n",
    "# Prepare text data for Bag-of-Words vectorization\n",
    "def decode_review(text_sequence):\n",
    "    word_index = imdb.get_word_index()\n",
    "    reverse_word_index = {value: key for key, value in word_index.items()}\n",
    "    return ' '.join([reverse_word_index.get(i, '?') for i in text_sequence])\n",
    "\n",
    "# Decode the reviews\n",
    "train_text = [decode_review(review) for review in train_data]\n",
    "test_text = [decode_review(review) for review in test_data]\n",
    "\n",
    "# Initialize Bag-of-Words Vectorizer\n",
    "bow_vectorizer = CountVectorizer(max_features=5000)  # Reduce features for faster processing\n",
    "\n",
    "# Transform text data into Bag-of-Words features\n",
    "X_train_bow = bow_vectorizer.fit_transform(train_text)\n",
    "X_test_bow = bow_vectorizer.transform(test_text)\n",
    "\n",
    "# Define and train the Random Forest model using Bag-of-Words features\n",
    "rf_model = RandomForestClassifier(n_estimators=50, random_state=42)  # Reduce the number of estimators\n",
    "start_time = time.time()\n",
    "rf_model.fit(X_train_bow, train_labels)\n",
    "print(f\"Random Forest Training Time: {time.time() - start_time:.2f} seconds\")\n",
    "\n",
    "# Make predictions using the trained Random Forest model\n",
    "rf_predictions = rf_model.predict(X_test_bow)\n",
    "\n",
    "# Evaluate the Random Forest model\n",
    "print(\"Random Forest Model Evaluation:\")\n",
    "print(classification_report(test_labels, rf_predictions, target_names=['Negative', 'Positive']))\n",
    "print(f\"Accuracy: {accuracy_score(test_labels, rf_predictions):.4f}\")\n",
    "print(f\"Precision: {precision_score(test_labels, rf_predictions):.4f}\")\n",
    "print(f\"Recall: {recall_score(test_labels, rf_predictions):.4f}\")\n",
    "print(f\"F1-score: {f1_score(test_labels, rf_predictions):.4f}\")\n",
    "print(\"Confusion Matrix:\")\n",
    "print(confusion_matrix(test_labels, rf_predictions))\n"
   ]
  },
  {
   "cell_type": "markdown",
   "metadata": {},
   "source": [
    "Lasso Model"
   ]
  },
  {
   "cell_type": "code",
   "execution_count": 1,
   "metadata": {},
   "outputs": [],
   "source": [
    "import numpy as np\n",
    "import matplotlib.pyplot as plt\n",
    "from sklearn.feature_extraction.text import CountVectorizer\n",
    "from sklearn.linear_model import Lasso\n",
    "from sklearn.metrics import accuracy_score, precision_score, recall_score, f1_score, confusion_matrix\n",
    "from sklearn.preprocessing import Binarizer\n",
    "from tensorflow.keras.datasets import imdb\n",
    "\n",
    "# Load the IMDB dataset\n",
    "(train_data, train_labels), (test_data, test_labels) = imdb.load_data(num_words=10000)\n",
    "\n",
    "# Prepare text data for Bag-of-Words vectorization\n",
    "train_text = [' '.join([str(word) for word in review]) for review in train_data]\n",
    "test_text = [' '.join([str(word) for word in review]) for review in test_data]\n",
    "\n",
    "# Initialize Bag-of-Words Vectorizer\n",
    "bow_vectorizer = CountVectorizer(max_features=5000)\n",
    "\n",
    "# Transform text data into Bag-of-Words features\n",
    "X_train_bow = bow_vectorizer.fit_transform(train_text)\n",
    "X_test_bow = bow_vectorizer.transform(test_text)\n",
    "\n",
    "# Convert to dense format (Lasso needs dense format, not sparse)\n",
    "X_train_bow_dense = X_train_bow.toarray()\n",
    "X_test_bow_dense = X_test_bow.toarray()\n",
    "\n",
    "# Define and train the Lasso model\n",
    "lasso_model = Lasso(alpha=0.001, random_state=42, max_iter=1000)\n",
    "lasso_model.fit(X_train_bow_dense, train_labels)\n",
    "\n",
    "# Make predictions using the trained Lasso model\n",
    "lasso_predictions = lasso_model.predict(X_test_bow_dense)\n",
    "\n",
    "# Since Lasso outputs continuous values, we need to threshold it to get binary classification (0 or 1)\n",
    "binarizer = Binarizer(threshold=0.5)\n",
    "lasso_predictions_binary = binarizer.fit_transform(lasso_predictions.reshape(-1, 1)).flatten()\n",
    "\n",
    "# Evaluate the Lasso model\n",
    "accuracy = accuracy_score(test_labels, lasso_predictions_binary)\n",
    "precision = precision_score(test_labels, lasso_predictions_binary)\n",
    "recall = recall_score(test_labels, lasso_predictions_binary)\n",
    "f1 = f1_score(test_labels, lasso_predictions_binary)\n",
    "conf_matrix = confusion_matrix(test_labels, lasso_predictions_binary)\n",
    "\n",
    "# Print evaluation metrics directly within the evaluation section\n",
    "print(\"Lasso Model Evaluation:\")\n",
    "print(f\"Accuracy: {accuracy:.4f}\")\n",
    "print(f\"Precision: {precision:.4f}\")\n",
    "print(f\"Recall: {recall:.4f}\")\n",
    "print(f\"F1-score: {f1:.4f}\")\n",
    "print(\"Confusion Matrix:\")\n",
    "print(conf_matrix)\n",
    "\n",
    "# Visualization of the confusion matrix\n",
    "plt.figure(figsize=(10, 7))\n",
    "plt.imshow(conf_matrix, interpolation='nearest', cmap=plt.cm.Blues)\n",
    "plt.title('Confusion Matrix')\n",
    "plt.colorbar()\n",
    "tick_marks = np.arange(2)\n",
    "plt.xticks(tick_marks, ['Negative', 'Positive'], rotation=45)\n",
    "plt.yticks(tick_marks, ['Negative', 'Positive'])\n",
    "\n",
    "thresh = conf_matrix.max() / 2.\n",
    "for i, j in np.ndindex(conf_matrix.shape):\n",
    "    plt.text(j, i, format(conf_matrix[i, j], 'd'),\n",
    "             horizontalalignment=\"center\",\n",
    "             color=\"white\" if conf_matrix[i, j] > thresh else \"black\")\n",
    "\n",
    "plt.tight_layout()\n",
    "plt.ylabel('True label')\n",
    "plt.xlabel('Predicted label')\n",
    "plt.show()\n"
   ]
  },
  {
   "cell_type": "markdown",
   "metadata": {},
   "source": [
    "Ensembling predictions"
   ]
  },
  {
   "cell_type": "markdown",
   "metadata": {},
   "source": [
    "Next step:\n",
    "Predictions: Gets predictions from Random Forest, SVM, Logistic Regression models.\n",
    "Ensemble: Combines predictions using majority voting.\n",
    "Evaluation: Calculates and prints accuracy, precision, recall, F1-score, and confusion matrix for the ensemble model."
   ]
  },
  {
   "cell_type": "code",
   "execution_count": 2,
   "metadata": {},
   "outputs": [
    {
     "name": "stdout",
     "output_type": "stream",
     "text": [
      "Ensemble Evaluation Metrics:\n",
      "Accuracy: 0.8543\n",
      "Precision: 0.9160\n",
      "Recall: 0.7801\n",
      "F1-score: 0.8426\n",
      "Confusion Matrix:\n",
      "[[11606   894]\n",
      " [ 2749  9751]]\n"
     ]
    }
   ],
   "source": [
    "from sklearn.ensemble import RandomForestClassifier\n",
    "from sklearn.svm import SVC\n",
    "from sklearn.linear_model import LogisticRegression, Lasso\n",
    "from sklearn.metrics import accuracy_score, precision_score, recall_score, f1_score, confusion_matrix\n",
    "from sklearn.feature_extraction.text import TfidfVectorizer, CountVectorizer\n",
    "from sklearn.preprocessing import MaxAbsScaler\n",
    "import numpy as np\n",
    "\n",
    "# Assuming train_text, test_text, train_labels, and test_labels are already defined\n",
    "\n",
    "# Step 1: Text vectorization\n",
    "# TF-IDF Vectorizer\n",
    "tfidf_vectorizer = TfidfVectorizer(max_features=10000)\n",
    "train_tfidf = tfidf_vectorizer.fit_transform(train_text)\n",
    "test_tfidf = tfidf_vectorizer.transform(test_text)\n",
    "\n",
    "# Bag-of-Words Vectorizer\n",
    "bow_vectorizer = CountVectorizer(max_features=5000)\n",
    "train_bow = bow_vectorizer.fit_transform(train_text)\n",
    "test_bow = bow_vectorizer.transform(test_text)\n",
    "\n",
    "# Scale the Bag-of-Words features for Lasso model\n",
    "scaler = MaxAbsScaler()\n",
    "train_bow_scaled = scaler.fit_transform(train_bow)\n",
    "test_bow_scaled = scaler.transform(test_bow)\n",
    "\n",
    "# Step 2: Define and train models\n",
    "# Random Forest (with TF-IDF)\n",
    "random_forest_model = RandomForestClassifier(random_state=42)\n",
    "random_forest_model.fit(train_tfidf, train_labels)\n",
    "\n",
    "# SVM (with TF-IDF)\n",
    "svm_model = SVC(random_state=42)\n",
    "svm_model.fit(train_tfidf, train_labels)\n",
    "\n",
    "# Logistic Regression (with TF-IDF)\n",
    "logistic_regression_model = LogisticRegression(random_state=42, max_iter=1000)\n",
    "logistic_regression_model.fit(train_tfidf, train_labels)\n",
    "\n",
    "# Lasso model (with Bag-of-Words)\n",
    "lasso_model = Lasso(alpha=0.1, random_state=42)\n",
    "lasso_model.fit(train_bow_scaled, train_labels)\n",
    "\n",
    "# Step 3: Get predictions from all models\n",
    "random_forest_predictions = random_forest_model.predict(test_tfidf)\n",
    "svm_predictions = svm_model.predict(test_tfidf)\n",
    "logistic_regression_predictions = logistic_regression_model.predict(test_tfidf)\n",
    "\n",
    "# For Lasso model, round predictions to 0 or 1 as it outputs continuous values\n",
    "lasso_predictions = np.round(lasso_model.predict(test_bow_scaled)).astype(int)\n",
    "\n",
    "# Step 4: Majority Voting Ensemble\n",
    "ensemble_predictions = np.array([\n",
    "    np.bincount([rf, svm, lr, lasso]).argmax()\n",
    "    for rf, svm, lr, lasso in zip(random_forest_predictions, svm_predictions, logistic_regression_predictions, lasso_predictions)\n",
    "])\n",
    "\n",
    "# Step 5: Calculate and print ensemble evaluation metrics\n",
    "ensemble_accuracy = accuracy_score(test_labels, ensemble_predictions)\n",
    "ensemble_precision = precision_score(test_labels, ensemble_predictions)\n",
    "ensemble_recall = recall_score(test_labels, ensemble_predictions)\n",
    "ensemble_f1 = f1_score(test_labels, ensemble_predictions)\n",
    "ensemble_confusion_matrix = confusion_matrix(test_labels, ensemble_predictions)\n",
    "\n",
    "# Print the evaluation metrics for the ensemble model\n",
    "print(\"Ensemble Evaluation Metrics:\")\n",
    "print(f\"Accuracy: {ensemble_accuracy:.4f}\")\n",
    "print(f\"Precision: {ensemble_precision:.4f}\")\n",
    "print(f\"Recall: {ensemble_recall:.4f}\")\n",
    "print(f\"F1-score: {ensemble_f1:.4f}\")\n",
    "print(\"Confusion Matrix:\")\n",
    "print(ensemble_confusion_matrix)\n"
   ]
  },
  {
   "cell_type": "markdown",
   "metadata": {},
   "source": [
    "Confusion Matrix Heatmap"
   ]
  },
  {
   "cell_type": "markdown",
   "metadata": {},
   "source": [
    "This code evaluates and visualizes the performance of a machine learning model by plotting and interpreting the confusion matrix. Here’s a simple breakdown:\n",
    "\n",
    "Importing necessary libraries for plotting and calculating the confusion matrix.\n",
    "Defining a function to plot and return the confusion matrix using a heatmap.\n",
    "Extracting the true labels from a test dataset.\n",
    "Getting and plotting the confusion matrix for the model’s predictions.\n",
    "Printing and interpreting the confusion matrix to understand the number of true positives, true negatives, false positives, and false negatives.\n",
    "\n",
    "This heatmap helps you see where your model’s predictions are correct or incorrect and provides a detailed breakdown of these results."
   ]
  },
  {
   "cell_type": "code",
   "execution_count": 3,
   "metadata": {},
   "outputs": [
    {
     "data": {
      "image/png": "[encoded data removed]",
      "text/plain": [
       "<Figure size 800x600 with 1 Axes>"
      ]
     },
     "metadata": {},
     "output_type": "display_data"
    },
    {
     "name": "stdout",
     "output_type": "stream",
     "text": [
      "Confusion Matrix:\n",
      " [[11606   894]\n",
      " [ 2749  9751]]\n",
      "True Negatives (TN): 11606\n",
      "False Positives (FP): 894\n",
      "False Negatives (FN): 2749\n",
      "True Positives (TP): 9751\n",
      "\n",
      "Interpretation:\n",
      "The model correctly predicted 11606 negative examples (True Negatives).\n",
      "It incorrectly predicted 894 negative examples as positive (False Positives).\n",
      "The model incorrectly predicted 2749 positive examples as negative (False Negatives).\n",
      "It correctly predicted 9751 positive examples (True Positives).\n"
     ]
    }
   ],
   "source": [
    "import seaborn as sns\n",
    "import matplotlib.pyplot as plt\n",
    "from sklearn.metrics import confusion_matrix\n",
    "import numpy as np\n",
    "\n",
    "# Function to plot and return confusion matrix\n",
    "def plot_confusion_matrix(true_labels, predicted_labels, model_name):\n",
    "    # Compute the confusion matrix\n",
    "    cm = confusion_matrix(true_labels, predicted_labels)\n",
    "    \n",
    "    # Plot the confusion matrix\n",
    "    plt.figure(figsize=(8, 6))\n",
    "    sns.heatmap(cm, annot=True, fmt='d', cmap='Blues', cbar=False, \n",
    "                xticklabels=['Negative', 'Positive'], \n",
    "                yticklabels=['Negative', 'Positive'])\n",
    "    plt.xlabel('Predicted Labels')\n",
    "    plt.ylabel('True Labels')\n",
    "    plt.title(f'Confusion Matrix for {model_name}')\n",
    "    plt.show()\n",
    "\n",
    "    # Return the confusion matrix for further analysis\n",
    "    return cm\n",
    "\n",
    "# Assuming you have test_labels and ensemble_predictions already defined\n",
    "# Get the confusion matrix for the ensemble predictions\n",
    "cm = plot_confusion_matrix(test_labels, ensemble_predictions, 'Ensemble Model')\n",
    "\n",
    "# Print the confusion matrix\n",
    "print(\"Confusion Matrix:\\n\", cm)\n",
    "\n",
    "# Extract and print the values from the confusion matrix\n",
    "tn, fp, fn, tp = cm.ravel()\n",
    "\n",
    "print(f\"True Negatives (TN): {tn}\")\n",
    "print(f\"False Positives (FP): {fp}\")\n",
    "print(f\"False Negatives (FN): {fn}\")\n",
    "print(f\"True Positives (TP): {tp}\")\n",
    "\n",
    "# Explanation of the results\n",
    "print(\"\\nInterpretation:\")\n",
    "print(f\"The model correctly predicted {tn} negative examples (True Negatives).\")\n",
    "print(f\"It incorrectly predicted {fp} negative examples as positive (False Positives).\")\n",
    "print(f\"The model incorrectly predicted {fn} positive examples as negative (False Negatives).\")\n",
    "print(f\"It correctly predicted {tp} positive examples (True Positives).\")\n"
   ]
  },
  {
   "cell_type": "markdown",
   "metadata": {},
   "source": [
    "ROC Curve"
   ]
  },
  {
   "cell_type": "markdown",
   "metadata": {},
   "source": [
    "This code evaluates and visualizes the performance of a machine learning model by plotting the ROC (Receiver Operating Characteristic) curve and calculating the AUC (Area Under the Curve). Here’s a simple breakdown:\n",
    "\n",
    "Importing necessary libraries for calculating and plotting the ROC curve.\n",
    "Defining a function to compute and plot the ROC curve, and return the values.\n",
    "Calculating the ROC curve and AUC for the model’s predictions.\n",
    "Plotting the ROC curve to show the trade-off between the true positive rate and false positive rate.\n",
    "Printing the AUC value and the ROC curve values for further interpretation.\n",
    "\n",
    "This curve helps you see how well your model distinguishes between classes by showing the balance between correctly and incorrectly identified positive cases, and provides a detailed breakdown of these results."
   ]
  },
  {
   "cell_type": "code",
   "execution_count": 5,
   "metadata": {},
   "outputs": [
    {
     "data": {
      "image/png": "[encoded data removed]",
      "text/plain": [
       "<Figure size 640x480 with 1 Axes>"
      ]
     },
     "metadata": {},
     "output_type": "display_data"
    },
    {
     "data": {
      "image/png": "[encoded data removed]",
      "text/plain": [
       "<Figure size 640x480 with 1 Axes>"
      ]
     },
     "metadata": {},
     "output_type": "display_data"
    },
    {
     "data": {
      "image/png": "[encoded data removed]",
      "text/plain": [
       "<Figure size 640x480 with 1 Axes>"
      ]
     },
     "metadata": {},
     "output_type": "display_data"
    },
    {
     "name": "stdout",
     "output_type": "stream",
     "text": [
      "Random Forest AUC: 0.91\n",
      "Lasso Model AUC: 0.65\n",
      "Ensemble Model AUC: 0.91\n",
      "\n",
      "Random Forest - False Positive Rate (FPR): [0.0000e+00 8.0000e-05 8.0000e-05 2.4000e-04 2.4000e-04 2.4000e-04\n",
      " 4.8000e-04 9.6000e-04 1.4400e-03 2.0000e-03 3.0400e-03 4.4000e-03\n",
      " 6.6400e-03 8.6400e-03 1.1520e-02 1.6320e-02 2.1920e-02 2.8240e-02\n",
      " 3.5680e-02 4.5280e-02 5.8240e-02 7.2560e-02 8.8000e-02 1.0880e-01\n",
      " 1.3040e-01 1.5384e-01 1.8152e-01 2.1360e-01 2.4888e-01 2.8784e-01\n",
      " 3.3168e-01 3.7464e-01 4.2416e-01 4.7192e-01 5.2408e-01 5.7240e-01\n",
      " 6.1848e-01 6.6696e-01 7.1584e-01 7.6344e-01 8.0672e-01 8.4424e-01\n",
      " 8.7840e-01 9.1136e-01 9.3712e-01 9.5648e-01 9.7376e-01 9.8504e-01\n",
      " 9.9328e-01 9.9760e-01 9.9936e-01 1.0000e+00]\n",
      "Random Forest - True Positive Rate (TPR): [0.0000e+00 2.4000e-04 1.9200e-03 4.7200e-03 1.0720e-02 1.9360e-02\n",
      " 3.3120e-02 5.1280e-02 7.3920e-02 1.0304e-01 1.3560e-01 1.7232e-01\n",
      " 2.1240e-01 2.5568e-01 3.0344e-01 3.5416e-01 4.0536e-01 4.5600e-01\n",
      " 5.1096e-01 5.6216e-01 6.1280e-01 6.6264e-01 7.1208e-01 7.5144e-01\n",
      " 7.8744e-01 8.2112e-01 8.5264e-01 8.7776e-01 9.0120e-01 9.1944e-01\n",
      " 9.3632e-01 9.4960e-01 9.6176e-01 9.7152e-01 9.7800e-01 9.8424e-01\n",
      " 9.8872e-01 9.9208e-01 9.9384e-01 9.9640e-01 9.9808e-01 9.9912e-01\n",
      " 9.9952e-01 9.9976e-01 9.9984e-01 9.9992e-01 1.0000e+00 1.0000e+00\n",
      " 1.0000e+00 1.0000e+00 1.0000e+00 1.0000e+00]\n",
      "\n",
      "Lasso Model - False Positive Rate (FPR): [0.      0.      0.      ... 0.99976 0.99976 1.     ]\n",
      "Lasso Model - True Positive Rate (TPR): [0.0000e+00 8.0000e-05 3.2000e-04 ... 9.9984e-01 1.0000e+00 1.0000e+00]\n",
      "\n",
      "Ensemble Model - False Positive Rate (FPR): [0.      0.      0.      ... 0.99608 0.99624 1.     ]\n",
      "Ensemble Model - True Positive Rate (TPR): [0.0e+00 8.0e-05 8.8e-04 ... 1.0e+00 1.0e+00 1.0e+00]\n",
      "\n",
      "Interpretation:\n",
      "The ROC curve shows the trade-off between the True Positive Rate (Sensitivity) and False Positive Rate (1 - Specificity).\n",
      "The Area Under the Curve (AUC) indicates the model's ability to distinguish between positive and negative classes.\n",
      "Random Forest AUC: 0.91\n",
      "Lasso Model AUC: 0.65\n",
      "Ensemble Model AUC: 0.91\n",
      "An AUC of 0.91 indicates that the model has a good ability to differentiate between classes.\n"
     ]
    }
   ],
   "source": [
    "from sklearn.metrics import roc_curve, auc\n",
    "import matplotlib.pyplot as plt\n",
    "import numpy as np\n",
    "\n",
    "# Function to calculate and plot ROC curve and return values\n",
    "def plot_roc_curve(true_labels, predicted_probs, model_name):\n",
    "    # Compute the ROC curve\n",
    "    fpr, tpr, _ = roc_curve(true_labels, predicted_probs)\n",
    "    \n",
    "    # Calculate the AUC (Area Under the Curve)\n",
    "    roc_auc = auc(fpr, tpr)\n",
    "    \n",
    "    # Plot ROC curve\n",
    "    plt.figure()\n",
    "    plt.plot(fpr, tpr, color='darkorange', lw=2, label=f'ROC curve (area = {roc_auc:.2f})')\n",
    "    plt.plot([0, 1], [0, 1], color='navy', lw=2, linestyle='--')\n",
    "    plt.xlim([0.0, 1.0])\n",
    "    plt.ylim([0.0, 1.05])\n",
    "    plt.xlabel('False Positive Rate')\n",
    "    plt.ylabel('True Positive Rate')\n",
    "    plt.title(f'Receiver Operating Characteristic for {model_name}')\n",
    "    plt.legend(loc='lower right')\n",
    "    plt.show()\n",
    "\n",
    "    # Return FPR, TPR, and AUC for further explanation\n",
    "    return fpr, tpr, roc_auc\n",
    "\n",
    "# Assuming you have trained models and have predictions\n",
    "# Bag-of-Words + Random Forest\n",
    "# Vectorize the text data\n",
    "tfidf = CountVectorizer(max_features=5000)\n",
    "train_features = tfidf.fit_transform(train_text)\n",
    "test_features = tfidf.transform(test_text)\n",
    "\n",
    "# Train Random Forest model\n",
    "rf_model = RandomForestClassifier(n_estimators=50, random_state=42)\n",
    "rf_model.fit(train_features, train_labels)\n",
    "\n",
    "# Get prediction probabilities\n",
    "rf_probabilities = rf_model.predict_proba(test_features)[:, 1]\n",
    "\n",
    "# Train Lasso model\n",
    "lasso_model = Lasso(alpha=0.1)\n",
    "lasso_model.fit(train_features, train_labels)\n",
    "\n",
    "# Get prediction probabilities\n",
    "lasso_probabilities = lasso_model.predict(test_features)\n",
    "\n",
    "# Majority Voting Ensemble\n",
    "ensemble_probabilities = (rf_probabilities + lasso_probabilities) / 2  # Average probabilities for simplicity\n",
    "\n",
    "# Plot ROC for individual models and ensemble\n",
    "fpr_rf, tpr_rf, roc_auc_rf = plot_roc_curve(test_labels, rf_probabilities, 'Random Forest')\n",
    "fpr_lasso, tpr_lasso, roc_auc_lasso = plot_roc_curve(test_labels, lasso_probabilities, 'Lasso Model')\n",
    "fpr_ensemble, tpr_ensemble, roc_auc_ensemble = plot_roc_curve(test_labels, ensemble_probabilities, 'Ensemble Model')\n",
    "\n",
    "# Print AUC values\n",
    "print(f\"Random Forest AUC: {roc_auc_rf:.2f}\")\n",
    "print(f\"Lasso Model AUC: {roc_auc_lasso:.2f}\")\n",
    "print(f\"Ensemble Model AUC: {roc_auc_ensemble:.2f}\")\n",
    "\n",
    "# Print FPR and TPR\n",
    "print(\"\\nRandom Forest - False Positive Rate (FPR):\", fpr_rf)\n",
    "print(\"Random Forest - True Positive Rate (TPR):\", tpr_rf)\n",
    "print(\"\\nLasso Model - False Positive Rate (FPR):\", fpr_lasso)\n",
    "print(\"Lasso Model - True Positive Rate (TPR):\", tpr_lasso)\n",
    "print(\"\\nEnsemble Model - False Positive Rate (FPR):\", fpr_ensemble)\n",
    "print(\"Ensemble Model - True Positive Rate (TPR):\", tpr_ensemble)\n",
    "\n",
    "# Interpretation\n",
    "print(\"\\nInterpretation:\")\n",
    "print(\"The ROC curve shows the trade-off between the True Positive Rate (Sensitivity) and False Positive Rate (1 - Specificity).\")\n",
    "print(f\"The Area Under the Curve (AUC) indicates the model's ability to distinguish between positive and negative classes.\")\n",
    "print(f\"Random Forest AUC: {roc_auc_rf:.2f}\")\n",
    "print(f\"Lasso Model AUC: {roc_auc_lasso:.2f}\")\n",
    "print(f\"Ensemble Model AUC: {roc_auc_ensemble:.2f}\")\n",
    "\n",
    "if roc_auc_ensemble == 1:\n",
    "    print(\"An AUC of 1.0 means the model perfectly classifies all positive and negative instances.\")\n",
    "elif 0.5 < roc_auc_ensemble < 1:\n",
    "    print(f\"An AUC of {roc_auc_ensemble:.2f} indicates that the model has a good ability to differentiate between classes.\")\n",
    "elif roc_auc_ensemble == 0.5:\n",
    "    print(\"An AUC of 0.5 indicates that the model has no discriminatory power (similar to random guessing).\")\n",
    "else:\n",
    "    print(\"An AUC below 0.5 indicates that the model performs worse than random guessing.\")\n"
   ]
  },
  {
   "cell_type": "markdown",
   "metadata": {},
   "source": [
    "Precision-Recall Curve"
   ]
  },
  {
   "cell_type": "markdown",
   "metadata": {},
   "source": [
    "This code evaluates and visualizes the performance of a machine learning model by plotting the Precision-Recall curve and calculating the Average Precision Score. Here’s a simple breakdown:\n",
    "\n",
    "Importing necessary libraries for calculating and plotting the Precision-Recall curve.\n",
    "Defining a function to compute and plot the Precision-Recall curve, and return the values.\n",
    "Calculating the Precision-Recall curve and Average Precision Score for the model’s predictions.\n",
    "Plotting the Precision-Recall curve to show the relationship between precision (accuracy of positive predictions) and recall (ability to find all positive instances).\n",
    "Printing the Average Precision Score and the Precision-Recall values for further interpretation.\n",
    "\n",
    "This curve helps you understand how well your model identifies positive cases and how accurate those identifications are, providing a detailed breakdown of these results."
   ]
  },
  {
   "cell_type": "code",
   "execution_count": 1,
   "metadata": {},
   "outputs": [
    {
     "data": {
      "image/png": "[encoded data removed]",
      "text/plain": [
       "<Figure size 640x480 with 1 Axes>"
      ]
     },
     "metadata": {},
     "output_type": "display_data"
    },
    {
     "data": {
      "image/png": "[encoded data removed]",
      "text/plain": [
       "<Figure size 640x480 with 1 Axes>"
      ]
     },
     "metadata": {},
     "output_type": "display_data"
    },
    {
     "data": {
      "image/png": "[encoded data removed]",
      "text/plain": [
       "<Figure size 640x480 with 1 Axes>"
      ]
     },
     "metadata": {},
     "output_type": "display_data"
    },
    {
     "data": {
      "image/png": "[encoded data removed]",
      "text/plain": [
       "<Figure size 640x480 with 1 Axes>"
      ]
     },
     "metadata": {},
     "output_type": "display_data"
    },
    {
     "data": {
      "image/png": "[encoded data removed]",
      "text/plain": [
       "<Figure size 640x480 with 1 Axes>"
      ]
     },
     "metadata": {},
     "output_type": "display_data"
    },
    {
     "name": "stdout",
     "output_type": "stream",
     "text": [
      "Random Forest Average Precision Score: 0.73\n",
      "SVM Average Precision Score: 0.90\n",
      "Logistic Regression Average Precision Score: 0.89\n",
      "Lasso Model Average Precision Score: 0.50\n",
      "Ensemble Model Average Precision Score: 0.89\n",
      "\n",
      "Random Forest - Precision values: [0.5     0.50002 0.50004 ... 1.      1.      1.     ]\n",
      "Random Forest - Recall values: [1.0e+00 1.0e+00 1.0e+00 ... 1.6e-04 8.0e-05 0.0e+00]\n",
      "\n",
      "SVM - Precision values: [0.5     0.50002 0.50004 ... 1.      1.      1.     ]\n",
      "SVM - Recall values: [1.0e+00 1.0e+00 1.0e+00 ... 1.6e-04 8.0e-05 0.0e+00]\n",
      "\n",
      "Logistic Regression - Precision values: [0.5     0.50002 0.50004 ... 1.      1.      1.     ]\n",
      "Logistic Regression - Recall values: [1.0e+00 1.0e+00 1.0e+00 ... 1.6e-04 8.0e-05 0.0e+00]\n",
      "\n",
      "Lasso Model - Precision values: [0.5 1. ]\n",
      "Lasso Model - Recall values: [1. 0.]\n",
      "\n",
      "Ensemble Model - Precision values: [0.5     0.50002 0.50004 ... 1.      1.      1.     ]\n",
      "Ensemble Model - Recall values: [1.0e+00 1.0e+00 1.0e+00 ... 1.6e-04 8.0e-05 0.0e+00]\n",
      "\n",
      "Interpretation:\n",
      "The Precision-Recall curve helps visualize the trade-off between precision and recall at various threshold settings.\n",
      "The Average Precision Score summarizes the model’s precision across all recall levels.\n",
      "\n",
      "Key points to understand:\n",
      "- **Precision**: The proportion of positive predictions that were actually correct (True Positives / Predicted Positives).\n",
      "- **Recall**: The proportion of actual positives that were correctly predicted by the model (True Positives / Actual Positives).\n"
     ]
    }
   ],
   "source": [
    "import numpy as np\n",
    "import tensorflow as tf\n",
    "from tensorflow.keras.datasets import imdb\n",
    "from sklearn.feature_extraction.text import TfidfVectorizer, CountVectorizer\n",
    "from sklearn.preprocessing import MaxAbsScaler\n",
    "from sklearn.model_selection import train_test_split\n",
    "from sklearn.ensemble import RandomForestClassifier\n",
    "from sklearn.svm import SVC\n",
    "from sklearn.linear_model import LogisticRegression, Lasso\n",
    "from sklearn.metrics import precision_recall_curve, average_precision_score\n",
    "import matplotlib.pyplot as plt\n",
    "\n",
    "# Load the IMDB dataset\n",
    "(train_data, train_labels), (test_data, test_labels) = imdb.load_data(num_words=10000)\n",
    "\n",
    "# Build an index to word dictionary\n",
    "word_index = imdb.get_word_index()\n",
    "reverse_word_index = {value: key for (key, value) in word_index.items()}\n",
    "\n",
    "# Decode the reviews\n",
    "def decode_review(encoded_review):\n",
    "    return ' '.join([reverse_word_index.get(i - 3, '?') for i in encoded_review])\n",
    "\n",
    "# Decode the datasets\n",
    "train_text = [decode_review(review) for review in train_data]\n",
    "test_text = [decode_review(review) for review in test_data]\n",
    "\n",
    "# Convert labels to binary if not already\n",
    "train_labels = np.array(train_labels)\n",
    "test_labels = np.array(test_labels)\n",
    "\n",
    "# Initialize vectorizers and scaler\n",
    "tfidf_vectorizer = TfidfVectorizer(max_features=5000)  # Reduce number of features\n",
    "bow_vectorizer = CountVectorizer(max_features=2500)  # Reduce number of features\n",
    "scaler = MaxAbsScaler()\n",
    "\n",
    "# Transform text data into feature matrices\n",
    "train_tfidf = tfidf_vectorizer.fit_transform(train_text)\n",
    "test_tfidf = tfidf_vectorizer.transform(test_text)\n",
    "train_bow = bow_vectorizer.fit_transform(train_text)\n",
    "test_bow = bow_vectorizer.transform(test_text)\n",
    "train_bow_scaled = scaler.fit_transform(train_bow)\n",
    "test_bow_scaled = scaler.transform(test_bow)\n",
    "\n",
    "# Train models with smaller sample\n",
    "sample_size = 1000  # Using a subset for quick debugging\n",
    "train_text_sample, _, train_labels_sample, _ = train_test_split(train_text, train_labels, train_size=sample_size, random_state=42)\n",
    "train_tfidf_sample = tfidf_vectorizer.transform(train_text_sample)\n",
    "\n",
    "# Train models\n",
    "random_forest_model = RandomForestClassifier(random_state=42, n_estimators=10, max_depth=10)  # Reduced complexity\n",
    "random_forest_model.fit(train_tfidf_sample, train_labels_sample)\n",
    "\n",
    "svm_model = SVC(probability=True, random_state=42)  # SVM needs probability=True to use predict_proba\n",
    "svm_model.fit(train_tfidf_sample, train_labels_sample)\n",
    "\n",
    "logistic_regression_model = LogisticRegression(random_state=42, max_iter=500)  # Reduced iterations\n",
    "logistic_regression_model.fit(train_tfidf_sample, train_labels_sample)\n",
    "\n",
    "lasso_model = Lasso(alpha=0.1, random_state=42)\n",
    "lasso_model.fit(train_bow_scaled[:sample_size], train_labels_sample)\n",
    "\n",
    "# Function to calculate and plot Precision-Recall curve and return values\n",
    "def plot_precision_recall_curve(true_labels, predicted_probs, model_name):\n",
    "    precision, recall, _ = precision_recall_curve(true_labels, predicted_probs)\n",
    "    avg_precision = average_precision_score(true_labels, predicted_probs)\n",
    "    \n",
    "    plt.figure()\n",
    "    plt.plot(recall, precision, color='b', lw=2, label=f'Avg Precision = {avg_precision:.2f}')\n",
    "    plt.xlabel('Recall')\n",
    "    plt.ylabel('Precision')\n",
    "    plt.title(f'Precision-Recall Curve for {model_name}')\n",
    "    plt.legend(loc='lower left')\n",
    "    plt.show()\n",
    "    \n",
    "    return precision, recall, avg_precision\n",
    "\n",
    "# Get probability scores for each model\n",
    "rf_probs = random_forest_model.predict_proba(test_tfidf)[:, 1]\n",
    "svm_probs = svm_model.predict_proba(test_tfidf)[:, 1]\n",
    "logistic_probs = logistic_regression_model.predict_proba(test_tfidf)[:, 1]\n",
    "lasso_probs = lasso_model.predict(test_bow_scaled)  # Lasso is not a probabilistic classifier, use raw predictions\n",
    "lasso_probs = np.clip(lasso_probs, 0, 1)  # Ensure probabilities are in [0, 1]\n",
    "ensemble_probs = (rf_probs + svm_probs + logistic_probs) / 3\n",
    "\n",
    "# Plot Precision-Recall curves\n",
    "precision_rf, recall_rf, avg_precision_rf = plot_precision_recall_curve(test_labels, rf_probs, 'Random Forest')\n",
    "precision_svm, recall_svm, avg_precision_svm = plot_precision_recall_curve(test_labels, svm_probs, 'SVM')\n",
    "precision_logistic, recall_logistic, avg_precision_logistic = plot_precision_recall_curve(test_labels, logistic_probs, 'Logistic Regression')\n",
    "precision_lasso, recall_lasso, avg_precision_lasso = plot_precision_recall_curve(test_labels, lasso_probs, 'Lasso Model')\n",
    "precision_ensemble, recall_ensemble, avg_precision_ensemble = plot_precision_recall_curve(test_labels, ensemble_probs, 'Ensemble Model')\n",
    "\n",
    "# Print Average Precision Scores\n",
    "print(f\"Random Forest Average Precision Score: {avg_precision_rf:.2f}\")\n",
    "print(f\"SVM Average Precision Score: {avg_precision_svm:.2f}\")\n",
    "print(f\"Logistic Regression Average Precision Score: {avg_precision_logistic:.2f}\")\n",
    "print(f\"Lasso Model Average Precision Score: {avg_precision_lasso:.2f}\")\n",
    "print(f\"Ensemble Model Average Precision Score: {avg_precision_ensemble:.2f}\")\n",
    "\n",
    "# Print precision and recall values for each model (optional)\n",
    "print(\"\\nRandom Forest - Precision values:\", precision_rf)\n",
    "print(\"Random Forest - Recall values:\", recall_rf)\n",
    "print(\"\\nSVM - Precision values:\", precision_svm)\n",
    "print(\"SVM - Recall values:\", recall_svm)\n",
    "print(\"\\nLogistic Regression - Precision values:\", precision_logistic)\n",
    "print(\"Logistic Regression - Recall values:\", recall_logistic)\n",
    "print(\"\\nLasso Model - Precision values:\", precision_lasso)\n",
    "print(\"Lasso Model - Recall values:\", recall_lasso)\n",
    "print(\"\\nEnsemble Model - Precision values:\", precision_ensemble)\n",
    "print(\"Ensemble Model - Recall values:\", recall_ensemble)\n",
    "\n",
    "# Explanation of the Precision-Recall curve results\n",
    "print(\"\\nInterpretation:\")\n",
    "print(\"The Precision-Recall curve helps visualize the trade-off between precision and recall at various threshold settings.\")\n",
    "print(f\"The Average Precision Score summarizes the model’s precision across all recall levels.\")\n",
    "print(\"\\nKey points to understand:\")\n",
    "print(\"- **Precision**: The proportion of positive predictions that were actually correct (True Positives / Predicted Positives).\")\n",
    "print(\"- **Recall**: The proportion of actual positives that were correctly predicted by the model (True Positives / Actual Positives).\")\n"
   ]
  },
  {
   "cell_type": "code",
   "execution_count": 1,
   "metadata": {},
   "outputs": [],
   "source": [
    "import seaborn as sns\n",
    "import matplotlib.pyplot as plt\n",
    "from sklearn.metrics import confusion_matrix\n",
    "import numpy as np\n",
    "from sklearn.ensemble import RandomForestClassifier\n",
    "from sklearn.svm import SVC\n",
    "from sklearn.linear_model import LogisticRegression, Lasso\n",
    "from sklearn.feature_extraction.text import TfidfVectorizer, CountVectorizer\n",
    "from sklearn.preprocessing import MaxAbsScaler\n",
    "from tensorflow.keras.datasets import imdb\n",
    "\n",
    "# Function to plot and return confusion matrix\n",
    "def plot_confusion_matrix(true_labels, predicted_labels, model_name):\n",
    "    # Compute the confusion matrix\n",
    "    cm = confusion_matrix(true_labels, predicted_labels)\n",
    "    \n",
    "    # Plot the confusion matrix\n",
    "    plt.figure(figsize=(8, 6))\n",
    "    sns.heatmap(cm, annot=True, fmt='d', cmap='Blues', cbar=False, \n",
    "                xticklabels=['Negative', 'Positive'], \n",
    "                yticklabels=['Negative', 'Positive'])\n",
    "    plt.xlabel('Predicted Labels')\n",
    "    plt.ylabel('True Labels')\n",
    "    plt.title(f'Confusion Matrix for {model_name}')\n",
    "    plt.show()\n",
    "\n",
    "    # Return the confusion matrix for further analysis\n",
    "    return cm\n",
    "\n",
    "# Load the dataset\n",
    "(train_data, train_labels), (test_data, test_labels) = imdb.load_data(num_words=10000)\n",
    "\n",
    "# Decode the reviews back into text\n",
    "word_index = imdb.get_word_index()\n",
    "reverse_word_index = {value: key for key, value in word_index.items()}\n",
    "train_text = [' '.join([reverse_word_index.get(i, '?') for i in review]) for review in train_data]\n",
    "test_text = [' '.join([reverse_word_index.get(i, '?') for i in review]) for review in test_data]\n",
    "\n",
    "# Text vectorization\n",
    "tfidf_vectorizer = TfidfVectorizer(max_features=10000)\n",
    "train_tfidf = tfidf_vectorizer.fit_transform(train_text)\n",
    "test_tfidf = tfidf_vectorizer.transform(test_text)\n",
    "\n",
    "bow_vectorizer = CountVectorizer(max_features=5000)\n",
    "train_bow = bow_vectorizer.fit_transform(train_text)\n",
    "test_bow = bow_vectorizer.transform(test_text)\n",
    "\n",
    "# Scale the Bag-of-Words features for Lasso model\n",
    "scaler = MaxAbsScaler()\n",
    "train_bow_scaled = scaler.fit_transform(train_bow)\n",
    "test_bow_scaled = scaler.transform(test_bow)\n",
    "\n",
    "# Define and train models\n",
    "random_forest_model = RandomForestClassifier(random_state=42)\n",
    "random_forest_model.fit(train_tfidf, train_labels)\n",
    "\n",
    "svm_model = SVC(random_state=42)\n",
    "svm_model.fit(train_tfidf, train_labels)\n",
    "\n",
    "logistic_regression_model = LogisticRegression(random_state=42, max_iter=1000)\n",
    "logistic_regression_model.fit(train_tfidf, train_labels)\n",
    "\n",
    "lasso_model = Lasso(alpha=0.1, random_state=42)\n",
    "lasso_model.fit(train_bow_scaled, train_labels)\n",
    "\n",
    "# Get predictions from all models\n",
    "random_forest_predictions = random_forest_model.predict(test_tfidf)\n",
    "svm_predictions = svm_model.predict(test_tfidf)\n",
    "logistic_regression_predictions = logistic_regression_model.predict(test_tfidf)\n",
    "lasso_predictions = np.round(lasso_model.predict(test_bow_scaled)).astype(int)\n",
    "\n",
    "# Ensemble predictions using majority voting\n",
    "ensemble_predictions = np.array([\n",
    "    np.bincount([rf, svm, lr, lasso]).argmax()\n",
    "    for rf, svm, lr, lasso in zip(random_forest_predictions, svm_predictions, logistic_regression_predictions, lasso_predictions)\n",
    "])\n",
    "\n",
    "# Get the confusion matrix for each model and the ensemble model\n",
    "cm_rf = plot_confusion_matrix(test_labels, random_forest_predictions, 'Random Forest Model')\n",
    "cm_svm = plot_confusion_matrix(test_labels, svm_predictions, 'SVM Model')\n",
    "cm_lr = plot_confusion_matrix(test_labels, logistic_regression_predictions, 'Logistic Regression Model')\n",
    "cm_lasso = plot_confusion_matrix(test_labels, lasso_predictions, 'Lasso Model')\n",
    "cm_ensemble = plot_confusion_matrix(test_labels, ensemble_predictions, 'Ensemble Model')\n",
    "\n",
    "# Print the confusion matrices\n",
    "print(\"Confusion Matrix for Random Forest Model:\\n\", cm_rf)\n",
    "print(\"Confusion Matrix for SVM Model:\\n\", cm_svm)\n",
    "print(\"Confusion Matrix for Logistic Regression Model:\\n\", cm_lr)\n",
    "print(\"Confusion Matrix for Lasso Model:\\n\", cm_lasso)\n",
    "print(\"Confusion Matrix for Ensemble Model:\\n\", cm_ensemble)\n"
   ]
  }
 ],
 "metadata": {
  "kernelspec": {
   "display_name": "sentiment",
   "language": "python",
   "name": "python3"
  },
  "language_info": {
   "codemirror_mode": {
    "name": "ipython",
    "version": 3
   },
   "file_extension": ".py",
   "mimetype": "text/x-python",
   "name": "python",
   "nbconvert_exporter": "python",
   "pygments_lexer": "ipython3",
   "version": "3.11.9"
  }
 },
 "nbformat": 4,
 "nbformat_minor": 2
}
